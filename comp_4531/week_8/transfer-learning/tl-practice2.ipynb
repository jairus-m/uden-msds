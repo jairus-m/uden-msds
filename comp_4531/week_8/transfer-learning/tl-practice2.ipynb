{
 "cells": [
  {
   "attachments": {},
   "cell_type": "markdown",
   "metadata": {},
   "source": [
    "# Image classification\n",
    "\n",
    "In this notebook you will apply transfer learning to classify flowers into one the the categories.\n",
    "You will use a pre trained model from tensorflow hub to extend it for your purpose.\n",
    "\n",
    "Please review last notebooke tl-practice0.ipynb for backgound on VGG16\n"
   ]
  },
  {
   "cell_type": "code",
   "execution_count": null,
   "metadata": {
    "id": "KreP7lmuwRBe"
   },
   "outputs": [],
   "source": [
    "%reload_ext autoreload\n",
    "%autoreload 2\n",
    "\n",
    "import os\n",
    "import matplotlib as mpl\n",
    "import matplotlib.pyplot as plt\n",
    "import numpy as np\n",
    "import pandas as pd\n",
    "\n",
    "\n",
    "os.environ['TF_CPP_MIN_LOG_LEVEL'] = '3' \n",
    "mpl.rcParams['figure.figsize'] = (14, 4)\n",
    "mpl.rcParams['axes.grid'] = True\n",
    "\n",
    "import tensorflow as tf\n",
    "from tensorflow import keras\n",
    "import tensorflow_datasets as tfds\n",
    "from keras.utils import to_categorical\n",
    "from keras.applications.imagenet_utils import preprocess_input\n",
    "from keras.applications.vgg16 import VGG16\n",
    "from keras.applications.vgg16 import preprocess_input\n",
    "\n",
    "print(f\"Tensorflow Version {tf.__version__}, Keras Vesion: {keras.__version__}\")"
   ]
  },
  {
   "attachments": {},
   "cell_type": "markdown",
   "metadata": {
    "id": "z2Dez0TU-sax"
   },
   "source": [
    "## Load Flower Data set\n",
    "\n",
    "Explore it here: https://www.tensorflow.org/datasets/catalog/tf_flowers"
   ]
  },
  {
   "cell_type": "code",
   "execution_count": null,
   "metadata": {
    "colab": {
     "base_uri": "https://localhost:8080/",
     "height": 324,
     "referenced_widgets": [
      "7bdaaefae7ef4a458dc80b208af73e73",
      "c3a303eece1c44b39a91110aac6d2cda",
      "7ac1266fabda4924874fffa9f0466313",
      "4971a30ad6fd4e0eb68b66854f2d70c0",
      "f7d594c2a9bd449aae60feecec91a0de",
      "df8ba1429b6343809471e116a2d7304a",
      "57796efd438241adbf5688f6ffacd853",
      "15a3d26af8f84f709bcb5de46a77f9da",
      "56a18c2fa3af4ba985ea8f54f3a3766b",
      "362b827fab9a451c8489bf29188c5b09",
      "6be41aef0ac244bbaea0d575547f03b0"
     ]
    },
    "id": "bxuQbXMlwoPl",
    "outputId": "e509fb2a-e399-436d-f4bc-f21c1c22d4a0"
   },
   "outputs": [],
   "source": [
    "## Loading images and labels\n",
    "(train_ds, train_labels), (test_ds, test_labels) = tfds.load(  \"tf_flowers\",\n",
    "                        split=[\"train[:70%]\", \"train[:30%]\"], ## Train test split\n",
    "                        batch_size=-1,\n",
    "                        as_supervised=True) \n",
    "\n",
    "num_classes = np.max([np.max(train_labels), np.max(test_labels)]) + 1\n",
    "\n",
    "IMG_SIZE = 224\n",
    "\n",
    "## Explore the dataset\n",
    "print( f'''\n",
    "train dataset shape:    {train_ds.shape}, \n",
    "each dataset shape:     {train_ds[0].shape}, \n",
    "train labels shape:     {train_labels.shape}\n",
    "First 10 train labels:  {train_labels[0:10]}\n",
    "\n",
    "test dataset shape:    {test_ds.shape}, \n",
    "test labels shape:     {test_labels.shape}\n",
    "First 10 test labels:  {test_labels[0:10]}\n",
    "Max classes :          {num_classes}\n",
    "\n",
    "We will use IMG_SIZE:  {IMG_SIZE}\n",
    "''' )\n",
    "\n",
    "# Check the first image or some random image\n",
    "#plt.imshow(train_ds[5])\n",
    "#plt.grid(False)"
   ]
  },
  {
   "cell_type": "code",
   "execution_count": null,
   "metadata": {},
   "outputs": [],
   "source": [
    "i1 = tf.image.crop_to_bounding_box(train_ds[5], 0, 0, IMG_SIZE, IMG_SIZE)\n",
    "plt.imshow(i1)"
   ]
  },
  {
   "cell_type": "code",
   "execution_count": null,
   "metadata": {
    "id": "0bMHv0YHwpy0"
   },
   "outputs": [],
   "source": [
    "## Resizing images\n",
    "\n",
    "#train_ds1 = tf.image.crop_to_bounding_box(train_ds, 0, 0, IMG_SIZE, IMG_SIZE)\n",
    "#test_ds1  = tf.image.crop_to_bounding_box(test_ds,  0, 0, IMG_SIZE, IMG_SIZE)\n",
    "train_ds1  = train_ds\n",
    "test_ds1   = test_ds\n",
    "\n",
    "train_ds1 = tf.image.resize(train_ds1, ( IMG_SIZE, IMG_SIZE))\n",
    "test_ds1  = tf.image.resize(test_ds1, (IMG_SIZE, IMG_SIZE))"
   ]
  },
  {
   "cell_type": "code",
   "execution_count": null,
   "metadata": {
    "id": "INXWXF30wrDQ"
   },
   "outputs": [],
   "source": [
    "## Transforming labels to correct format\n",
    "train_labels1 = to_categorical(train_labels, num_classes=num_classes)\n",
    "test_labels1  = to_categorical(test_labels, num_classes=num_classes)\n",
    "\n",
    "# visualize the output\n",
    "# to_categorical() function converts a class vector (integers) to one-hot encoding\n",
    "test_labels[0:5], test_labels1[0:5]"
   ]
  },
  {
   "attachments": {},
   "cell_type": "markdown",
   "metadata": {},
   "source": [
    "## Load model\n",
    "\n",
    "Investigate loading alternate model and try - what changes do you need to make to use the following model. \n"
   ]
  },
  {
   "cell_type": "code",
   "execution_count": null,
   "metadata": {
    "colab": {
     "base_uri": "https://localhost:8080/"
    },
    "id": "ctEqAXOExAfR",
    "outputId": "f97563b4-21fe-42a0-ceee-55a3388f49d5"
   },
   "outputs": [],
   "source": [
    "## Loading VGG16 model defualt\n",
    "\n",
    "print(f\"Shape of train_ds1: {train_ds1.shape}, train_labels1: {train_labels1.shape}\")\n",
    "base_model = VGG16(weights=\"imagenet\", include_top=False, input_shape=train_ds1[0].shape)\n",
    "#base_model.summary()"
   ]
  },
  {
   "cell_type": "code",
   "execution_count": null,
   "metadata": {
    "id": "7iEX_7Q6Ay_q"
   },
   "outputs": [],
   "source": [
    "## will not train base mode\n",
    "print( f'Base model trainable?: {base_model.trainable}')\n",
    "base_model.trainable = False \n",
    "print( f'Base model trainable?: {base_model.trainable}')"
   ]
  },
  {
   "cell_type": "code",
   "execution_count": null,
   "metadata": {
    "id": "OLPywWRFxL4B"
   },
   "outputs": [],
   "source": [
    "## Preprocessing input\n",
    "train_ds2 = preprocess_input(train_ds1)\n",
    "test_ds2  = preprocess_input(test_ds1) \n",
    "\n",
    "## Preprocessing input => we wont use imported preprocess_input() function\n",
    "#train_ds2 = train_ds1 /255.\n",
    "#test_ds2  = test_ds1  /255."
   ]
  },
  {
   "cell_type": "code",
   "execution_count": null,
   "metadata": {
    "id": "cWjkm7Yq3E-u"
   },
   "outputs": [],
   "source": [
    "#add our layers on top of this model\n",
    "from keras import layers, models\n",
    "\n",
    "model = models.Sequential([\n",
    "     base_model,\n",
    "     layers.Flatten(),\n",
    "     layers.Dropout(0.1),\n",
    "     #layers.BatchNormalization(),\n",
    "     layers.Dense(50, activation='relu'),\n",
    "     #layers.LayerNormalization(),\n",
    "     layers.Dense(20, activation='relu'),\n",
    "     layers.Dense(num_classes, activation='softmax')\n",
    "])\n",
    "\n",
    "# You may consider adding more layers without parameters and load weights\n",
    "\n",
    "# model = models.Sequential([\n",
    "#      base_model,\n",
    "#      layers.Flatten(),\n",
    "#      layers.Dense(50, activation='relu'),\n",
    "#      layers.Dropout(0.1),\n",
    "#      layers.Dense(20, activation='relu'),\n",
    "#      layers.Dense(num_classes, activation='softmax')\n",
    "# ])\n"
   ]
  },
  {
   "cell_type": "code",
   "execution_count": null,
   "metadata": {
    "id": "T8hbLJyo3LJN"
   },
   "outputs": [],
   "source": [
    "from keras.callbacks import EarlyStopping\n",
    "\n",
    "model.compile( optimizer='adam', loss='categorical_crossentropy', metrics=['accuracy'] )\n",
    "load_weights = True\n",
    "if ( load_weights ):\n",
    "    model.load_weights('tl-practice2.h5')\n",
    "es = EarlyStopping(monitor='val_accuracy', mode='max', patience=10,  restore_best_weights=True)"
   ]
  },
  {
   "cell_type": "code",
   "execution_count": null,
   "metadata": {},
   "outputs": [],
   "source": [
    "model.summary()"
   ]
  },
  {
   "cell_type": "code",
   "execution_count": null,
   "metadata": {
    "colab": {
     "base_uri": "https://localhost:8080/"
    },
    "id": "FmjVDVSC3Tki",
    "outputId": "cebae0b8-cf22-4086-b43c-86b71256b8c6"
   },
   "outputs": [],
   "source": [
    "# Question: - why does load model starts with high accuracy than load_weights?\n",
    "#\n",
    "\n",
    "load_model = True\n",
    "if ( load_model ):\n",
    "    model = keras.models.load_model('tl-practice2.h5')\n",
    "hist=model.fit(train_ds2, train_labels1, epochs=5, validation_split=0.2, batch_size=32, callbacks=[es])"
   ]
  },
  {
   "cell_type": "code",
   "execution_count": null,
   "metadata": {},
   "outputs": [],
   "source": [
    "model.evaluate(test_ds2, test_labels1)\n",
    "# History of accuracy\n",
    "# [0.494703471660614, 0.803814709186554] => 80% accuracy\n",
    "# [0.27950140833854675, 0.9355131983757019] => 93% accuracy\n",
    "# [0.07856987416744232, 0.9663941860198975]\n"
   ]
  },
  {
   "cell_type": "code",
   "execution_count": null,
   "metadata": {},
   "outputs": [],
   "source": [
    "h= hist.history\n",
    "print(h)\n",
    "plt.title(\"Plot of loss and accuracy\")\n",
    "plt.plot(h['accuracy'], label='accuracy')\n",
    "plt.plot(h['loss'], label='loss')\n",
    "plt.plot(h['val_loss'], label='val_loss')\n",
    "plt.plot(h['val_accuracy'], label='val_accuracy')\n",
    "plt.legend()\n",
    "model.save('tl-practice2.h5')"
   ]
  },
  {
   "cell_type": "code",
   "execution_count": null,
   "metadata": {},
   "outputs": [],
   "source": [
    "model1 = keras.models.load_model('tl-practice2.h5')\n",
    "model1.evaluate(test_ds2, test_labels1)\n"
   ]
  },
  {
   "cell_type": "markdown",
   "metadata": {
    "id": "dr2GOftv3o8s"
   },
   "source": [
    "# Create a model without using pre-trained model"
   ]
  },
  {
   "cell_type": "code",
   "execution_count": null,
   "metadata": {
    "colab": {
     "base_uri": "https://localhost:8080/"
    },
    "id": "kLZAhqtZ3V73",
    "outputId": "3c09637c-5a7e-4913-b908-771602eff10b"
   },
   "outputs": [],
   "source": [
    "from keras import Sequential, layers\n",
    "from keras.callbacks import EarlyStopping\n",
    "from keras.layers import Rescaling\n",
    "\n",
    "\n",
    "myModel = Sequential()\n",
    "myModel.add(Rescaling(1./255, input_shape=(224, 224,3)))\n",
    "\n",
    "myModel.add(layers.Conv2D(16, kernel_size=10, activation='relu'))\n",
    "myModel.add(layers.MaxPooling2D(3))\n",
    "\n",
    "myModel.add(layers.Conv2D(32, kernel_size=8, activation=\"relu\"))\n",
    "myModel.add(layers.MaxPooling2D(2))\n",
    "\n",
    "myModel.add(layers.Conv2D(32, kernel_size=6, activation=\"relu\"))\n",
    "myModel.add(layers.MaxPooling2D(2))\n",
    "\n",
    "myModel.add(layers.Flatten())\n",
    "myModel.add(layers.Dense(50, activation='relu'))\n",
    "myModel.add(layers.Dense(20, activation='relu'))\n",
    "myModel.add(layers.Dense(5, activation='softmax'))\n",
    "\n",
    "\n",
    "myModel.compile( optimizer='adam', loss='categorical_crossentropy', metrics=['accuracy'],)\n",
    "es = EarlyStopping(monitor='val_accuracy', mode='max', patience=5, restore_best_weights=True)\n",
    "\n",
    "myModel.fit(train_ds2, train_labels1, epochs=49, validation_split=0.2, batch_size=32, callbacks=[es])"
   ]
  },
  {
   "cell_type": "code",
   "execution_count": null,
   "metadata": {
    "id": "QEGtBVNDJ49B"
   },
   "outputs": [],
   "source": []
  }
 ],
 "metadata": {
  "accelerator": "GPU",
  "colab": {
   "collapsed_sections": [],
   "name": "Transfer Learning with VGG16 for Flower classification.ipynb",
   "provenance": []
  },
  "kernelspec": {
   "display_name": "py39",
   "language": "python",
   "name": "python3"
  },
  "language_info": {
   "codemirror_mode": {
    "name": "ipython",
    "version": 3
   },
   "file_extension": ".py",
   "mimetype": "text/x-python",
   "name": "python",
   "nbconvert_exporter": "python",
   "pygments_lexer": "ipython3",
   "version": "3.8.3"
  },
  "vscode": {
   "interpreter": {
    "hash": "dff0aaeeb8ee9738611fdcb903e0426fbcf38bc2d039ac205716a81cc1909598"
   }
  },
  "widgets": {
   "application/vnd.jupyter.widget-state+json": {
    "15a3d26af8f84f709bcb5de46a77f9da": {
     "model_module": "@jupyter-widgets/controls",
     "model_module_version": "1.5.0",
     "model_name": "ProgressStyleModel",
     "state": {
      "_model_module": "@jupyter-widgets/controls",
      "_model_module_version": "1.5.0",
      "_model_name": "ProgressStyleModel",
      "_view_count": null,
      "_view_module": "@jupyter-widgets/base",
      "_view_module_version": "1.2.0",
      "_view_name": "StyleView",
      "bar_color": null,
      "description_width": ""
     }
    },
    "362b827fab9a451c8489bf29188c5b09": {
     "model_module": "@jupyter-widgets/controls",
     "model_module_version": "1.5.0",
     "model_name": "DescriptionStyleModel",
     "state": {
      "_model_module": "@jupyter-widgets/controls",
      "_model_module_version": "1.5.0",
      "_model_name": "DescriptionStyleModel",
      "_view_count": null,
      "_view_module": "@jupyter-widgets/base",
      "_view_module_version": "1.2.0",
      "_view_name": "StyleView",
      "description_width": ""
     }
    },
    "4971a30ad6fd4e0eb68b66854f2d70c0": {
     "model_module": "@jupyter-widgets/controls",
     "model_module_version": "1.5.0",
     "model_name": "FloatProgressModel",
     "state": {
      "_dom_classes": [],
      "_model_module": "@jupyter-widgets/controls",
      "_model_module_version": "1.5.0",
      "_model_name": "FloatProgressModel",
      "_view_count": null,
      "_view_module": "@jupyter-widgets/controls",
      "_view_module_version": "1.5.0",
      "_view_name": "ProgressView",
      "bar_style": "success",
      "description": "",
      "description_tooltip": null,
      "layout": "IPY_MODEL_56a18c2fa3af4ba985ea8f54f3a3766b",
      "max": 5,
      "min": 0,
      "orientation": "horizontal",
      "style": "IPY_MODEL_15a3d26af8f84f709bcb5de46a77f9da",
      "value": 5
     }
    },
    "56a18c2fa3af4ba985ea8f54f3a3766b": {
     "model_module": "@jupyter-widgets/base",
     "model_module_version": "1.2.0",
     "model_name": "LayoutModel",
     "state": {
      "_model_module": "@jupyter-widgets/base",
      "_model_module_version": "1.2.0",
      "_model_name": "LayoutModel",
      "_view_count": null,
      "_view_module": "@jupyter-widgets/base",
      "_view_module_version": "1.2.0",
      "_view_name": "LayoutView",
      "align_content": null,
      "align_items": null,
      "align_self": null,
      "border": null,
      "bottom": null,
      "display": null,
      "flex": null,
      "flex_flow": null,
      "grid_area": null,
      "grid_auto_columns": null,
      "grid_auto_flow": null,
      "grid_auto_rows": null,
      "grid_column": null,
      "grid_gap": null,
      "grid_row": null,
      "grid_template_areas": null,
      "grid_template_columns": null,
      "grid_template_rows": null,
      "height": null,
      "justify_content": null,
      "justify_items": null,
      "left": null,
      "margin": null,
      "max_height": null,
      "max_width": null,
      "min_height": null,
      "min_width": null,
      "object_fit": null,
      "object_position": null,
      "order": null,
      "overflow": null,
      "overflow_x": null,
      "overflow_y": null,
      "padding": null,
      "right": null,
      "top": null,
      "visibility": null,
      "width": null
     }
    },
    "57796efd438241adbf5688f6ffacd853": {
     "model_module": "@jupyter-widgets/base",
     "model_module_version": "1.2.0",
     "model_name": "LayoutModel",
     "state": {
      "_model_module": "@jupyter-widgets/base",
      "_model_module_version": "1.2.0",
      "_model_name": "LayoutModel",
      "_view_count": null,
      "_view_module": "@jupyter-widgets/base",
      "_view_module_version": "1.2.0",
      "_view_name": "LayoutView",
      "align_content": null,
      "align_items": null,
      "align_self": null,
      "border": null,
      "bottom": null,
      "display": null,
      "flex": null,
      "flex_flow": null,
      "grid_area": null,
      "grid_auto_columns": null,
      "grid_auto_flow": null,
      "grid_auto_rows": null,
      "grid_column": null,
      "grid_gap": null,
      "grid_row": null,
      "grid_template_areas": null,
      "grid_template_columns": null,
      "grid_template_rows": null,
      "height": null,
      "justify_content": null,
      "justify_items": null,
      "left": null,
      "margin": null,
      "max_height": null,
      "max_width": null,
      "min_height": null,
      "min_width": null,
      "object_fit": null,
      "object_position": null,
      "order": null,
      "overflow": null,
      "overflow_x": null,
      "overflow_y": null,
      "padding": null,
      "right": null,
      "top": null,
      "visibility": null,
      "width": null
     }
    },
    "6be41aef0ac244bbaea0d575547f03b0": {
     "model_module": "@jupyter-widgets/base",
     "model_module_version": "1.2.0",
     "model_name": "LayoutModel",
     "state": {
      "_model_module": "@jupyter-widgets/base",
      "_model_module_version": "1.2.0",
      "_model_name": "LayoutModel",
      "_view_count": null,
      "_view_module": "@jupyter-widgets/base",
      "_view_module_version": "1.2.0",
      "_view_name": "LayoutView",
      "align_content": null,
      "align_items": null,
      "align_self": null,
      "border": null,
      "bottom": null,
      "display": null,
      "flex": null,
      "flex_flow": null,
      "grid_area": null,
      "grid_auto_columns": null,
      "grid_auto_flow": null,
      "grid_auto_rows": null,
      "grid_column": null,
      "grid_gap": null,
      "grid_row": null,
      "grid_template_areas": null,
      "grid_template_columns": null,
      "grid_template_rows": null,
      "height": null,
      "justify_content": null,
      "justify_items": null,
      "left": null,
      "margin": null,
      "max_height": null,
      "max_width": null,
      "min_height": null,
      "min_width": null,
      "object_fit": null,
      "object_position": null,
      "order": null,
      "overflow": null,
      "overflow_x": null,
      "overflow_y": null,
      "padding": null,
      "right": null,
      "top": null,
      "visibility": null,
      "width": null
     }
    },
    "7ac1266fabda4924874fffa9f0466313": {
     "model_module": "@jupyter-widgets/controls",
     "model_module_version": "1.5.0",
     "model_name": "HTMLModel",
     "state": {
      "_dom_classes": [],
      "_model_module": "@jupyter-widgets/controls",
      "_model_module_version": "1.5.0",
      "_model_name": "HTMLModel",
      "_view_count": null,
      "_view_module": "@jupyter-widgets/controls",
      "_view_module_version": "1.5.0",
      "_view_name": "HTMLView",
      "description": "",
      "description_tooltip": null,
      "layout": "IPY_MODEL_57796efd438241adbf5688f6ffacd853",
      "placeholder": "​",
      "style": "IPY_MODEL_df8ba1429b6343809471e116a2d7304a",
      "value": "Dl Completed...: 100%"
     }
    },
    "7bdaaefae7ef4a458dc80b208af73e73": {
     "model_module": "@jupyter-widgets/controls",
     "model_module_version": "1.5.0",
     "model_name": "HBoxModel",
     "state": {
      "_dom_classes": [],
      "_model_module": "@jupyter-widgets/controls",
      "_model_module_version": "1.5.0",
      "_model_name": "HBoxModel",
      "_view_count": null,
      "_view_module": "@jupyter-widgets/controls",
      "_view_module_version": "1.5.0",
      "_view_name": "HBoxView",
      "box_style": "",
      "children": [
       "IPY_MODEL_7ac1266fabda4924874fffa9f0466313",
       "IPY_MODEL_4971a30ad6fd4e0eb68b66854f2d70c0",
       "IPY_MODEL_f7d594c2a9bd449aae60feecec91a0de"
      ],
      "layout": "IPY_MODEL_c3a303eece1c44b39a91110aac6d2cda"
     }
    },
    "c3a303eece1c44b39a91110aac6d2cda": {
     "model_module": "@jupyter-widgets/base",
     "model_module_version": "1.2.0",
     "model_name": "LayoutModel",
     "state": {
      "_model_module": "@jupyter-widgets/base",
      "_model_module_version": "1.2.0",
      "_model_name": "LayoutModel",
      "_view_count": null,
      "_view_module": "@jupyter-widgets/base",
      "_view_module_version": "1.2.0",
      "_view_name": "LayoutView",
      "align_content": null,
      "align_items": null,
      "align_self": null,
      "border": null,
      "bottom": null,
      "display": null,
      "flex": null,
      "flex_flow": null,
      "grid_area": null,
      "grid_auto_columns": null,
      "grid_auto_flow": null,
      "grid_auto_rows": null,
      "grid_column": null,
      "grid_gap": null,
      "grid_row": null,
      "grid_template_areas": null,
      "grid_template_columns": null,
      "grid_template_rows": null,
      "height": null,
      "justify_content": null,
      "justify_items": null,
      "left": null,
      "margin": null,
      "max_height": null,
      "max_width": null,
      "min_height": null,
      "min_width": null,
      "object_fit": null,
      "object_position": null,
      "order": null,
      "overflow": null,
      "overflow_x": null,
      "overflow_y": null,
      "padding": null,
      "right": null,
      "top": null,
      "visibility": null,
      "width": null
     }
    },
    "df8ba1429b6343809471e116a2d7304a": {
     "model_module": "@jupyter-widgets/controls",
     "model_module_version": "1.5.0",
     "model_name": "DescriptionStyleModel",
     "state": {
      "_model_module": "@jupyter-widgets/controls",
      "_model_module_version": "1.5.0",
      "_model_name": "DescriptionStyleModel",
      "_view_count": null,
      "_view_module": "@jupyter-widgets/base",
      "_view_module_version": "1.2.0",
      "_view_name": "StyleView",
      "description_width": ""
     }
    },
    "f7d594c2a9bd449aae60feecec91a0de": {
     "model_module": "@jupyter-widgets/controls",
     "model_module_version": "1.5.0",
     "model_name": "HTMLModel",
     "state": {
      "_dom_classes": [],
      "_model_module": "@jupyter-widgets/controls",
      "_model_module_version": "1.5.0",
      "_model_name": "HTMLModel",
      "_view_count": null,
      "_view_module": "@jupyter-widgets/controls",
      "_view_module_version": "1.5.0",
      "_view_name": "HTMLView",
      "description": "",
      "description_tooltip": null,
      "layout": "IPY_MODEL_6be41aef0ac244bbaea0d575547f03b0",
      "placeholder": "​",
      "style": "IPY_MODEL_362b827fab9a451c8489bf29188c5b09",
      "value": " 5/5 [00:16&lt;00:00,  3.38s/ file]"
     }
    }
   }
  }
 },
 "nbformat": 4,
 "nbformat_minor": 0
}
