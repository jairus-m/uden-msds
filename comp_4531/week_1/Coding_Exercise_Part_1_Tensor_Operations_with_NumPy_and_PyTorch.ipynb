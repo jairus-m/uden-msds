{
 "cells": [
  {
   "cell_type": "markdown",
   "id": "5a948d49",
   "metadata": {},
   "source": [
    "# Coding Exercise Part 1: Tensor Operations with NumPy and PyTorch"
   ]
  },
  {
   "cell_type": "markdown",
   "id": "8663059f",
   "metadata": {},
   "source": [
    "### Objective:\n",
    "Familiarize yourself with tensor operations using both NumPy and PyTorch."
   ]
  },
  {
   "cell_type": "markdown",
   "id": "8d71f4a6",
   "metadata": {},
   "source": [
    "### 1. Creating 2D tensors/arrays with random numbers\n"
   ]
  },
  {
   "cell_type": "markdown",
   "id": "954fea8c",
   "metadata": {},
   "source": [
    "Using [NumPy](https://numpy.org/doc/stable/reference/generated/numpy.array.html):"
   ]
  },
  {
   "cell_type": "code",
   "execution_count": null,
   "id": "1bf39c8b",
   "metadata": {},
   "outputs": [],
   "source": [
    "import numpy as np\n",
    "\n",
    "# Create a 5x5 array with random numbers between 0 and 1\n",
    "numpy_array = #...\n",
    "print(\"NumPy Array:\\n\", numpy_array)"
   ]
  },
  {
   "cell_type": "markdown",
   "id": "be5ce67f",
   "metadata": {},
   "source": [
    "Using [PyTorch](https://pytorch.org/docs/stable/tensors.html):"
   ]
  },
  {
   "cell_type": "code",
   "execution_count": null,
   "id": "bd447043",
   "metadata": {},
   "outputs": [],
   "source": [
    "import torch\n",
    "\n",
    "# Create a 5x5 tensor with random numbers between 0 and 1\n",
    "pytorch_tensor = #...\n",
    "print(\"PyTorch Tensor:\\n\", pytorch_tensor)"
   ]
  },
  {
   "cell_type": "markdown",
   "id": "11878bee",
   "metadata": {},
   "source": [
    "### 2. Performing Tensor Operations\n"
   ]
  },
  {
   "cell_type": "markdown",
   "id": "049a3fae",
   "metadata": {},
   "source": [
    "a. Compute Mean and Standard Deviation"
   ]
  },
  {
   "cell_type": "code",
   "execution_count": null,
   "id": "0c40f556",
   "metadata": {},
   "outputs": [],
   "source": [
    "# NumPy\n",
    "numpy_mean = #...\n",
    "numpy_std  = #...\n",
    "print(f\"NumPy Array - Mean: {numpy_mean}, Standard Deviation: {numpy_std}\")\n",
    "\n",
    "# PyTorch\n",
    "pytorch_mean = #...\n",
    "pytorch_std  = #...\n",
    "print(f\"PyTorch Tensor - Mean: {pytorch_mean}, Standard Deviation: {pytorch_std}\")"
   ]
  },
  {
   "cell_type": "markdown",
   "id": "be49151f",
   "metadata": {},
   "source": [
    "b. Element-wise Multiplication"
   ]
  },
  {
   "cell_type": "code",
   "execution_count": null,
   "id": "7ef0fa68",
   "metadata": {},
   "outputs": [],
   "source": [
    "# Create another 5x5 tensor/array with random numbers between 1 and 2\n",
    "numpy_array_2    = #...\n",
    "pytorch_tensor_2 = #...\n",
    "\n",
    "# Element-wise multiplication\n",
    "numpy_product   = #...\n",
    "pytorch_product = #...\n",
    "\n",
    "print(\"Element-wise Multiplication - NumPy:\\n\", numpy_product)\n",
    "print(\"Element-wise Multiplication - PyTorch:\\n\", pytorch_product)"
   ]
  },
  {
   "cell_type": "markdown",
   "id": "84bb1558",
   "metadata": {},
   "source": [
    "c. [Matrix Multiplication](https://numpy.org/doc/stable/reference/generated/numpy.matmul.html) with its Transpose"
   ]
  },
  {
   "cell_type": "code",
   "execution_count": null,
   "id": "c205ad28",
   "metadata": {},
   "outputs": [],
   "source": [
    "# Matrix multiplication\n",
    "numpy_matmul   = #...\n",
    "pytorch_matmul = #...\n",
    "\n",
    "print(\"Matrix Multiplication with Transpose - NumPy:\\n\", numpy_matmul)\n",
    "print(\"Matrix Multiplication with Transpose - PyTorch:\\n\", pytorch_matmul)"
   ]
  },
  {
   "cell_type": "markdown",
   "id": "24f6f7fa",
   "metadata": {},
   "source": [
    "d. Sum of All Elements"
   ]
  },
  {
   "cell_type": "code",
   "execution_count": null,
   "id": "c568d49c",
   "metadata": {},
   "outputs": [],
   "source": [
    "# Sum of all elements\n",
    "numpy_sum   = #...\n",
    "pytorch_sum = #...\n",
    "\n",
    "print(f\"Sum of all elements - NumPy: {numpy_sum}\")\n",
    "print(f\"Sum of all elements - PyTorch: {pytorch_sum}\")"
   ]
  },
  {
   "cell_type": "markdown",
   "id": "4e527f62",
   "metadata": {},
   "source": [
    "### 3. Conversion between PyTorch and NumPy"
   ]
  },
  {
   "cell_type": "code",
   "execution_count": null,
   "id": "396fe951",
   "metadata": {},
   "outputs": [],
   "source": [
    "# Convert PyTorch tensor to NumPy array\n",
    "converted_to_numpy = #...\n",
    "print(\"Converted PyTorch Tensor to NumPy:\\n\", converted_to_numpy)\n",
    "\n",
    "# Convert NumPy array to PyTorch tensor\n",
    "converted_to_pytorch = #...\n",
    "print(\"Converted NumPy Array to PyTorch Tensor:\\n\", converted_to_pytorch)"
   ]
  },
  {
   "cell_type": "markdown",
   "id": "a1f15b9d",
   "metadata": {},
   "source": [
    "### 4. Reshaping and Slicing Tensors\n"
   ]
  },
  {
   "cell_type": "markdown",
   "id": "cdc87373",
   "metadata": {},
   "source": [
    "a. Create a tensor of shape (10, 2) filled with random numbers.\n",
    "Reshape it to (5, 4) and (2, 10)."
   ]
  },
  {
   "cell_type": "markdown",
   "id": "cd4efe15",
   "metadata": {},
   "source": [
    "Using [NumPy](https://numpy.org/doc/stable/reference/generated/numpy.reshape.html):"
   ]
  },
  {
   "cell_type": "code",
   "execution_count": null,
   "id": "42829836",
   "metadata": {},
   "outputs": [],
   "source": [
    "# Reshaping\n",
    "numpy_tensor = np.random.rand(10, 2)\n",
    "print(\"Original NumPy Tensor:\\n\", numpy_tensor)\n",
    "\n",
    "reshaped_5_4 = #...\n",
    "print(\"\\nReshaped to (5, 4):\\n\", reshaped_5_4)\n",
    "\n",
    "reshaped_2_10 = #...\n",
    "print(\"\\nReshaped to (2, 10):\\n\", reshaped_2_10)"
   ]
  },
  {
   "cell_type": "markdown",
   "id": "6fb9a1d7",
   "metadata": {},
   "source": [
    "Using [PyTorch](https://pytorch.org/docs/stable/generated/torch.Tensor.view.html):"
   ]
  },
  {
   "cell_type": "code",
   "execution_count": null,
   "id": "d5ba3155",
   "metadata": {},
   "outputs": [],
   "source": [
    "# Reshaping\n",
    "pytorch_tensor = torch.rand(10, 2)\n",
    "print(\"Original PyTorch Tensor:\\n\", pytorch_tensor)\n",
    "\n",
    "reshaped_5_4 = #...\n",
    "print(\"\\nReshaped to (5, 4):\\n\", reshaped_5_4)\n",
    "\n",
    "reshaped_2_10 = #...\n",
    "print(\"\\nReshaped to (2, 10):\\n\", reshaped_2_10)"
   ]
  },
  {
   "cell_type": "markdown",
   "id": "5688c21b",
   "metadata": {},
   "source": [
    "b. From the original tensor, extract the first 5 rows. Extract the second column."
   ]
  },
  {
   "cell_type": "markdown",
   "id": "f34d904d",
   "metadata": {},
   "source": [
    "Using NumPy:"
   ]
  },
  {
   "cell_type": "code",
   "execution_count": null,
   "id": "c48bd1f4",
   "metadata": {},
   "outputs": [],
   "source": [
    "# Slicing\n",
    "first_5_rows = #...\n",
    "print(\"\\nFirst 5 rows:\\n\", first_5_rows)\n",
    "\n",
    "second_column = #...\n",
    "print(\"\\nSecond column:\\n\", second_column)"
   ]
  },
  {
   "cell_type": "markdown",
   "id": "f9917e62",
   "metadata": {},
   "source": [
    "Using PyTorch:"
   ]
  },
  {
   "cell_type": "code",
   "execution_count": null,
   "id": "6021bee2",
   "metadata": {},
   "outputs": [],
   "source": [
    "# Slicing\n",
    "first_5_rows = #...\n",
    "print(\"\\nFirst 5 rows:\\n\", first_5_rows)\n",
    "\n",
    "second_column = #...\n",
    "print(\"\\nSecond column:\\n\", second_column)"
   ]
  },
  {
   "cell_type": "markdown",
   "id": "8757815c",
   "metadata": {},
   "source": [
    "### 5. Broadcasting and Reduction Operations"
   ]
  },
  {
   "cell_type": "markdown",
   "id": "75016674",
   "metadata": {},
   "source": [
    "a. Broadcasting. Create a tensor A of shape (5, 1) and another tensor B of shape (1, 5). Perform element-wise addition between A and B."
   ]
  },
  {
   "cell_type": "markdown",
   "id": "8707cbcb",
   "metadata": {},
   "source": [
    "Using NumPy:"
   ]
  },
  {
   "cell_type": "code",
   "execution_count": null,
   "id": "a0f301b3",
   "metadata": {},
   "outputs": [],
   "source": [
    "# Broadcasting\n",
    "A = np.random.rand(5, 1)\n",
    "B = np.random.rand(1, 5)\n",
    "broadcasted_sum = #...\n",
    "print(\"Broadcasted Sum:\\n\", broadcasted_sum)"
   ]
  },
  {
   "cell_type": "markdown",
   "id": "5015e2c7",
   "metadata": {},
   "source": [
    "Using PyTorch:"
   ]
  },
  {
   "cell_type": "code",
   "execution_count": null,
   "id": "bbc5abf9",
   "metadata": {},
   "outputs": [],
   "source": [
    "# Broadcasting\n",
    "A = torch.rand(5, 1)\n",
    "B = torch.rand(1, 5)\n",
    "broadcasted_sum = #...\n",
    "print(\"Broadcasted Sum:\\n\", broadcasted_sum)"
   ]
  },
  {
   "cell_type": "markdown",
   "id": "f01de53c",
   "metadata": {},
   "source": [
    "b. Reduction Operations. Compute the sum, mean, and max of a tensor along a specific dimension."
   ]
  },
  {
   "cell_type": "markdown",
   "id": "c9678030",
   "metadata": {},
   "source": [
    "Using NumPy:"
   ]
  },
  {
   "cell_type": "code",
   "execution_count": null,
   "id": "46e3c8b8",
   "metadata": {},
   "outputs": [],
   "source": [
    "# Reduction Operations\n",
    "tensor          = np.random.rand(5, 5)\n",
    "sum_along_dim0  = #...\n",
    "mean_along_dim1 = #...\n",
    "max_value       = #...\n",
    "\n",
    "print(\"\\nSum along dimension 0:\\n\", sum_along_dim0)\n",
    "print(\"\\nMean along dimension 1:\\n\", mean_along_dim1)\n",
    "print(\"\\nMax value in the tensor:\", max_value)"
   ]
  },
  {
   "cell_type": "markdown",
   "id": "2799f83c",
   "metadata": {},
   "source": [
    "Using PyTorch:"
   ]
  },
  {
   "cell_type": "code",
   "execution_count": null,
   "id": "aaea09af",
   "metadata": {},
   "outputs": [],
   "source": [
    "# Reduction Operations\n",
    "tensor          = torch.rand(5, 5)\n",
    "sum_along_dim0  = #...\n",
    "mean_along_dim1 = #...\n",
    "max_value       = #...\n",
    "\n",
    "print(\"\\nSum along dimension 0:\\n\", sum_along_dim0)\n",
    "print(\"\\nMean along dimension 1:\\n\", mean_along_dim1)\n",
    "print(\"\\nMax value in the tensor:\", max_value)"
   ]
  },
  {
   "cell_type": "markdown",
   "id": "e359e0c4",
   "metadata": {},
   "source": [
    "### 6. Tensor Concatenation and Stacking"
   ]
  },
  {
   "cell_type": "markdown",
   "id": "7e15a246",
   "metadata": {},
   "source": [
    "a. Create three tensors of shape (3, 3) filled with random numbers. [Concatenate](https://numpy.org/doc/stable/reference/generated/numpy.concatenate.html) them along the first dimension. [Stack](https://numpy.org/doc/stable/reference/generated/numpy.stack.html) them along a new dimension.\n"
   ]
  },
  {
   "cell_type": "markdown",
   "id": "13f2e393",
   "metadata": {},
   "source": [
    "Using NumPy:"
   ]
  },
  {
   "cell_type": "code",
   "execution_count": null,
   "id": "5a8bb3ff",
   "metadata": {},
   "outputs": [],
   "source": [
    "tensor1 = np.random.rand(3, 3)\n",
    "tensor2 = np.random.rand(3, 3)\n",
    "tensor3 = np.random.rand(3, 3)\n",
    "\n",
    "# Concatenation\n",
    "concatenated = #...\n",
    "print(\"Concatenated Tensors:\\n\", concatenated)\n",
    "\n",
    "# Stacking\n",
    "stacked = #...\n",
    "print(\"\\nStacked Tensors:\\n\", stacked)"
   ]
  },
  {
   "cell_type": "markdown",
   "id": "fd0a74eb",
   "metadata": {},
   "source": [
    "Using PyTorch:"
   ]
  },
  {
   "cell_type": "code",
   "execution_count": null,
   "id": "8650251a",
   "metadata": {},
   "outputs": [],
   "source": [
    "tensor1 = torch.rand(3, 3)\n",
    "tensor2 = torch.rand(3, 3)\n",
    "tensor3 = torch.rand(3, 3)\n",
    "\n",
    "# Concatenation\n",
    "concatenated = #...\n",
    "print(\"Concatenated Tensors:\\n\", concatenated)\n",
    "\n",
    "# Stacking\n",
    "stacked = #...\n",
    "print(\"\\nStacked Tensors:\\n\", stacked)"
   ]
  }
 ],
 "metadata": {
  "kernelspec": {
   "display_name": "Python 3 (ipykernel)",
   "language": "python",
   "name": "python3"
  },
  "language_info": {
   "codemirror_mode": {
    "name": "ipython",
    "version": 3
   },
   "file_extension": ".py",
   "mimetype": "text/x-python",
   "name": "python",
   "nbconvert_exporter": "python",
   "pygments_lexer": "ipython3",
   "version": "3.9.16"
  }
 },
 "nbformat": 4,
 "nbformat_minor": 5
}
