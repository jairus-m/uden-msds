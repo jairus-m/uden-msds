{
 "cells": [
  {
   "cell_type": "markdown",
   "id": "80af9482",
   "metadata": {},
   "source": [
    "<H1>COMP4531 Deep Learning Mid-Term</H1>"
   ]
  },
  {
   "cell_type": "markdown",
   "id": "5c53f9bc",
   "metadata": {},
   "source": [
    "In this project, we will be developing a basic neural network from the ground up to classify various types of fashion items. The primary objective of this project is to gain a comprehensive understanding of neural network architecture, including its theory and implementation details.\n",
    "\n",
    "Categories in the dataset:\n",
    "\n",
    "    0: T-shirt/top\n",
    "    1: Trouser\n",
    "    2: Pullover\n",
    "    3: Dress\n",
    "    4: Coat\n",
    "    5: Sandal\n",
    "    6: Shirt\n",
    "    7: Sneaker\n",
    "    8: Bag\n",
    "    9: Ankle boot\n"
   ]
  },
  {
   "cell_type": "markdown",
   "id": "5d0f36f4",
   "metadata": {},
   "source": [
    "<H2>Part 0: Initialization</H2>"
   ]
  },
  {
   "cell_type": "markdown",
   "id": "2da766f3",
   "metadata": {},
   "source": [
    "To start, let's load some packages and the dataset"
   ]
  },
  {
   "cell_type": "code",
   "execution_count": 1,
   "id": "7b5a0732",
   "metadata": {},
   "outputs": [],
   "source": [
    "# Notice that you don't need any other packages for this mid-term\n",
    "\n",
    "import numpy as np\n",
    "import pandas as pd\n",
    "import random\n",
    "from matplotlib import pyplot as plt\n",
    "\n",
    "random.seed(42) # NEVER change this line; this is for grading"
   ]
  },
  {
   "cell_type": "code",
   "execution_count": 2,
   "id": "684c8758",
   "metadata": {},
   "outputs": [],
   "source": [
    "# Reading the dataset\n",
    "data = pd.read_csv('fashion_data.csv')"
   ]
  },
  {
   "cell_type": "code",
   "execution_count": 3,
   "id": "1ffe85a6",
   "metadata": {},
   "outputs": [],
   "source": [
    "# The data pre-processing is done for you. Please do NOT edit the cell\n",
    "# However, you should understand what these codes are doing\n",
    "\n",
    "data = np.array(data)\n",
    "m, n = data.shape\n",
    "np.random.shuffle(data) # shuffle before splitting into dev and training sets\n",
    "\n",
    "data_dev = data[0:400].T\n",
    "Y_dev = data_dev[-1]\n",
    "X_dev = data_dev[0:n-1]\n",
    "X_dev = X_dev / 255.\n",
    "\n",
    "data_train = data[400:m].T\n",
    "Y_train = data_train[-1]\n",
    "X_train = data_train[0:n-1]\n",
    "X_train = X_train / 255.\n",
    "_,m_train = X_train.shape"
   ]
  },
  {
   "cell_type": "code",
   "execution_count": null,
   "id": "c4f8d82c",
   "metadata": {},
   "outputs": [
    {
     "data": {
      "text/plain": [
       "array([4, 4, 8, ..., 8, 1, 6], dtype=int64)"
      ]
     },
     "metadata": {},
     "output_type": "display_data"
    }
   ],
   "source": [
    "Y_train"
   ]
  },
  {
   "cell_type": "code",
   "execution_count": null,
   "id": "f850cee5",
   "metadata": {},
   "outputs": [
    {
     "data": {
      "text/plain": [
       "(784, 400)"
      ]
     },
     "metadata": {},
     "output_type": "display_data"
    }
   ],
   "source": [
    "X_dev.shape"
   ]
  },
  {
   "cell_type": "code",
   "execution_count": null,
   "id": "78e1488a",
   "metadata": {},
   "outputs": [
    {
     "data": {
      "text/plain": [
       "(784, 1600)"
      ]
     },
     "metadata": {},
     "output_type": "display_data"
    }
   ],
   "source": [
    "X_train.shape"
   ]
  },
  {
   "cell_type": "code",
   "execution_count": null,
   "id": "24f886ad",
   "metadata": {},
   "outputs": [
    {
     "name": "stdout",
     "output_type": "stream",
     "text": [
      "2000 785\n"
     ]
    }
   ],
   "source": [
    "print(m,n)"
   ]
  },
  {
   "cell_type": "markdown",
   "id": "edec10f7",
   "metadata": {},
   "source": [
    "<H2>Part 1: Building your own neural network</H2>"
   ]
  },
  {
   "cell_type": "code",
   "execution_count": 8,
   "id": "9a070079",
   "metadata": {},
   "outputs": [],
   "source": [
    "# define a global variable specifying the number of hidden neurons after the first layer\n",
    "# not the best practice, but we will do it for this mid-term project\n",
    "NUM_HIDDEN_NEURONS = 20"
   ]
  },
  {
   "cell_type": "markdown",
   "id": "dd7f133d",
   "metadata": {},
   "source": [
    "This is the main part of the mid-term. You **must not** change the definition of the function. In fact, the comments are going to help you go through the implementation and they are all you need"
   ]
  },
  {
   "cell_type": "markdown",
   "id": "025ec06a",
   "metadata": {},
   "source": [
    "<H3>1.1 Initialize the parameter in the neural network</H3>"
   ]
  },
  {
   "cell_type": "code",
   "execution_count": 9,
   "id": "02adcdd7",
   "metadata": {},
   "outputs": [],
   "source": [
    "# Initialize the parameters in the neural network\n",
    "\n",
    "# Based on the figure above, we need the weight and bias matrices. \n",
    "# W1, b1 are the matrices for the first layer\n",
    "# W2, b2 are the matrices for the second layer\n",
    "\n",
    "# You should think about the sizes of the matrices\n",
    "# then initialize elements in the matrix to be random numbers between -0.5 to +0.5\n",
    "\n",
    "def init_params(X: np.ndarray, y: np.ndarray, num_hidden_neurons: int) -> tuple:\n",
    "    \"\"\"\n",
    "    Initialize the weights and biases for the neural network using a random normal distribution \n",
    "    for weights and zeros for biases with a range of -0.5 to +0.5.\n",
    "    Args:\n",
    "        X (np.ndarray) : training data\n",
    "        y (np.ndarray) : labels/targets\n",
    "        num_hidden_neurons (int) : hidden neuron size\n",
    "    Returns:\n",
    "        tuple: A tuple containing np.ndarrays\n",
    "        W1 (np.ndarray): weights of input layer of shape (input_size, num_hidden_neurons)\n",
    "        b1 (np.ndarray): bias of input layer of shape (num_hidden_neurons, 1)\n",
    "        W2 (np.ndarray): weights of hidden layer of shape (num_hidden_neurons, output_length)\n",
    "        b2 (np.ndarray): bias of hidden layer of shape (output_length, 1)\n",
    "    \"\"\"\n",
    "\n",
    "    input_length = X_train.shape[0]\n",
    "    output_length = len(np.unique(Y_train))\n",
    "\n",
    "    W1 = np.random.rand(input_length, num_hidden_neurons) - 0.5\n",
    "    b1 = np.random.rand(num_hidden_neurons, 1) - 0.5 \n",
    "    W2 = np.random.rand(num_hidden_neurons, output_length) - 0.5\n",
    "    b2 = np.random.rand(output_length, 1) - 0.5 \n",
    "\n",
    "    return W1, b1, W2, b2"
   ]
  },
  {
   "cell_type": "markdown",
   "id": "29e02886",
   "metadata": {},
   "source": [
    "<H3>1.2 Implement the non-linearity functions and its derivatives</H3>"
   ]
  },
  {
   "cell_type": "code",
   "execution_count": 10,
   "id": "b6fec893",
   "metadata": {},
   "outputs": [],
   "source": [
    "# As a starting point, you only need a ReLu function, its derivative, and the softmax function \n",
    "\n",
    "def ReLU(X: np.ndarray) -> np.ndarray:\n",
    "    \"\"\"\n",
    "    Retrns the ReLU of X.\n",
    "    Args:\n",
    "        X (np.ndarray): A numpy array of any shape.\n",
    "    Returns:\n",
    "        np.ndarray\n",
    "    \"\"\"\n",
    "    return np.maximum(0,X)\n",
    "\n",
    "def ReLU_deriv(X: np.ndarray) -> np.ndarray:\n",
    "    \"\"\"\n",
    "    Returns the derivative of ReLU(x).\n",
    "    Args:\n",
    "        X (np.ndarray): A numpy array of any shape.\n",
    "    Returns:\n",
    "        np.ndarray\n",
    "    \"\"\"\n",
    "    # Relu derivative function\n",
    "    X[X<=0] = 0\n",
    "    X[X>0]  = 1\n",
    "    return X\n",
    "\n",
    "def softmax(X: np.ndarray) -> np.ndarray:\n",
    "    \"\"\"\n",
    "    Returns the softmax of X.\n",
    "    Args:\n",
    "        X (np.ndarray): A numpy array of any shape.\n",
    "    Returns:\n",
    "        np.ndarray\n",
    "    \"\"\"\n",
    "    # exp_x = np.exp(X)\n",
    "    # return exp_x / np.sum(exp_x)\n",
    "    \n",
    "    # address overflow\n",
    "    exp_x = np.exp(X - np.max(X, axis=0, keepdims=True))\n",
    "    A = exp_x / np.sum(exp_x, axis=0, keepdims=True)\n",
    "    return A\n",
    "\n"
   ]
  },
  {
   "cell_type": "markdown",
   "id": "503e8de8",
   "metadata": {},
   "source": [
    "<H3>1.3 Implement the forward propagation function</H3>"
   ]
  },
  {
   "cell_type": "code",
   "execution_count": 11,
   "id": "6d8b9b45",
   "metadata": {},
   "outputs": [],
   "source": [
    "# In the forward propagation function, X is the inputs (the image in vector form), and we pass all the weights and biases\n",
    "\n",
    "def forward_prop(W1: np.ndarray, b1: np.ndarray,\n",
    "        W2: np.ndarray,b2: np.ndarray, X: np.ndarray) -> tuple:\n",
    "    \"\"\"\n",
    "    Compute the forward propagation step.\n",
    "    Args:\n",
    "        W1 (np.ndarray): weights of input layer of shape (input_size, num_hidden_neurons)\n",
    "        b1 (np.ndarray): bias of input layer of shape (num_hidden_neurons, 1)\n",
    "        W2 (np.ndarray): weights of hidden layer of shape (num_hidden_neurons, output_length)\n",
    "        b2 (np.ndarray): bias of hidden layer of shape (output_length, 1)\n",
    "        X (np.ndarray): training data of size (input_size, n) where n is the number of samples\n",
    "    Returns:\n",
    "        tuple: A tuple containing\n",
    "          Z1 (np.ndarray): output of the first layer before activation (W1 @ X + b1)\n",
    "          A1 (np.ndarray): output of the first layer after activation (ReLU(Z1))\n",
    "          Z2 (np.ndarray): output of the second layer before activation (W2 @ A1 + b2)\n",
    "          A2 (np.ndarray): output of the second layer after activation (softmax(Z2))\n",
    "    \"\"\"\n",
    "    Z1 = W1.T @ X + b1\n",
    "    A1 = ReLU(Z1)\n",
    "    Z2 = W2.T @ A1 + b2\n",
    "    A2 = softmax(Z2)\n",
    "    return Z1, A1, Z2, A2"
   ]
  },
  {
   "cell_type": "markdown",
   "id": "cc732fd3",
   "metadata": {},
   "source": [
    "<H3>1.4 Implement the backward propagation function</H3>"
   ]
  },
  {
   "cell_type": "code",
   "execution_count": 12,
   "id": "60edcfb8",
   "metadata": {},
   "outputs": [],
   "source": [
    "# This one hot function is to convert a numeric number into a one-hot vector\n",
    "def one_hot(Y: np.ndarray):\n",
    "    \"\"\"\n",
    "    One hot encode training labels.\n",
    "    Args:\n",
    "        Y (np.ndarray) : training labels\n",
    "    Returns\n",
    "        (np.ndarray) one-hot encoded training labels\n",
    "    \"\"\"\n",
    "    n_classes = len(np.unique(Y_train))\n",
    "\n",
    "    one_hot_Y = np.zeros((Y.size, n_classes))\n",
    "    one_hot_Y[np.arange(Y.size), Y] = 1\n",
    "    one_hot_Y = one_hot_Y.T\n",
    "    return one_hot_Y\n",
    "\n",
    "\n",
    "# Now performing the backward propagation\n",
    "# Each function is only one line, but lots of Calculus behind \n",
    "def backward_prop(Z1: np.ndarray, A1: np.ndarray, \n",
    "        Z2: np.ndarray, A2: np.ndarray, W1: np.ndarray, \n",
    "        W2: np.ndarray, X: np.ndarray, Y: np.ndarray) -> tuple:\n",
    "    \"\"\"\n",
    "    Conducts backwards propogation.\n",
    "    Args:\n",
    "        Z1 (np.ndarray): output of the first layer before activation (W1 @ X + b1)\n",
    "        A1 (np.ndarray): output of the first layer after activation (ReLU(Z1))\n",
    "        Z2 (np.ndarray): output of the second layer before activation (W2 @ A1 + b2)\n",
    "        A2 (np.ndarray): output of the second layer after activation (softmax(Z2))\n",
    "        W1 (np.ndarray): weights of input layer of shape (input_size, num_hidden_neurons)\n",
    "        W2 (np.ndarray): weights of hidden layer of shape (num_hidden_neurons, output_length)\n",
    "        X (np.ndarray):  training data of size (input_size, n) where n is the number of samples     \n",
    "    Returns:\n",
    "        tuple: A tuple containing\n",
    "            dW1 (np.ndarray): gradient of the cost with respect to W1\n",
    "            db1 (np.ndarray): gradient of the cost with respect to b1\n",
    "            dW2 (np.ndarray): gradient of the cost with respect to W2\n",
    "            db2 (np.ndarray): gradient of the cost with respect to b2 \n",
    "    \"\"\"\n",
    "    # Get the number of training examples\n",
    "    m = X.shape[1]\n",
    "    \n",
    "    one_hot_Y = one_hot(Y)\n",
    "\n",
    "    # Calculate the gradient of the loss with respect to Z2 (output of the second layer)\n",
    "    dZ2 = A2 - one_hot_Y\n",
    "\n",
    "    # Calculate the gradient of the loss with respect to W2 (weights of the second layer)\n",
    "    dW2 = A1 @ dZ2.T / m\n",
    "\n",
    "    # Calculate the gradient of the loss with respect to b2 (bias of the second layer)\n",
    "    db2 = np.sum(dZ2, axis=1, keepdims=True) / m\n",
    "\n",
    "    # Calculate the gradient of the loss with respect to Z1 (output of the first layer before activation)\n",
    "    dZ1 = W2 @ dZ2 * ReLU_deriv(Z1)\n",
    "\n",
    "    # Calculate the gradient of the loss with respect to W1 (weights of the first layer)\n",
    "    dW1 = X @ dZ1.T / m\n",
    "\n",
    "    # Calculate the gradient of the loss with respect to b1 (bias of the first layer)\n",
    "    db1 = np.sum(dZ1, axis=1, keepdims=True) / m\n",
    "\n",
    "    return dW1, db1, dW2, db2\n",
    "\n",
    "# Finally, we are ready to update the parameters\n",
    "def update_params(W1: np.ndarray, b1: np.ndarray, W2: np.ndarray, b2: np.ndarray, \n",
    "                  dW1: np.ndarray, db1: np.ndarray, dW2: np.ndarray, db2: np.ndarray, \n",
    "                  alpha: float) -> tuple:\n",
    "    \"\"\"\n",
    "    Update the parameters of the neural network using gradient descent.\n",
    "\n",
    "    Args:\n",
    "        W1 (np.ndarray): weights of input layer of shape (input_size, num_hidden_neurons)\n",
    "        b1 (np.ndarray): bias of input layer of shape (num_hidden_neurons, 1)\n",
    "        W2 (np.ndarray): weights of hidden layer of shape (num_hidden_neurons, output_length)\n",
    "        b2 (np.ndarray): bias of hidden layer of shape (output_length, 1)\n",
    "        dW1 (np.ndarray): gradient of the cost with respect to W1\n",
    "        db1 (np.ndarray): gradient of the cost with respect to b1\n",
    "        dW2 (np.ndarray): gradient of the cost with respect to W2\n",
    "        db2 (np.ndarray): gradient of the cost with respect to b2\n",
    "        alpha (float): learning rate.\n",
    "\n",
    "    Returns:\n",
    "        tuple: A tuple containing the updated params\n",
    "            W1 (np.ndarray): Updated weights of the input layer\n",
    "            b1 (np.ndarray): Updated biases of the input layer\n",
    "            W2 (np.ndarray): Updated weights of the hidden layer\n",
    "            b2 (np.ndarray): Updated biases of the hidden layer\n",
    "    \"\"\"\n",
    "    # update that jawn !\n",
    "    W1 = W1 - alpha * dW1\n",
    "    b1 = b1 - alpha * db1\n",
    "    W2 = W2 - alpha * dW2\n",
    "    b2 = b2 - alpha * db2\n",
    "    return W1, b1, W2, b2"
   ]
  },
  {
   "cell_type": "markdown",
   "id": "fa112e7c",
   "metadata": {},
   "source": [
    "<H3>1.5 Performing the gradient descent</H3>"
   ]
  },
  {
   "cell_type": "code",
   "execution_count": 13,
   "id": "5dbc5012",
   "metadata": {},
   "outputs": [],
   "source": [
    "# Implement the helper function. We need to convert the softmax output into a numeric label \n",
    "# This is done through get_predictions function\n",
    "def get_predictions(A2: np.ndarray) -> np.ndarray:\n",
    "    \"\"\"\n",
    "    Convert the softmax output into numeric labels \n",
    "    by selecting the index of the highest probability.\n",
    "    Args:\n",
    "        A2 (np.ndarray): The output of the softmax layer\n",
    "            - each col is the probability distribution over classes for a single sample\n",
    "    Returns:\n",
    "        np.ndarray: An array of predicted class labels, where each element is the index \n",
    "                    of the highest probability class for the corresponding sample.\n",
    "    \"\"\"\n",
    "    return np.argmax(A2, axis=0)\n",
    "\n",
    "# We also want to have a simple function to compute the accuracy. Notice that \"predictions\" and \"Y\" are the same shape\n",
    "def get_accuracy(predictions: np.ndarray, y: np.ndarray) -> float:\n",
    "    \"\"\"\n",
    "    Compute the accuracy of the predictions compared to the true labels.\n",
    "\n",
    "    Args:\n",
    "        predictions (np.ndarray): An array of predicted class labels.\n",
    "        y (np.ndarray): An array of true class labels.\n",
    "\n",
    "    Returns:\n",
    "        float: The accuracy as a percentage (0-100).\n",
    "    \"\"\"\n",
    "    assert predictions.shape == y.shape\n",
    "\n",
    "    accuracy = sum(y == predictions) / len(y)  \n",
    "    return accuracy\n",
    "\n",
    "# Finally, we are ready to implement gradient descent\n",
    "def gradient_descent(X: np.ndarray, y: np.ndarray, \n",
    "                     alpha: float, iterations: int, num_hidden_neurons: int) -> tuple:\n",
    "    \"\"\"\n",
    "    Perform gradient descent to optimize the parameters of the neural network.\n",
    "    Args:\n",
    "        X (np.ndarray):  training data of size (input_size, n) where n is the number of samples\n",
    "        y (np.ndarray): training labels\n",
    "        alpha (float): learning rate\n",
    "        iterations (int): number of iterations to perform gradient descent\n",
    "        num_hidden_neurons (int) : hidden neuron size\n",
    "    Returns:\n",
    "        tuple: A tuple containing the optimized parameters:\n",
    "            - W1 (np.ndarray): optimized weights of the first layer\n",
    "            - b1 (np.ndarray): optimized biases of the first layer\n",
    "            - W2 (np.ndarray): optimized weights of the second layer\n",
    "            - b2 (np.ndarray): optimized biases of the second layer\n",
    "    \"\"\"\n",
    "    W1, b1, W2, b2 = init_params(X, y, num_hidden_neurons=num_hidden_neurons)\n",
    "    for i in range(iterations):\n",
    "        Z1, A1, Z2, A2 = forward_prop(W1, b1, W2, b2, X)\n",
    "        dW1, db1, dW2, db2 = backward_prop(Z1, A1, Z2, A2, W1, W2, X, y)\n",
    "        W1, b1, W2, b2 = update_params(W1, b1, W2, b2, dW1, db1, dW2, db2, alpha)\n",
    "        if i % 10 == 0:\n",
    "            print(\"Iteration: \", i)\n",
    "            predictions = get_predictions(A2)\n",
    "            print(get_accuracy(predictions, y))\n",
    "    return W1, b1, W2, b2"
   ]
  },
  {
   "cell_type": "code",
   "execution_count": 14,
   "id": "98227fb1",
   "metadata": {},
   "outputs": [
    {
     "name": "stdout",
     "output_type": "stream",
     "text": [
      "Iteration:  0\n",
      "0.161875\n",
      "Iteration:  10\n",
      "0.428125\n",
      "Iteration:  20\n",
      "0.515625\n",
      "Iteration:  30\n",
      "0.57125\n",
      "Iteration:  40\n",
      "0.60375\n",
      "Iteration:  50\n",
      "0.63125\n",
      "Iteration:  60\n",
      "0.65625\n",
      "Iteration:  70\n",
      "0.669375\n",
      "Iteration:  80\n",
      "0.67875\n",
      "Iteration:  90\n",
      "0.69375\n",
      "Iteration:  100\n",
      "0.7\n",
      "Iteration:  110\n",
      "0.709375\n",
      "Iteration:  120\n",
      "0.714375\n",
      "Iteration:  130\n",
      "0.720625\n",
      "Iteration:  140\n",
      "0.73125\n",
      "Iteration:  150\n",
      "0.7325\n",
      "Iteration:  160\n",
      "0.734375\n",
      "Iteration:  170\n",
      "0.733125\n",
      "Iteration:  180\n",
      "0.74375\n",
      "Iteration:  190\n",
      "0.74875\n",
      "Iteration:  200\n",
      "0.759375\n",
      "Iteration:  210\n",
      "0.765\n",
      "Iteration:  220\n",
      "0.768125\n",
      "Iteration:  230\n",
      "0.770625\n",
      "Iteration:  240\n",
      "0.7725\n",
      "Iteration:  250\n",
      "0.775\n",
      "Iteration:  260\n",
      "0.7775\n",
      "Iteration:  270\n",
      "0.778125\n",
      "Iteration:  280\n",
      "0.778125\n",
      "Iteration:  290\n",
      "0.780625\n",
      "Iteration:  300\n",
      "0.784375\n",
      "Iteration:  310\n",
      "0.788125\n",
      "Iteration:  320\n",
      "0.7925\n",
      "Iteration:  330\n",
      "0.795625\n",
      "Iteration:  340\n",
      "0.795\n",
      "Iteration:  350\n",
      "0.79875\n",
      "Iteration:  360\n",
      "0.80125\n",
      "Iteration:  370\n",
      "0.8025\n",
      "Iteration:  380\n",
      "0.805\n",
      "Iteration:  390\n",
      "0.8075\n",
      "Iteration:  400\n",
      "0.809375\n",
      "Iteration:  410\n",
      "0.811875\n",
      "Iteration:  420\n",
      "0.815\n",
      "Iteration:  430\n",
      "0.818125\n",
      "Iteration:  440\n",
      "0.818125\n",
      "Iteration:  450\n",
      "0.82\n",
      "Iteration:  460\n",
      "0.82375\n",
      "Iteration:  470\n",
      "0.825\n",
      "Iteration:  480\n",
      "0.828125\n",
      "Iteration:  490\n",
      "0.83\n"
     ]
    }
   ],
   "source": [
    "W1, b1, W2, b2 = gradient_descent(\n",
    "        X=X_train,\n",
    "        y=Y_train,\n",
    "        alpha=0.10,\n",
    "        iterations=500,\n",
    "        num_hidden_neurons=NUM_HIDDEN_NEURONS)"
   ]
  },
  {
   "cell_type": "markdown",
   "id": "f65fd141",
   "metadata": {},
   "source": [
    "<H3>1.6 Validation Set Performance</H3>"
   ]
  },
  {
   "cell_type": "code",
   "execution_count": 15,
   "id": "b0a8684d",
   "metadata": {},
   "outputs": [],
   "source": [
    "def make_predictions(X: np.ndarray, W1: np.ndarray, b1: np.ndarray, \n",
    "                     W2: np.ndarray, b2: np.ndarray) -> np.ndarray:\n",
    "    \"\"\"\n",
    "    Makes predictions using the trained neural network.\n",
    "    Args:\n",
    "        X (np.ndarray): input data of shape (input_size, n) where n is the number of samples\n",
    "        W1 (np.ndarray): weights of the input layer of shape (input_size, num_hidden_neurons)\n",
    "        b1 (np.ndarray): biases of the input layer of shape (num_hidden_neurons, 1)\n",
    "        W2 (np.ndarray): weights of the hidden layer of shape (num_hidden_neurons, output_length)\n",
    "        b2 (np.ndarray): biases of the hidden layer of shape (output_length, 1)\n",
    "    Returns:\n",
    "        np.ndarray: An array of predicted class labels, where each element is the index \n",
    "                    of the highest probability class for the corresponding sample.\n",
    "    \"\"\"\n",
    "    _, _, _, A2 = forward_prop(W1, b1, W2, b2, X)\n",
    "    predictions = get_predictions(A2)\n",
    "    return predictions\n"
   ]
  },
  {
   "cell_type": "code",
   "execution_count": 16,
   "id": "d9fe33ba",
   "metadata": {},
   "outputs": [
    {
     "name": "stdout",
     "output_type": "stream",
     "text": [
      "0.7475\n"
     ]
    }
   ],
   "source": [
    "dev_predictions = make_predictions(X_dev, W1, b1, W2, b2)\n",
    "accuracy = get_accuracy(dev_predictions, Y_dev)\n",
    "\n",
    "print(accuracy)"
   ]
  },
  {
   "cell_type": "markdown",
   "id": "ed83cd53",
   "metadata": {},
   "source": [
    "<H3>1.7 Exploring some samples</H3>"
   ]
  },
  {
   "cell_type": "code",
   "execution_count": 17,
   "id": "baa50dc1",
   "metadata": {},
   "outputs": [
    {
     "name": "stdout",
     "output_type": "stream",
     "text": [
      "Prediction:  [8]\n",
      "Label:  8\n"
     ]
    },
    {
     "data": {
      "image/png": "[encoded data removed]",
      "text/plain": [
       "<Figure size 640x480 with 1 Axes>"
      ]
     },
     "metadata": {},
     "output_type": "display_data"
    },
    {
     "name": "stdout",
     "output_type": "stream",
     "text": [
      "Prediction:  [6]\n",
      "Label:  4\n"
     ]
    },
    {
     "data": {
      "image/png": "[encoded data removed]",
      "text/plain": [
       "<Figure size 640x480 with 1 Axes>"
      ]
     },
     "metadata": {},
     "output_type": "display_data"
    },
    {
     "name": "stdout",
     "output_type": "stream",
     "text": [
      "Prediction:  [4]\n",
      "Label:  6\n"
     ]
    },
    {
     "data": {
      "image/png": "[encoded data removed]",
      "text/plain": [
       "<Figure size 640x480 with 1 Axes>"
      ]
     },
     "metadata": {},
     "output_type": "display_data"
    },
    {
     "name": "stdout",
     "output_type": "stream",
     "text": [
      "Prediction:  [0]\n",
      "Label:  0\n"
     ]
    },
    {
     "data": {
      "image/png": "[encoded data removed]",
      "text/plain": [
       "<Figure size 640x480 with 1 Axes>"
      ]
     },
     "metadata": {},
     "output_type": "display_data"
    }
   ],
   "source": [
    "def test_prediction(index, W1, b1, W2, b2):\n",
    "    current_image = X_train[:, index, None]\n",
    "    prediction = make_predictions(X_train[:, index, None], W1, b1, W2, b2)\n",
    "    label = Y_train[index]\n",
    "    print(\"Prediction: \", prediction)\n",
    "    print(\"Label: \", label)\n",
    "    \n",
    "    current_image = current_image.reshape((28, 28)) * 255\n",
    "    plt.gray()\n",
    "    plt.imshow(current_image, interpolation='nearest')\n",
    "    plt.show()\n",
    "    \n",
    "test_prediction(0, W1, b1, W2, b2)\n",
    "test_prediction(1, W1, b1, W2, b2)\n",
    "test_prediction(2, W1, b1, W2, b2)\n",
    "test_prediction(50, W1, b1, W2, b2)"
   ]
  },
  {
   "cell_type": "markdown",
   "id": "8489e39c",
   "metadata": {},
   "source": [
    "<H2>Part 2: Error Analysis and Performance Improvements</H2>"
   ]
  },
  {
   "cell_type": "markdown",
   "id": "0b6b9c4e",
   "metadata": {},
   "source": [
    "You now will try to improve the model performance through, for example, different activation functions, learning rate cahnges, expanding the network complexity, regularization, and dropouts.  Implement these ideas for improvement and compare to the base model you completed in part 1.  The ideas may not improve the model, they may improve, give reasons why you did or did not succeed in makeing a better model.  You must implement at least three different models.\n",
    "\n",
    "**It is crucial to provide reasoning behind what you do, or else no credit will be given.**"
   ]
  },
  {
   "cell_type": "markdown",
   "id": "ce5879a1",
   "metadata": {},
   "source": [
    "# Updates that I plan on implenting:\n",
    "\n",
    "1. Model with:\n",
    "    - increased learning rate/iterations\n",
    "2. Model with:\n",
    "    - increased learning rate/iterations\n",
    "    - increased number of neurons\n",
    "3. Model with:\n",
    "    - increased learning rate/iterations\n",
    "    - increased number of neurons\n",
    "    - additional hidden layer\n",
    "\n",
    "The follow will be the specific updates that I will add:\n",
    "- Increae the learning rate / iterations\n",
    "    - Alpha increased from 0.10 to 0.15\n",
    "    - Iterations increased fro 500 to 800\n",
    "- Increase the number of neurons\n",
    "    - 20 > 30 hidden neurons (2nd layer)\n",
    "    - New hidden layer (3rd layer) has 50 neurons\n",
    "- Add an extra layer to the neural network\n",
    "    - 1 hidden layer to 2 hidden layer\n",
    "\n",
    "Note: I'm not gonna add docstrings to the re-implementation of the NN w/ a 3rd layer cause that's too much work lol.\n",
    "\n",
    "## Reasoining for the changes:\n",
    "\n",
    "In general, adding another layer to the network, makes the model deeper and able to have more room to learn more \"complex\" features and interactions in the data. While this can lead to overfitting, just adding one extra hidden layer can probably add more benefit in being able to learn the data at higher levels of abstraction.\n",
    "\n",
    "Similarly, adding more neurons has a similar benefit as deepening the network of the deep learning model. Having more neurons enables the model with additional capacity to learn the more complex features of the data. Again, while this can lead to overfitting, the sligt increase in the number of neurons can probably do more good than harm! (I hope). \n",
    "\n",
    "For both of these changes, they do add more resource/computation load to the training step.\n",
    "\n",
    "Lastly, I wanted to slightly increasea the learning rate (alpha) and the number of iterations. My thinking here is that during gradient descent, the deep learning model can take \"bigger\" steps to finding a minima to minimize the cost function. In addition, increasing the iterations allows the model more time/oppurtunity to find the optimal weights and biases that minimize the cost function. When choosing the new paramaters, I made sure not to increase them by too much. Doing so can lead to the model taking too many steps and never finding the minima. On the contrary, the increased iterations may cause an overfit as the data learns the data too well and converges too early. \n",
    "\n"
   ]
  },
  {
   "cell_type": "markdown",
   "id": "c2144e44",
   "metadata": {},
   "source": [
    "## Model 1: Increased learning rate / iterations\n",
    "\n",
    "The follow will be the specific updates that I will add:\n",
    "- Increae the learning rate / iterations\n",
    "    - Alpha increased from 0.10 to 0.15\n",
    "    - Iterations increased fro 500 to 800"
   ]
  },
  {
   "cell_type": "code",
   "execution_count": 18,
   "id": "8c1dfc59",
   "metadata": {},
   "outputs": [
    {
     "name": "stdout",
     "output_type": "stream",
     "text": [
      "Iteration:  0\n",
      "0.14875\n",
      "Iteration:  10\n",
      "0.42625\n",
      "Iteration:  20\n",
      "0.566875\n",
      "Iteration:  30\n",
      "0.61\n",
      "Iteration:  40\n",
      "0.64\n",
      "Iteration:  50\n",
      "0.66875\n",
      "Iteration:  60\n",
      "0.68625\n",
      "Iteration:  70\n",
      "0.7\n",
      "Iteration:  80\n",
      "0.711875\n",
      "Iteration:  90\n",
      "0.72125\n",
      "Iteration:  100\n",
      "0.73125\n",
      "Iteration:  110\n",
      "0.739375\n",
      "Iteration:  120\n",
      "0.743125\n",
      "Iteration:  130\n",
      "0.72125\n",
      "Iteration:  140\n",
      "0.7375\n",
      "Iteration:  150\n",
      "0.758125\n",
      "Iteration:  160\n",
      "0.764375\n",
      "Iteration:  170\n",
      "0.766875\n",
      "Iteration:  180\n",
      "0.769375\n",
      "Iteration:  190\n",
      "0.7725\n",
      "Iteration:  200\n",
      "0.77375\n",
      "Iteration:  210\n",
      "0.775625\n",
      "Iteration:  220\n",
      "0.779375\n",
      "Iteration:  230\n",
      "0.780625\n",
      "Iteration:  240\n",
      "0.7825\n",
      "Iteration:  250\n",
      "0.790625\n",
      "Iteration:  260\n",
      "0.791875\n",
      "Iteration:  270\n",
      "0.795\n",
      "Iteration:  280\n",
      "0.793125\n",
      "Iteration:  290\n",
      "0.795625\n",
      "Iteration:  300\n",
      "0.798125\n",
      "Iteration:  310\n",
      "0.801875\n",
      "Iteration:  320\n",
      "0.805\n",
      "Iteration:  330\n",
      "0.805\n",
      "Iteration:  340\n",
      "0.806875\n",
      "Iteration:  350\n",
      "0.809375\n",
      "Iteration:  360\n",
      "0.8125\n",
      "Iteration:  370\n",
      "0.8175\n",
      "Iteration:  380\n",
      "0.821875\n",
      "Iteration:  390\n",
      "0.82375\n",
      "Iteration:  400\n",
      "0.825625\n",
      "Iteration:  410\n",
      "0.826875\n",
      "Iteration:  420\n",
      "0.82875\n",
      "Iteration:  430\n",
      "0.830625\n",
      "Iteration:  440\n",
      "0.8325\n",
      "Iteration:  450\n",
      "0.83375\n",
      "Iteration:  460\n",
      "0.83375\n",
      "Iteration:  470\n",
      "0.83375\n",
      "Iteration:  480\n",
      "0.836875\n",
      "Iteration:  490\n",
      "0.83625\n",
      "Iteration:  500\n",
      "0.8375\n",
      "Iteration:  510\n",
      "0.840625\n",
      "Iteration:  520\n",
      "0.841875\n",
      "Iteration:  530\n",
      "0.845625\n",
      "Iteration:  540\n",
      "0.846875\n",
      "Iteration:  550\n",
      "0.85\n",
      "Iteration:  560\n",
      "0.851875\n",
      "Iteration:  570\n",
      "0.853125\n",
      "Iteration:  580\n",
      "0.855625\n",
      "Iteration:  590\n",
      "0.856875\n",
      "Iteration:  600\n",
      "0.860625\n",
      "Iteration:  610\n",
      "0.86125\n",
      "Iteration:  620\n",
      "0.861875\n",
      "Iteration:  630\n",
      "0.863125\n",
      "Iteration:  640\n",
      "0.865625\n",
      "Iteration:  650\n",
      "0.864375\n",
      "Iteration:  660\n",
      "0.863125\n",
      "Iteration:  670\n",
      "0.86625\n",
      "Iteration:  680\n",
      "0.866875\n",
      "Iteration:  690\n",
      "0.868125\n",
      "Iteration:  700\n",
      "0.868125\n",
      "Iteration:  710\n",
      "0.87375\n",
      "Iteration:  720\n",
      "0.874375\n",
      "Iteration:  730\n",
      "0.878125\n",
      "Iteration:  740\n",
      "0.87875\n",
      "Iteration:  750\n",
      "0.88\n",
      "Iteration:  760\n",
      "0.879375\n",
      "Iteration:  770\n",
      "0.88125\n",
      "Iteration:  780\n",
      "0.884375\n",
      "Iteration:  790\n",
      "0.8875\n"
     ]
    }
   ],
   "source": [
    "NUM_HIDDEN_NEURONS = 20\n",
    "\n",
    "\n",
    "\n",
    "W1, b1, W2, b2 = gradient_descent(\n",
    "        X=X_train,\n",
    "        y=Y_train,\n",
    "        alpha=0.15,\n",
    "        iterations=800,\n",
    "        num_hidden_neurons=NUM_HIDDEN_NEURONS)"
   ]
  },
  {
   "cell_type": "code",
   "execution_count": 19,
   "id": "41fda044",
   "metadata": {},
   "outputs": [
    {
     "name": "stdout",
     "output_type": "stream",
     "text": [
      "0.7625\n"
     ]
    }
   ],
   "source": [
    "dev_predictions = make_predictions(X_dev, W1, b1, W2, b2)\n",
    "accuracy = get_accuracy(dev_predictions, Y_dev)\n",
    "\n",
    "print(accuracy)"
   ]
  },
  {
   "cell_type": "markdown",
   "id": "cc88995a",
   "metadata": {},
   "source": [
    "## Model 2:\n",
    "## Increased learning rates / iterations / neurons \n",
    "\n",
    "The follow will be the specific updates that I will add:\n",
    "- Increae the learning rate / iterations\n",
    "    - Alpha increased from 0.10 to 0.15\n",
    "    - Iterations increased fro 500 to 800\n",
    "- Increase the number of neurons\n",
    "    - 20 > 50 hidden neurons (2nd layer)\n",
    "    - New hidden layer (3rd layer) has 50 neurons"
   ]
  },
  {
   "cell_type": "code",
   "execution_count": 20,
   "id": "c067519e",
   "metadata": {},
   "outputs": [
    {
     "name": "stdout",
     "output_type": "stream",
     "text": [
      "Iteration:  0\n",
      "0.115\n",
      "Iteration:  10\n",
      "0.558125\n",
      "Iteration:  20\n",
      "0.663125\n",
      "Iteration:  30\n",
      "0.70875\n",
      "Iteration:  40\n",
      "0.730625\n",
      "Iteration:  50\n",
      "0.74875\n",
      "Iteration:  60\n",
      "0.735625\n",
      "Iteration:  70\n",
      "0.7625\n",
      "Iteration:  80\n",
      "0.771875\n",
      "Iteration:  90\n",
      "0.779375\n",
      "Iteration:  100\n",
      "0.786875\n",
      "Iteration:  110\n",
      "0.794375\n",
      "Iteration:  120\n",
      "0.799375\n",
      "Iteration:  130\n",
      "0.80125\n",
      "Iteration:  140\n",
      "0.805\n",
      "Iteration:  150\n",
      "0.80875\n",
      "Iteration:  160\n",
      "0.81375\n",
      "Iteration:  170\n",
      "0.815625\n",
      "Iteration:  180\n",
      "0.82\n",
      "Iteration:  190\n",
      "0.826875\n",
      "Iteration:  200\n",
      "0.831875\n",
      "Iteration:  210\n",
      "0.83625\n",
      "Iteration:  220\n",
      "0.83875\n",
      "Iteration:  230\n",
      "0.84125\n",
      "Iteration:  240\n",
      "0.843125\n",
      "Iteration:  250\n",
      "0.85\n",
      "Iteration:  260\n",
      "0.85375\n",
      "Iteration:  270\n",
      "0.855625\n",
      "Iteration:  280\n",
      "0.859375\n",
      "Iteration:  290\n",
      "0.863125\n",
      "Iteration:  300\n",
      "0.865\n",
      "Iteration:  310\n",
      "0.86875\n",
      "Iteration:  320\n",
      "0.87\n",
      "Iteration:  330\n",
      "0.8725\n",
      "Iteration:  340\n",
      "0.875\n",
      "Iteration:  350\n",
      "0.876875\n",
      "Iteration:  360\n",
      "0.881875\n",
      "Iteration:  370\n",
      "0.8825\n",
      "Iteration:  380\n",
      "0.885625\n",
      "Iteration:  390\n",
      "0.889375\n",
      "Iteration:  400\n",
      "0.8925\n",
      "Iteration:  410\n",
      "0.89375\n",
      "Iteration:  420\n",
      "0.895\n",
      "Iteration:  430\n",
      "0.8975\n",
      "Iteration:  440\n",
      "0.89875\n",
      "Iteration:  450\n",
      "0.9\n",
      "Iteration:  460\n",
      "0.901875\n",
      "Iteration:  470\n",
      "0.90375\n",
      "Iteration:  480\n",
      "0.906875\n",
      "Iteration:  490\n",
      "0.909375\n",
      "Iteration:  500\n",
      "0.91125\n",
      "Iteration:  510\n",
      "0.911875\n",
      "Iteration:  520\n",
      "0.915625\n",
      "Iteration:  530\n",
      "0.91875\n",
      "Iteration:  540\n",
      "0.9175\n",
      "Iteration:  550\n",
      "0.918125\n",
      "Iteration:  560\n",
      "0.923125\n",
      "Iteration:  570\n",
      "0.925\n",
      "Iteration:  580\n",
      "0.92625\n",
      "Iteration:  590\n",
      "0.9275\n",
      "Iteration:  600\n",
      "0.928125\n",
      "Iteration:  610\n",
      "0.929375\n",
      "Iteration:  620\n",
      "0.9325\n",
      "Iteration:  630\n",
      "0.93625\n",
      "Iteration:  640\n",
      "0.93875\n",
      "Iteration:  650\n",
      "0.941875\n",
      "Iteration:  660\n",
      "0.943125\n",
      "Iteration:  670\n",
      "0.944375\n",
      "Iteration:  680\n",
      "0.945625\n",
      "Iteration:  690\n",
      "0.944375\n",
      "Iteration:  700\n",
      "0.9375\n",
      "Iteration:  710\n",
      "0.94\n",
      "Iteration:  720\n",
      "0.943125\n",
      "Iteration:  730\n",
      "0.94375\n",
      "Iteration:  740\n",
      "0.949375\n",
      "Iteration:  750\n",
      "0.94875\n",
      "Iteration:  760\n",
      "0.950625\n",
      "Iteration:  770\n",
      "0.95375\n",
      "Iteration:  780\n",
      "0.949375\n",
      "Iteration:  790\n",
      "0.955\n"
     ]
    }
   ],
   "source": [
    "NUM_HIDDEN_NEURONS = 50\n",
    "\n",
    "W1, b1, W2, b2 = gradient_descent(\n",
    "        X=X_train,\n",
    "        y=Y_train,\n",
    "        alpha=0.15,\n",
    "        iterations=800,\n",
    "        num_hidden_neurons=NUM_HIDDEN_NEURONS)"
   ]
  },
  {
   "cell_type": "code",
   "execution_count": 21,
   "id": "45944c82",
   "metadata": {},
   "outputs": [
    {
     "name": "stdout",
     "output_type": "stream",
     "text": [
      "0.7575\n"
     ]
    }
   ],
   "source": [
    "dev_predictions = make_predictions(X_dev, W1, b1, W2, b2)\n",
    "accuracy = get_accuracy(dev_predictions, Y_dev)\n",
    "\n",
    "print(accuracy)"
   ]
  },
  {
   "cell_type": "markdown",
   "id": "44a3d019",
   "metadata": {},
   "source": [
    "## Model 3\n",
    "## Increased learning rate / iterations / neurons / layers\n",
    "\n",
    "The follow will be the specific updates that I will add:\n",
    "- Increae the learning rate / iterations\n",
    "    - Alpha increased from 0.10 to 0.15\n",
    "    - Iterations increased fro 500 to 800\n",
    "- Increase the number of neurons\n",
    "    - 20 > 30 hidden neurons (2nd layer)\n",
    "    - New hidden layer (3rd layer) has 50 neurons\n",
    "- Add an extra layer to the neural network\n",
    "    - 1 hidden layer to 2 hidden layer"
   ]
  },
  {
   "cell_type": "code",
   "execution_count": 22,
   "id": "08c38193",
   "metadata": {},
   "outputs": [
    {
     "name": "stdout",
     "output_type": "stream",
     "text": [
      "Iteration 0, Accuracy: 10.44%\n",
      "Iteration 10, Accuracy: 40.56%\n",
      "Iteration 20, Accuracy: 57.38%\n",
      "Iteration 30, Accuracy: 63.69%\n",
      "Iteration 40, Accuracy: 63.50%\n",
      "Iteration 50, Accuracy: 66.81%\n",
      "Iteration 60, Accuracy: 68.00%\n",
      "Iteration 70, Accuracy: 69.06%\n",
      "Iteration 80, Accuracy: 70.19%\n",
      "Iteration 90, Accuracy: 71.12%\n",
      "Iteration 100, Accuracy: 72.19%\n",
      "Iteration 110, Accuracy: 73.19%\n",
      "Iteration 120, Accuracy: 73.69%\n",
      "Iteration 130, Accuracy: 74.31%\n",
      "Iteration 140, Accuracy: 74.81%\n",
      "Iteration 150, Accuracy: 75.81%\n",
      "Iteration 160, Accuracy: 77.69%\n",
      "Iteration 170, Accuracy: 77.31%\n",
      "Iteration 180, Accuracy: 75.62%\n",
      "Iteration 190, Accuracy: 77.88%\n",
      "Iteration 200, Accuracy: 77.62%\n",
      "Iteration 210, Accuracy: 79.69%\n",
      "Iteration 220, Accuracy: 80.88%\n",
      "Iteration 230, Accuracy: 80.44%\n",
      "Iteration 240, Accuracy: 79.25%\n",
      "Iteration 250, Accuracy: 81.00%\n",
      "Iteration 260, Accuracy: 81.31%\n",
      "Iteration 270, Accuracy: 81.38%\n",
      "Iteration 280, Accuracy: 81.81%\n",
      "Iteration 290, Accuracy: 82.94%\n",
      "Iteration 300, Accuracy: 83.00%\n",
      "Iteration 310, Accuracy: 83.06%\n",
      "Iteration 320, Accuracy: 81.81%\n",
      "Iteration 330, Accuracy: 83.81%\n",
      "Iteration 340, Accuracy: 83.69%\n",
      "Iteration 350, Accuracy: 83.44%\n",
      "Iteration 360, Accuracy: 83.94%\n",
      "Iteration 370, Accuracy: 85.38%\n",
      "Iteration 380, Accuracy: 85.88%\n",
      "Iteration 390, Accuracy: 85.81%\n",
      "Iteration 400, Accuracy: 84.56%\n",
      "Iteration 410, Accuracy: 86.50%\n",
      "Iteration 420, Accuracy: 86.94%\n",
      "Iteration 430, Accuracy: 87.62%\n",
      "Iteration 440, Accuracy: 86.88%\n",
      "Iteration 450, Accuracy: 85.56%\n",
      "Iteration 460, Accuracy: 86.75%\n",
      "Iteration 470, Accuracy: 87.38%\n",
      "Iteration 480, Accuracy: 86.56%\n",
      "Iteration 490, Accuracy: 88.06%\n",
      "Iteration 500, Accuracy: 87.56%\n",
      "Iteration 510, Accuracy: 86.94%\n",
      "Iteration 520, Accuracy: 87.88%\n",
      "Iteration 530, Accuracy: 89.38%\n",
      "Iteration 540, Accuracy: 88.56%\n",
      "Iteration 550, Accuracy: 89.56%\n",
      "Iteration 560, Accuracy: 88.38%\n",
      "Iteration 570, Accuracy: 88.06%\n",
      "Iteration 580, Accuracy: 88.75%\n",
      "Iteration 590, Accuracy: 88.94%\n",
      "Iteration 600, Accuracy: 89.31%\n",
      "Iteration 610, Accuracy: 89.62%\n",
      "Iteration 620, Accuracy: 88.56%\n",
      "Iteration 630, Accuracy: 89.06%\n",
      "Iteration 640, Accuracy: 89.38%\n",
      "Iteration 650, Accuracy: 91.19%\n",
      "Iteration 660, Accuracy: 90.56%\n",
      "Iteration 670, Accuracy: 90.94%\n",
      "Iteration 680, Accuracy: 90.38%\n",
      "Iteration 690, Accuracy: 90.31%\n",
      "Iteration 700, Accuracy: 90.12%\n",
      "Iteration 710, Accuracy: 90.25%\n",
      "Iteration 720, Accuracy: 91.06%\n",
      "Iteration 730, Accuracy: 90.94%\n",
      "Iteration 740, Accuracy: 90.94%\n",
      "Iteration 750, Accuracy: 91.75%\n",
      "Iteration 760, Accuracy: 91.38%\n",
      "Iteration 770, Accuracy: 90.31%\n",
      "Iteration 780, Accuracy: 90.81%\n",
      "Iteration 790, Accuracy: 92.50%\n"
     ]
    }
   ],
   "source": [
    "# Increase the number of neurons in the hidden layers\n",
    "NUM_HIDDEN_NEURONS = 30\n",
    "NUM_HIDDEN_NEURONS2 = 50\n",
    "\n",
    "# Add a layer to the neural netwrok\n",
    "def init_params_v2(X: np.ndarray, y: np.ndarray, num_hidden_neurons1: int, num_hidden_neurons2: int) -> tuple:\n",
    "    \"\"\"\n",
    "    Initialize the weights and biases for the neural network with two hidden layers.\n",
    "    \"\"\"\n",
    "    input_length = X.shape[0]\n",
    "    output_length = len(np.unique(y))\n",
    "\n",
    "    W1 = np.random.rand(input_length, num_hidden_neurons1) - 0.5\n",
    "    b1 = np.random.rand(num_hidden_neurons1, 1) - 0.5\n",
    "    W2 = np.random.rand(num_hidden_neurons1, num_hidden_neurons2) - 0.5\n",
    "    b2 = np.random.rand(num_hidden_neurons2, 1) - 0.5\n",
    "    W3 = np.random.rand(num_hidden_neurons2, output_length) - 0.5\n",
    "    b3 = np.random.rand(output_length, 1) - 0.5\n",
    "\n",
    "    return W1, b1, W2, b2, W3, b3\n",
    "\n",
    "\n",
    "def forward_prop_v2(W1, b1, W2, b2, W3, b3, X):\n",
    "    \"\"\"\n",
    "    Compute the forward propagation step for a neural network with two hidden layers.\n",
    "    \"\"\"\n",
    "    Z1 = W1.T @ X + b1\n",
    "    A1 = ReLU(Z1)\n",
    "    Z2 = W2.T @ A1 + b2\n",
    "    A2 = ReLU(Z2)\n",
    "    Z3 = W3.T @ A2 + b3\n",
    "    A3 = softmax(Z3)\n",
    "\n",
    "    return Z1, A1, Z2, A2, Z3, A3\n",
    "\n",
    "\n",
    "def backward_prop_v2(Z1, A1, Z2, A2, Z3, A3, W1, W2, W3, X, Y):\n",
    "    \"\"\"\n",
    "    Conduct backward propagation for a neural network with two hidden layers.\n",
    "    \"\"\"\n",
    "    m = X.shape[1]\n",
    "    one_hot_Y = one_hot(Y)\n",
    "\n",
    "    dZ3 = A3 - one_hot_Y\n",
    "    dW3 = A2 @ dZ3.T / m\n",
    "    db3 = np.sum(dZ3, axis=1, keepdims=True) / m\n",
    "\n",
    "    dZ2 = W3 @ dZ3 * ReLU_deriv(Z2)\n",
    "    dW2 = A1 @ dZ2.T / m\n",
    "    db2 = np.sum(dZ2, axis=1, keepdims=True) / m\n",
    "\n",
    "    dZ1 = W2 @ dZ2 * ReLU_deriv(Z1)\n",
    "    dW1 = X @ dZ1.T / m\n",
    "    db1 = np.sum(dZ1, axis=1, keepdims=True) / m\n",
    "\n",
    "    return dW1, db1, dW2, db2, dW3, db3\n",
    "\n",
    "\n",
    "def update_params_v2(W1, b1, W2, b2, W3, b3, dW1, db1, dW2, db2, dW3, db3, alpha):\n",
    "    \"\"\"\n",
    "    Update the parameters of the neural network with two hidden layers using gradient descent.\n",
    "    \"\"\"\n",
    "    W1 -= alpha * dW1\n",
    "    b1 -= alpha * db1\n",
    "    W2 -= alpha * dW2\n",
    "    b2 -= alpha * db2\n",
    "    W3 -= alpha * dW3\n",
    "    b3 -= alpha * db3\n",
    "\n",
    "    return W1, b1, W2, b2, W3, b3\n",
    "\n",
    "\n",
    "def gradient_descent_v2(X, y, alpha, iterations, num_hidden_neurons1, num_hidden_neurons2):\n",
    "    \"\"\"\n",
    "    Perform gradient descent to optimize the parameters of the neural network with two hidden layers.\n",
    "    \"\"\"\n",
    "    W1, b1, W2, b2, W3, b3 = init_params_v2(X, y, num_hidden_neurons1, num_hidden_neurons2)\n",
    "\n",
    "    for i in range(iterations):\n",
    "        Z1, A1, Z2, A2, Z3, A3 = forward_prop_v2(W1, b1, W2, b2, W3, b3, X)\n",
    "        dW1, db1, dW2, db2, dW3, db3 = backward_prop_v2(Z1, A1, Z2, A2, Z3, A3, W1, W2, W3, X, y)\n",
    "        W1, b1, W2, b2, W3, b3 = update_params_v2(W1, b1, W2, b2, W3, b3, dW1, db1, dW2, db2, dW3, db3, alpha)\n",
    "\n",
    "        if i % 10 == 0:\n",
    "            predictions = get_predictions(A3)\n",
    "            accuracy = get_accuracy(predictions, y)\n",
    "            print(f\"Iteration {i}, Accuracy: {accuracy * 100:.2f}%\")\n",
    "\n",
    "    return W1, b1, W2, b2, W3, b3\n",
    "\n",
    "# 3. Increase the learning rate / iterations\n",
    "W1_v2, b1_v2, W2_v2, b2_v2, W3_v2, b3_v2 = gradient_descent_v2(\n",
    "        X=X_train,\n",
    "        y=Y_train,\n",
    "        alpha=0.15,\n",
    "        iterations=800,\n",
    "        num_hidden_neurons1=NUM_HIDDEN_NEURONS,\n",
    "        num_hidden_neurons2=NUM_HIDDEN_NEURONS2)\n"
   ]
  },
  {
   "cell_type": "code",
   "execution_count": 23,
   "id": "2891ce84",
   "metadata": {},
   "outputs": [],
   "source": [
    "def make_predictions_v2(X, W1, b1, W2, b2, W3, b3):\n",
    "    \"\"\"\n",
    "    Makes predictions using the trained neural network.\n",
    "    \"\"\"\n",
    "    _, _, _, A2, _, A3 = forward_prop_v2(W1, b1, W2, b2, W3, b3, X) \n",
    "    Z3 = W3.T @ A2 + b3  \n",
    "    A3 = ReLU(Z3) \n",
    "    A2_new = softmax(A3) \n",
    "    predictions = get_predictions(A2_new) \n",
    "    return predictions\n"
   ]
  },
  {
   "cell_type": "code",
   "execution_count": 24,
   "id": "786689b0",
   "metadata": {},
   "outputs": [
    {
     "name": "stdout",
     "output_type": "stream",
     "text": [
      "0.7475\n"
     ]
    }
   ],
   "source": [
    "dev_predictions_v2 = make_predictions_v2(X_dev, W1_v2, b1_v2, W2_v2, b2_v2, W3_v2, b3_v2)\n",
    "accuracy_v2 = get_accuracy(dev_predictions_v2, Y_dev)\n",
    "\n",
    "print(accuracy_v2)"
   ]
  },
  {
   "cell_type": "code",
   "execution_count": 25,
   "id": "de031b66",
   "metadata": {},
   "outputs": [
    {
     "name": "stdout",
     "output_type": "stream",
     "text": [
      "Prediction:  [8]\n",
      "Label:  8\n"
     ]
    },
    {
     "data": {
      "image/png": "[encoded data removed]",
      "text/plain": [
       "<Figure size 640x480 with 1 Axes>"
      ]
     },
     "metadata": {},
     "output_type": "display_data"
    },
    {
     "name": "stdout",
     "output_type": "stream",
     "text": [
      "Prediction:  [6]\n",
      "Label:  4\n"
     ]
    },
    {
     "data": {
      "image/png": "[encoded data removed]",
      "text/plain": [
       "<Figure size 640x480 with 1 Axes>"
      ]
     },
     "metadata": {},
     "output_type": "display_data"
    },
    {
     "name": "stdout",
     "output_type": "stream",
     "text": [
      "Prediction:  [4]\n",
      "Label:  6\n"
     ]
    },
    {
     "data": {
      "image/png": "[encoded data removed]",
      "text/plain": [
       "<Figure size 640x480 with 1 Axes>"
      ]
     },
     "metadata": {},
     "output_type": "display_data"
    },
    {
     "name": "stdout",
     "output_type": "stream",
     "text": [
      "Prediction:  [0]\n",
      "Label:  0\n"
     ]
    },
    {
     "data": {
      "image/png": "[encoded data removed]",
      "text/plain": [
       "<Figure size 640x480 with 1 Axes>"
      ]
     },
     "metadata": {},
     "output_type": "display_data"
    }
   ],
   "source": [
    "def test_prediction_v2(index, W1, b1, W2, b2, W3, b3):\n",
    "    \"\"\"\n",
    "    Test the neural network prediction on a given image from the training set.\n",
    "    \"\"\"\n",
    "    # Extract the image to test\n",
    "    current_image = X_train[:, index, None]\n",
    "    \n",
    "    # Get the prediction from the model\n",
    "    prediction = make_predictions_v2(current_image, W1, b1, W2, b2, W3, b3)\n",
    "    \n",
    "    # Get the true label for the sample\n",
    "    label = Y_train[index]\n",
    "    \n",
    "    # Print the prediction and true label\n",
    "    print(\"Prediction: \", prediction)\n",
    "    print(\"Label: \", label)\n",
    "    \n",
    "    # Reshape the image and scale to original pixel values\n",
    "    current_image = current_image.reshape((28, 28)) * 255\n",
    "    \n",
    "    # Plot the image\n",
    "    plt.gray()\n",
    "    plt.imshow(current_image, interpolation='nearest')\n",
    "    plt.show()\n",
    "\n",
    "# Test predictions for the first few samples\n",
    "test_prediction_v2(0, W1_v2, b1_v2, W2_v2, b2_v2, W3_v2, b3_v2)\n",
    "test_prediction_v2(1, W1_v2, b1_v2, W2_v2, b2_v2, W3_v2, b3_v2)\n",
    "test_prediction_v2(2, W1_v2, b1_v2, W2_v2, b2_v2, W3_v2, b3_v2)\n",
    "test_prediction_v2(50, W1_v2, b1_v2, W2_v2, b2_v2, W3_v2, b3_v2)\n"
   ]
  },
  {
   "cell_type": "markdown",
   "id": "ff7d7ab2",
   "metadata": {},
   "source": [
    "# Results\n",
    "\n",
    "Base Model Accuracy: __0.7675__\n",
    "  - 1 hidden layer\n",
    "    - 20 neurons\n",
    "  - alpha = 0.10\n",
    "  - iterations = 500\n",
    "  - activation = ReLu\n",
    "Model 1 (+ alpha/iterations): __0.785__\n",
    "  - 1 hidden layer\n",
    "    - 20 neurons\n",
    "  - alpha = 0.15\n",
    "  - iterations = 800\n",
    "  - activation = ReLu\n",
    "Model 2 (+ alpha/iterations/neurons): __0.7775__\n",
    "  - 1 hidden layer\n",
    "    - 50 neurons\n",
    "  - alpha = 0.15\n",
    "  - iterations = 800\n",
    "  - activation = ReLu\n",
    "Model 3 (+ alpha/iterations/neurons/layers): __0.7625__\n",
    "  - 2 hidden layers\n",
    "    - 30 neurons\n",
    "    - 50 neurons\n",
    "  - alpha = 0.15\n",
    "  - iterations = 800\n",
    "  - activation = ReLu\n",
    "\n",
    "\n",
    "Honestly, the results were very interesting. I totally expected the model with all the changes to do the best. However, it looks like the more complexity I added, the worst the model performed. The only model that didn't improve on the base model performance was the last, most complex neural network! I still think my initial intuition for adding these changes is still sound - espeacially as I did note the drawbacks of each change.\n",
    "\n",
    "As I mentioned in the reasoining for my \"improvements\", these results probably suggest some level of overfitting and poor generalizability. On the other hand, the best out of the three experimental models was the most simple, base model but with slight tweaks to the learning rate and iterations. The results show a significant improvement over the base model (1.75 percent increase) suggesting solid generalization. This model isn't perfect or performant really but I feel like it's honestly not bad considering this is all done with numpy. The folks that discovered and developed this is pretty wild. \n",
    "\n",
    "The main takeaway from this, aside from implementing the neural network from scratch is that complexity != results. I think at the end of the day, good quality data and a deep learning model that is moderately tuned/optimized is the way to go."
   ]
  },
  {
   "cell_type": "markdown",
   "id": "4cb55c39",
   "metadata": {},
   "source": []
  }
 ],
 "metadata": {
  "kernelspec": {
   "display_name": ".venv",
   "language": "python",
   "name": "python3"
  },
  "language_info": {
   "codemirror_mode": {
    "name": "ipython",
    "version": 3
   },
   "file_extension": ".py",
   "mimetype": "text/x-python",
   "name": "python",
   "nbconvert_exporter": "python",
   "pygments_lexer": "ipython3",
   "version": "3.12.3"
  }
 },
 "nbformat": 4,
 "nbformat_minor": 5
}
