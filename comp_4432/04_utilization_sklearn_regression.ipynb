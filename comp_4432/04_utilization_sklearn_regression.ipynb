{
 "cells": [
  {
   "cell_type": "code",
   "execution_count": 41,
   "metadata": {},
   "outputs": [
    {
     "data": {
      "text/html": [
       "<div>\n",
       "<style scoped>\n",
       "    .dataframe tbody tr th:only-of-type {\n",
       "        vertical-align: middle;\n",
       "    }\n",
       "\n",
       "    .dataframe tbody tr th {\n",
       "        vertical-align: top;\n",
       "    }\n",
       "\n",
       "    .dataframe thead th {\n",
       "        text-align: right;\n",
       "    }\n",
       "</style>\n",
       "<table border=\"1\" class=\"dataframe\">\n",
       "  <thead>\n",
       "    <tr style=\"text-align: right;\">\n",
       "      <th></th>\n",
       "      <th>season</th>\n",
       "      <th>yr</th>\n",
       "      <th>mnth</th>\n",
       "      <th>hr</th>\n",
       "      <th>holiday</th>\n",
       "      <th>weekday</th>\n",
       "      <th>workingday</th>\n",
       "      <th>weathersit</th>\n",
       "      <th>temp</th>\n",
       "      <th>atemp</th>\n",
       "      <th>hum</th>\n",
       "      <th>windspeed</th>\n",
       "      <th>casual</th>\n",
       "      <th>registered</th>\n",
       "      <th>cnt</th>\n",
       "    </tr>\n",
       "  </thead>\n",
       "  <tbody>\n",
       "    <tr>\n",
       "      <th>0</th>\n",
       "      <td>1</td>\n",
       "      <td>0</td>\n",
       "      <td>1</td>\n",
       "      <td>0</td>\n",
       "      <td>0</td>\n",
       "      <td>6</td>\n",
       "      <td>0</td>\n",
       "      <td>1</td>\n",
       "      <td>0.24</td>\n",
       "      <td>0.2879</td>\n",
       "      <td>0.81</td>\n",
       "      <td>0.0</td>\n",
       "      <td>3</td>\n",
       "      <td>13</td>\n",
       "      <td>16</td>\n",
       "    </tr>\n",
       "    <tr>\n",
       "      <th>1</th>\n",
       "      <td>1</td>\n",
       "      <td>0</td>\n",
       "      <td>1</td>\n",
       "      <td>1</td>\n",
       "      <td>0</td>\n",
       "      <td>6</td>\n",
       "      <td>0</td>\n",
       "      <td>1</td>\n",
       "      <td>0.22</td>\n",
       "      <td>0.2727</td>\n",
       "      <td>0.80</td>\n",
       "      <td>0.0</td>\n",
       "      <td>8</td>\n",
       "      <td>32</td>\n",
       "      <td>40</td>\n",
       "    </tr>\n",
       "    <tr>\n",
       "      <th>2</th>\n",
       "      <td>1</td>\n",
       "      <td>0</td>\n",
       "      <td>1</td>\n",
       "      <td>2</td>\n",
       "      <td>0</td>\n",
       "      <td>6</td>\n",
       "      <td>0</td>\n",
       "      <td>1</td>\n",
       "      <td>0.22</td>\n",
       "      <td>0.2727</td>\n",
       "      <td>0.80</td>\n",
       "      <td>0.0</td>\n",
       "      <td>5</td>\n",
       "      <td>27</td>\n",
       "      <td>32</td>\n",
       "    </tr>\n",
       "    <tr>\n",
       "      <th>3</th>\n",
       "      <td>1</td>\n",
       "      <td>0</td>\n",
       "      <td>1</td>\n",
       "      <td>3</td>\n",
       "      <td>0</td>\n",
       "      <td>6</td>\n",
       "      <td>0</td>\n",
       "      <td>1</td>\n",
       "      <td>0.24</td>\n",
       "      <td>0.2879</td>\n",
       "      <td>0.75</td>\n",
       "      <td>0.0</td>\n",
       "      <td>3</td>\n",
       "      <td>10</td>\n",
       "      <td>13</td>\n",
       "    </tr>\n",
       "    <tr>\n",
       "      <th>4</th>\n",
       "      <td>1</td>\n",
       "      <td>0</td>\n",
       "      <td>1</td>\n",
       "      <td>4</td>\n",
       "      <td>0</td>\n",
       "      <td>6</td>\n",
       "      <td>0</td>\n",
       "      <td>1</td>\n",
       "      <td>0.24</td>\n",
       "      <td>0.2879</td>\n",
       "      <td>0.75</td>\n",
       "      <td>0.0</td>\n",
       "      <td>0</td>\n",
       "      <td>1</td>\n",
       "      <td>1</td>\n",
       "    </tr>\n",
       "  </tbody>\n",
       "</table>\n",
       "</div>"
      ],
      "text/plain": [
       "   season  yr  mnth  hr  holiday  weekday  workingday  weathersit  temp  \\\n",
       "0       1   0     1   0        0        6           0           1  0.24   \n",
       "1       1   0     1   1        0        6           0           1  0.22   \n",
       "2       1   0     1   2        0        6           0           1  0.22   \n",
       "3       1   0     1   3        0        6           0           1  0.24   \n",
       "4       1   0     1   4        0        6           0           1  0.24   \n",
       "\n",
       "    atemp   hum  windspeed  casual  registered  cnt  \n",
       "0  0.2879  0.81        0.0       3          13   16  \n",
       "1  0.2727  0.80        0.0       8          32   40  \n",
       "2  0.2727  0.80        0.0       5          27   32  \n",
       "3  0.2879  0.75        0.0       3          10   13  \n",
       "4  0.2879  0.75        0.0       0           1    1  "
      ]
     },
     "execution_count": 41,
     "metadata": {},
     "output_type": "execute_result"
    }
   ],
   "source": [
    "import pandas as pd\n",
    "import numpy as np\n",
    "import matplotlib.pyplot as plt\n",
    "import seaborn as sns\n",
    "\n",
    "from sklearn.linear_model import LinearRegression\n",
    "from sklearn.tree import DecisionTreeRegressor\n",
    "from sklearn.ensemble import RandomForestRegressor\n",
    "\n",
    "from sklearn.model_selection import train_test_split\n",
    "\n",
    "from sklearn.pipeline import Pipeline\n",
    "from sklearn.model_selection import RandomizedSearchCV\n",
    "\n",
    "from sklearn.model_selection import cross_validate\n",
    "from sklearn.metrics import r2_score, root_mean_squared_error\n",
    "\n",
    "\n",
    "url = 'https://raw.githubusercontent.com/arjayit/cs4432_data/master/bike_share_hour.csv'\n",
    "df = pd.read_csv(url)\n",
    "df = df.drop(columns=['dteday', 'instant'])\n",
    "df.head()"
   ]
  },
  {
   "cell_type": "markdown",
   "metadata": {},
   "source": [
    "# Part 1: Data Exploration\n",
    "Dataset characteristics\n",
    "\n",
    "Both hour.csv and day.csv have the following fields, except hr which is not available in day.csv\n",
    "\t\n",
    "- instant: record index\n",
    "- dteday : date\n",
    "- season : season (1:springer, 2:summer, 3:fall, 4:winter)\n",
    "- yr : year (0: 2011, 1:2012)\n",
    "- mnth : month ( 1 to 12)\n",
    "- hr : hour (0 to 23)\n",
    "- holiday : weather day is holiday or not (extracted from http://dchr.dc.gov/page/holiday-schedule)\n",
    "- weekday : day of the week\n",
    "- workingday : if day is neither weekend nor holiday is 1, otherwise is 0.\n",
    "- weathersit : \n",
    "\t- 1: Clear, Few clouds, Partly cloudy, Partly cloudy\n",
    "\t- 2: Mist + Cloudy, Mist + Broken clouds, Mist + Few clouds, Mist\n",
    "\t- 3: Light Snow, Light Rain + Thunderstorm + Scattered clouds, Light Rain + Scattered clouds\n",
    "\t- 4: Heavy Rain + Ice Pallets + Thunderstorm + Mist, Snow + Fog\n",
    "- temp : Normalized temperature in Celsius. The values are divided to 41 (max)\n",
    "- atemp: Normalized feeling temperature in Celsius. The values are divided to 50 (max)\n",
    "- hum: Normalized humidity. The values are divided to 100 (max)\n",
    "- windspeed: Normalized wind speed. The values are divided to 67 (max)\n",
    "- casual: count of casual users\n",
    "- registered: count of registered users\n",
    "- cnt: count of total rental bikes including both casual and registered"
   ]
  },
  {
   "cell_type": "code",
   "execution_count": 42,
   "metadata": {},
   "outputs": [
    {
     "name": "stdout",
     "output_type": "stream",
     "text": [
      "<class 'pandas.core.frame.DataFrame'>\n",
      "RangeIndex: 17379 entries, 0 to 17378\n",
      "Data columns (total 15 columns):\n",
      " #   Column      Non-Null Count  Dtype  \n",
      "---  ------      --------------  -----  \n",
      " 0   season      17379 non-null  int64  \n",
      " 1   yr          17379 non-null  int64  \n",
      " 2   mnth        17379 non-null  int64  \n",
      " 3   hr          17379 non-null  int64  \n",
      " 4   holiday     17379 non-null  int64  \n",
      " 5   weekday     17379 non-null  int64  \n",
      " 6   workingday  17379 non-null  int64  \n",
      " 7   weathersit  17379 non-null  int64  \n",
      " 8   temp        17379 non-null  float64\n",
      " 9   atemp       17379 non-null  float64\n",
      " 10  hum         17379 non-null  float64\n",
      " 11  windspeed   17379 non-null  float64\n",
      " 12  casual      17379 non-null  int64  \n",
      " 13  registered  17379 non-null  int64  \n",
      " 14  cnt         17379 non-null  int64  \n",
      "dtypes: float64(4), int64(11)\n",
      "memory usage: 2.0 MB\n"
     ]
    }
   ],
   "source": [
    "df.info()"
   ]
  },
  {
   "cell_type": "code",
   "execution_count": 43,
   "metadata": {},
   "outputs": [],
   "source": [
    "# convert categorical cols\n",
    "cat_cols = ['season', 'yr', 'hr', 'mnth', 'holiday', 'weekday', 'workingday', 'weathersit']\n",
    "\n",
    "for col in cat_cols:\n",
    "    df[col] = df[col].astype('category')"
   ]
  },
  {
   "cell_type": "code",
   "execution_count": 44,
   "metadata": {},
   "outputs": [
    {
     "data": {
      "text/plain": [
       "season        0\n",
       "yr            0\n",
       "mnth          0\n",
       "hr            0\n",
       "holiday       0\n",
       "weekday       0\n",
       "workingday    0\n",
       "weathersit    0\n",
       "temp          0\n",
       "atemp         0\n",
       "hum           0\n",
       "windspeed     0\n",
       "casual        0\n",
       "registered    0\n",
       "cnt           0\n",
       "dtype: int64"
      ]
     },
     "execution_count": 44,
     "metadata": {},
     "output_type": "execute_result"
    }
   ],
   "source": [
    "# check for nulls\n",
    "df.isna().sum()"
   ]
  },
  {
   "cell_type": "code",
   "execution_count": 45,
   "metadata": {},
   "outputs": [
    {
     "data": {
      "text/html": [
       "<div>\n",
       "<style scoped>\n",
       "    .dataframe tbody tr th:only-of-type {\n",
       "        vertical-align: middle;\n",
       "    }\n",
       "\n",
       "    .dataframe tbody tr th {\n",
       "        vertical-align: top;\n",
       "    }\n",
       "\n",
       "    .dataframe thead th {\n",
       "        text-align: right;\n",
       "    }\n",
       "</style>\n",
       "<table border=\"1\" class=\"dataframe\">\n",
       "  <thead>\n",
       "    <tr style=\"text-align: right;\">\n",
       "      <th></th>\n",
       "      <th>mnth</th>\n",
       "      <th>season</th>\n",
       "    </tr>\n",
       "  </thead>\n",
       "  <tbody>\n",
       "    <tr>\n",
       "      <th>0</th>\n",
       "      <td>1</td>\n",
       "      <td>1</td>\n",
       "    </tr>\n",
       "    <tr>\n",
       "      <th>688</th>\n",
       "      <td>2</td>\n",
       "      <td>1</td>\n",
       "    </tr>\n",
       "    <tr>\n",
       "      <th>1337</th>\n",
       "      <td>3</td>\n",
       "      <td>1</td>\n",
       "    </tr>\n",
       "    <tr>\n",
       "      <th>1807</th>\n",
       "      <td>3</td>\n",
       "      <td>2</td>\n",
       "    </tr>\n",
       "    <tr>\n",
       "      <th>2067</th>\n",
       "      <td>4</td>\n",
       "      <td>2</td>\n",
       "    </tr>\n",
       "    <tr>\n",
       "      <th>2786</th>\n",
       "      <td>5</td>\n",
       "      <td>2</td>\n",
       "    </tr>\n",
       "    <tr>\n",
       "      <th>3530</th>\n",
       "      <td>6</td>\n",
       "      <td>2</td>\n",
       "    </tr>\n",
       "    <tr>\n",
       "      <th>4010</th>\n",
       "      <td>6</td>\n",
       "      <td>3</td>\n",
       "    </tr>\n",
       "    <tr>\n",
       "      <th>4250</th>\n",
       "      <td>7</td>\n",
       "      <td>3</td>\n",
       "    </tr>\n",
       "    <tr>\n",
       "      <th>4994</th>\n",
       "      <td>8</td>\n",
       "      <td>3</td>\n",
       "    </tr>\n",
       "    <tr>\n",
       "      <th>5725</th>\n",
       "      <td>9</td>\n",
       "      <td>3</td>\n",
       "    </tr>\n",
       "    <tr>\n",
       "      <th>6250</th>\n",
       "      <td>9</td>\n",
       "      <td>4</td>\n",
       "    </tr>\n",
       "    <tr>\n",
       "      <th>6442</th>\n",
       "      <td>10</td>\n",
       "      <td>4</td>\n",
       "    </tr>\n",
       "    <tr>\n",
       "      <th>7185</th>\n",
       "      <td>11</td>\n",
       "      <td>4</td>\n",
       "    </tr>\n",
       "    <tr>\n",
       "      <th>7904</th>\n",
       "      <td>12</td>\n",
       "      <td>4</td>\n",
       "    </tr>\n",
       "    <tr>\n",
       "      <th>8384</th>\n",
       "      <td>12</td>\n",
       "      <td>1</td>\n",
       "    </tr>\n",
       "  </tbody>\n",
       "</table>\n",
       "</div>"
      ],
      "text/plain": [
       "     mnth season\n",
       "0       1      1\n",
       "688     2      1\n",
       "1337    3      1\n",
       "1807    3      2\n",
       "2067    4      2\n",
       "2786    5      2\n",
       "3530    6      2\n",
       "4010    6      3\n",
       "4250    7      3\n",
       "4994    8      3\n",
       "5725    9      3\n",
       "6250    9      4\n",
       "6442   10      4\n",
       "7185   11      4\n",
       "7904   12      4\n",
       "8384   12      1"
      ]
     },
     "execution_count": 45,
     "metadata": {},
     "output_type": "execute_result"
    }
   ],
   "source": [
    "# which months belong to what seasons?\n",
    "df[['mnth', 'season']].drop_duplicates()"
   ]
  },
  {
   "cell_type": "markdown",
   "metadata": {},
   "source": [
    "Based on the code above and the readme, the assignment of months to season in the bike share dataset description seems to have a typo. It sets the winter months as spring, the spring as summer, summer as fall, and fall as winter months. \n",
    "\n",
    "Therefore the actual season : [months] should be\n",
    "\n",
    "- Winter Months (1): Dec, Jan, Feb, Mar\n",
    "- Spring Months (2): Mar, Apr, May, Jun\n",
    "- Summer Months (3): Jun, Jul, Aug, Sep\n",
    "- Fall Months (4): Sep, Oct, Nov, Dec"
   ]
  },
  {
   "cell_type": "code",
   "execution_count": 46,
   "metadata": {},
   "outputs": [
    {
     "data": {
      "text/html": [
       "<div>\n",
       "<style scoped>\n",
       "    .dataframe tbody tr th:only-of-type {\n",
       "        vertical-align: middle;\n",
       "    }\n",
       "\n",
       "    .dataframe tbody tr th {\n",
       "        vertical-align: top;\n",
       "    }\n",
       "\n",
       "    .dataframe thead th {\n",
       "        text-align: right;\n",
       "    }\n",
       "</style>\n",
       "<table border=\"1\" class=\"dataframe\">\n",
       "  <thead>\n",
       "    <tr style=\"text-align: right;\">\n",
       "      <th></th>\n",
       "      <th>temp</th>\n",
       "      <th>atemp</th>\n",
       "      <th>hum</th>\n",
       "      <th>windspeed</th>\n",
       "      <th>casual</th>\n",
       "      <th>registered</th>\n",
       "      <th>cnt</th>\n",
       "    </tr>\n",
       "  </thead>\n",
       "  <tbody>\n",
       "    <tr>\n",
       "      <th>count</th>\n",
       "      <td>17379.000000</td>\n",
       "      <td>17379.000000</td>\n",
       "      <td>17379.000000</td>\n",
       "      <td>17379.000000</td>\n",
       "      <td>17379.000000</td>\n",
       "      <td>17379.000000</td>\n",
       "      <td>17379.000000</td>\n",
       "    </tr>\n",
       "    <tr>\n",
       "      <th>mean</th>\n",
       "      <td>0.496987</td>\n",
       "      <td>0.475775</td>\n",
       "      <td>0.627229</td>\n",
       "      <td>0.190098</td>\n",
       "      <td>35.676218</td>\n",
       "      <td>153.786869</td>\n",
       "      <td>189.463088</td>\n",
       "    </tr>\n",
       "    <tr>\n",
       "      <th>std</th>\n",
       "      <td>0.192556</td>\n",
       "      <td>0.171850</td>\n",
       "      <td>0.192930</td>\n",
       "      <td>0.122340</td>\n",
       "      <td>49.305030</td>\n",
       "      <td>151.357286</td>\n",
       "      <td>181.387599</td>\n",
       "    </tr>\n",
       "    <tr>\n",
       "      <th>min</th>\n",
       "      <td>0.020000</td>\n",
       "      <td>0.000000</td>\n",
       "      <td>0.000000</td>\n",
       "      <td>0.000000</td>\n",
       "      <td>0.000000</td>\n",
       "      <td>0.000000</td>\n",
       "      <td>1.000000</td>\n",
       "    </tr>\n",
       "    <tr>\n",
       "      <th>25%</th>\n",
       "      <td>0.340000</td>\n",
       "      <td>0.333300</td>\n",
       "      <td>0.480000</td>\n",
       "      <td>0.104500</td>\n",
       "      <td>4.000000</td>\n",
       "      <td>34.000000</td>\n",
       "      <td>40.000000</td>\n",
       "    </tr>\n",
       "    <tr>\n",
       "      <th>50%</th>\n",
       "      <td>0.500000</td>\n",
       "      <td>0.484800</td>\n",
       "      <td>0.630000</td>\n",
       "      <td>0.194000</td>\n",
       "      <td>17.000000</td>\n",
       "      <td>115.000000</td>\n",
       "      <td>142.000000</td>\n",
       "    </tr>\n",
       "    <tr>\n",
       "      <th>75%</th>\n",
       "      <td>0.660000</td>\n",
       "      <td>0.621200</td>\n",
       "      <td>0.780000</td>\n",
       "      <td>0.253700</td>\n",
       "      <td>48.000000</td>\n",
       "      <td>220.000000</td>\n",
       "      <td>281.000000</td>\n",
       "    </tr>\n",
       "    <tr>\n",
       "      <th>max</th>\n",
       "      <td>1.000000</td>\n",
       "      <td>1.000000</td>\n",
       "      <td>1.000000</td>\n",
       "      <td>0.850700</td>\n",
       "      <td>367.000000</td>\n",
       "      <td>886.000000</td>\n",
       "      <td>977.000000</td>\n",
       "    </tr>\n",
       "  </tbody>\n",
       "</table>\n",
       "</div>"
      ],
      "text/plain": [
       "               temp         atemp           hum     windspeed        casual  \\\n",
       "count  17379.000000  17379.000000  17379.000000  17379.000000  17379.000000   \n",
       "mean       0.496987      0.475775      0.627229      0.190098     35.676218   \n",
       "std        0.192556      0.171850      0.192930      0.122340     49.305030   \n",
       "min        0.020000      0.000000      0.000000      0.000000      0.000000   \n",
       "25%        0.340000      0.333300      0.480000      0.104500      4.000000   \n",
       "50%        0.500000      0.484800      0.630000      0.194000     17.000000   \n",
       "75%        0.660000      0.621200      0.780000      0.253700     48.000000   \n",
       "max        1.000000      1.000000      1.000000      0.850700    367.000000   \n",
       "\n",
       "         registered           cnt  \n",
       "count  17379.000000  17379.000000  \n",
       "mean     153.786869    189.463088  \n",
       "std      151.357286    181.387599  \n",
       "min        0.000000      1.000000  \n",
       "25%       34.000000     40.000000  \n",
       "50%      115.000000    142.000000  \n",
       "75%      220.000000    281.000000  \n",
       "max      886.000000    977.000000  "
      ]
     },
     "execution_count": 46,
     "metadata": {},
     "output_type": "execute_result"
    }
   ],
   "source": [
    "df.describe()"
   ]
  },
  {
   "cell_type": "markdown",
   "metadata": {},
   "source": [
    "The ranges of temp, atemp, and hum are from 0 to 1. This strongly suggests that these columns have already been scaled (normalized).\n",
    "\n",
    "Windspeed, casual, registered, and count however are their true values. "
   ]
  },
  {
   "cell_type": "code",
   "execution_count": 47,
   "metadata": {},
   "outputs": [
    {
     "data": {
      "image/png": "[encoded data removed]",
      "text/plain": [
       "<Figure size 640x480 with 1 Axes>"
      ]
     },
     "metadata": {},
     "output_type": "display_data"
    }
   ],
   "source": [
    "# Construct a bar plot of cnt versus season.  \n",
    "# In a Markdown cell, document any pattern observed.  Does this agree with your intuition?\n",
    "\n",
    "sns.barplot(x=df['season'], y=df['cnt'], estimator=np.sum);"
   ]
  },
  {
   "cell_type": "markdown",
   "metadata": {},
   "source": [
    "ANS: We see the lowest count in the winter season, which then increase into spring, maximizes during the summer, and then drops slightly down in the fall. This pattern is expected given that summer is usually when most people are out and about and active."
   ]
  },
  {
   "cell_type": "code",
   "execution_count": 48,
   "metadata": {},
   "outputs": [
    {
     "data": {
      "image/png": "[encoded data removed]",
      "text/plain": [
       "<Figure size 640x480 with 1 Axes>"
      ]
     },
     "metadata": {},
     "output_type": "display_data"
    }
   ],
   "source": [
    "# Construct a bar chart of cnt versus workingday  \n",
    "# In Markdown cell, document how bike rides are distributed across the two options of working day.  \n",
    "# Consider whether the sum or the mean is a better representation.\n",
    "\n",
    "sns.barplot(x=df['workingday'], y=df['cnt'], estimator=np.sum);"
   ]
  },
  {
   "cell_type": "markdown",
   "metadata": {},
   "source": [
    "ANS: On first pass, it looks like the bike share counts working days are much higher than non-working days. However, there are way more working days than non-working days in a year and will misrepresent the comparison. In this case, the total count or sum is not the best representation of this data. Therefore, the mean would be a better representation."
   ]
  },
  {
   "cell_type": "code",
   "execution_count": 49,
   "metadata": {},
   "outputs": [
    {
     "data": {
      "image/png": "[encoded data removed]",
      "text/plain": [
       "<Figure size 640x480 with 1 Axes>"
      ]
     },
     "metadata": {},
     "output_type": "display_data"
    }
   ],
   "source": [
    "# looking at the mean, we can see that the two values are much closer (tho working days is still higher)\n",
    "sns.barplot(x=df['workingday'], y=df['cnt'],estimator=np.mean);"
   ]
  },
  {
   "cell_type": "code",
   "execution_count": 50,
   "metadata": {},
   "outputs": [
    {
     "data": {
      "image/png": "[encoded data removed]",
      "text/plain": [
       "<Figure size 640x480 with 1 Axes>"
      ]
     },
     "metadata": {},
     "output_type": "display_data"
    }
   ],
   "source": [
    "# Construct a bar chart for cnt versus mnth.  \n",
    "# In a Markdown cell, discuss the pattern.  Does this agree with your intuition?\n",
    "\n",
    "sns.barplot(x=df['mnth'], y=df['cnt'], estimator=np.sum);"
   ]
  },
  {
   "cell_type": "markdown",
   "metadata": {},
   "source": [
    "ANS: Similar to the pattern we saw for season, we see the lowest bike share activity count in the colder months from January-March, then it picks up in the Spring (March-May), maxes out in the hottest months (June-Sep), and then starts to decrease as the weather cools in the fall. This is expected as the hot, dry months in North America are when most people are active and outside."
   ]
  },
  {
   "cell_type": "code",
   "execution_count": 51,
   "metadata": {},
   "outputs": [
    {
     "data": {
      "image/png": "[encoded data removed]",
      "text/plain": [
       "<Figure size 640x480 with 1 Axes>"
      ]
     },
     "metadata": {},
     "output_type": "display_data"
    }
   ],
   "source": [
    "# Construct a bar plot of cnt versus weathersit.   \n",
    "# In a Markdown cell,  discuss the pattern.\n",
    "\n",
    "sns.barplot(x=df['weathersit'], y=df['cnt'], estimator=np.sum);"
   ]
  },
  {
   "cell_type": "markdown",
   "metadata": {},
   "source": [
    "- weathersit\n",
    "\t- 1: Clear, Few clouds, Partly cloudy, Partly cloudy\n",
    "\t- 2: Mist + Cloudy, Mist + Broken clouds, Mist + Few clouds, Mist\n",
    "\t- 3: Light Snow, Light Rain + Thunderstorm + Scattered clouds, Light Rain + Scattered clouds\n",
    "\t- 4: Heavy Rain + Ice Pallets + Thunderstorm + Mist, Snow + Fog\n",
    "\n",
    "ANS: Weather situation values go from best weather (1) to worst weather (4). The pattern we see is heavy right skew where most bike share activity occurs in the best weather and quickly drops off as weather worsens."
   ]
  },
  {
   "cell_type": "code",
   "execution_count": 52,
   "metadata": {},
   "outputs": [
    {
     "data": {
      "image/png": "[encoded data removed]",
      "text/plain": [
       "<Figure size 640x480 with 1 Axes>"
      ]
     },
     "metadata": {},
     "output_type": "display_data"
    }
   ],
   "source": [
    "# Construct a point plot of weathersit on the x-axis, cnt on the y-axis, and season as the hue.  \n",
    "# In a Markdown cell, document how season and weathersit are related. \n",
    "\n",
    "sns.pointplot(x='weathersit', y='cnt', estimator=np.sum, hue='season', data=df, errorbar=None);"
   ]
  },
  {
   "cell_type": "markdown",
   "metadata": {},
   "source": [
    "ANS:\n",
    "- Season 1 (Winter): winter looks to have the lowest count of \"great weather\" and the highest amount of non-good weather\n",
    "- Season 3 (Summer): summer looks to have the highest count of \"great weather\" and the lowest amount of non-good weather\n",
    "\n",
    "Overall, the seasons and weather situations follow a pattern and are correlated to one another. The good weather associated with weather situation 1/2 is most aligned with what you would find in Spring/Summer and the bad weather you would find in 3/4 is most aligned with Fall/Winter.\n",
    "\n",
    "The same relationship exists where better weather is directly proportional to more rides."
   ]
  },
  {
   "cell_type": "code",
   "execution_count": 53,
   "metadata": {},
   "outputs": [
    {
     "data": {
      "image/png": "[encoded data removed]",
      "text/plain": [
       "<Figure size 640x480 with 1 Axes>"
      ]
     },
     "metadata": {},
     "output_type": "display_data"
    }
   ],
   "source": [
    "# Construct a bar plot of cnt versus hr for workingday = 1.  \n",
    "# In a Markdown cell, discuss the pattern?  Does this agree with your intuition?\n",
    "\n",
    "# filter df to be for workingday == 1\n",
    "df_workingday = df.loc[df['workingday'] == 1]\n",
    "\n",
    "sns.barplot(x=df_workingday['hr'], y=df_workingday['cnt'], estimator=np.sum)\n",
    "\n",
    "plt.title('Total Count by Hour on Working Days')\n",
    "\n",
    "plt.show()"
   ]
  },
  {
   "cell_type": "markdown",
   "metadata": {},
   "source": [
    "ANS: The pattern looks to be very low activity in the late night/early morning, a spike between 7-10a, then low-to-moderate activity during business hours, and then another spike between 4-8p. This follows my intution as the bike share activity looks to be correlated with commuting times on working days. There's a spike during the morning and afternoon commuting rush (as expected)."
   ]
  },
  {
   "cell_type": "code",
   "execution_count": 54,
   "metadata": {},
   "outputs": [
    {
     "data": {
      "image/png": "[encoded data removed]",
      "text/plain": [
       "<Figure size 640x480 with 1 Axes>"
      ]
     },
     "metadata": {},
     "output_type": "display_data"
    }
   ],
   "source": [
    "# Construct a bar plot of cnt versus hr for workingday = 0. \n",
    "# In a Markdown cell, discuss the pattern, and how it compares to workingday = 1.\n",
    "\n",
    "# filter df to be for workingday == 0\n",
    "df_non_workday = df.loc[df['workingday'] == 0]\n",
    "\n",
    "sns.barplot(x=df_non_workday['hr'], y=df_non_workday['cnt'], estimator=np.sum)\n",
    "\n",
    "plt.title('Total Count by Hour on Non-Working Days')\n",
    "\n",
    "plt.show()"
   ]
  },
  {
   "cell_type": "markdown",
   "metadata": {},
   "source": [
    "ANS: The pattern of the data here is for non-worky days (weekends/holidays). There is useage in the late evening/eary morning, low useage from around 4-6a, and then an increase of usage at around 9am and then maximum/bell-shaped curve between 12-4p. The usage then gradually decreases in the night. This follows my intuition of how bike shares get used on recreational days. The super early morning rides I imagine are from people out late at night who had a few drinks and are getting home safely ;). The rest of the activity for the rest of the day is almost normal around the main hours of the day which is from 10-3p when most people are out and about, enjoying the outsude, and where most businesses are open. \n",
    "\n",
    "This is in contrast to the working days where most of the activity is spiking during commuting hours and then activity lessens during core business hours when people are working. The two distributions are almost inverse to one another which again, is expected."
   ]
  },
  {
   "cell_type": "code",
   "execution_count": 55,
   "metadata": {},
   "outputs": [
    {
     "data": {
      "text/plain": [
       "count    17379.000000\n",
       "mean       189.463088\n",
       "std        181.387599\n",
       "min          1.000000\n",
       "25%         40.000000\n",
       "50%        142.000000\n",
       "75%        281.000000\n",
       "max        977.000000\n",
       "Name: cnt, dtype: float64"
      ]
     },
     "execution_count": 55,
     "metadata": {},
     "output_type": "execute_result"
    }
   ],
   "source": [
    "df['cnt'].describe()"
   ]
  },
  {
   "cell_type": "code",
   "execution_count": 56,
   "metadata": {},
   "outputs": [
    {
     "data": {
      "image/png": "[encoded data removed]",
      "text/plain": [
       "<Figure size 640x480 with 1 Axes>"
      ]
     },
     "metadata": {},
     "output_type": "display_data"
    }
   ],
   "source": [
    "# Construct a histogram of the cnt column.  \n",
    "# In a Markdown cell, what can be said based on the resulting distribution?\n",
    "\n",
    "sns.histplot(df['cnt']);"
   ]
  },
  {
   "cell_type": "markdown",
   "metadata": {},
   "source": [
    "ANS: The resulting distribution is highly right skewed with a long right tail for hourly bike rentals. The value cnts gives the total number of bikes being rented out in a specific hour of a specific day. Therefore, we can see that the majority of the time, for a specific hour, that the amount of bikes on the road is less than one hundred. As the count of bikes/hour goes up, the amount of those instances drastically decresaes. The long right tail also suggests occasional periods of very high demand which as we saw above, which can possibly be from rush hours or special events/holidays.\n",
    "\n",
    "In addition, the wide range of rental counts from 1 to nearly 1000 indicates high variability in usage. This variability can come from all sorts of factors like we explored earlier. This can be seen in time of day, day of the week, weather conditions, and seasonal effects. "
   ]
  },
  {
   "cell_type": "markdown",
   "metadata": {},
   "source": [
    "# Part 2: Data Preparation"
   ]
  },
  {
   "cell_type": "code",
   "execution_count": 57,
   "metadata": {},
   "outputs": [
    {
     "data": {
      "text/html": [
       "<div>\n",
       "<style scoped>\n",
       "    .dataframe tbody tr th:only-of-type {\n",
       "        vertical-align: middle;\n",
       "    }\n",
       "\n",
       "    .dataframe tbody tr th {\n",
       "        vertical-align: top;\n",
       "    }\n",
       "\n",
       "    .dataframe thead th {\n",
       "        text-align: right;\n",
       "    }\n",
       "</style>\n",
       "<table border=\"1\" class=\"dataframe\">\n",
       "  <thead>\n",
       "    <tr style=\"text-align: right;\">\n",
       "      <th></th>\n",
       "      <th>temp</th>\n",
       "      <th>atemp</th>\n",
       "      <th>hum</th>\n",
       "      <th>windspeed</th>\n",
       "      <th>casual</th>\n",
       "      <th>registered</th>\n",
       "      <th>cnt</th>\n",
       "    </tr>\n",
       "  </thead>\n",
       "  <tbody>\n",
       "    <tr>\n",
       "      <th>temp</th>\n",
       "      <td>1.000000</td>\n",
       "      <td>0.987672</td>\n",
       "      <td>-0.069881</td>\n",
       "      <td>-0.023125</td>\n",
       "      <td>0.459616</td>\n",
       "      <td>0.335361</td>\n",
       "      <td>0.404772</td>\n",
       "    </tr>\n",
       "    <tr>\n",
       "      <th>atemp</th>\n",
       "      <td>0.987672</td>\n",
       "      <td>1.000000</td>\n",
       "      <td>-0.051918</td>\n",
       "      <td>-0.062336</td>\n",
       "      <td>0.454080</td>\n",
       "      <td>0.332559</td>\n",
       "      <td>0.400929</td>\n",
       "    </tr>\n",
       "    <tr>\n",
       "      <th>hum</th>\n",
       "      <td>-0.069881</td>\n",
       "      <td>-0.051918</td>\n",
       "      <td>1.000000</td>\n",
       "      <td>-0.290105</td>\n",
       "      <td>-0.347028</td>\n",
       "      <td>-0.273933</td>\n",
       "      <td>-0.322911</td>\n",
       "    </tr>\n",
       "    <tr>\n",
       "      <th>windspeed</th>\n",
       "      <td>-0.023125</td>\n",
       "      <td>-0.062336</td>\n",
       "      <td>-0.290105</td>\n",
       "      <td>1.000000</td>\n",
       "      <td>0.090287</td>\n",
       "      <td>0.082321</td>\n",
       "      <td>0.093234</td>\n",
       "    </tr>\n",
       "    <tr>\n",
       "      <th>casual</th>\n",
       "      <td>0.459616</td>\n",
       "      <td>0.454080</td>\n",
       "      <td>-0.347028</td>\n",
       "      <td>0.090287</td>\n",
       "      <td>1.000000</td>\n",
       "      <td>0.506618</td>\n",
       "      <td>0.694564</td>\n",
       "    </tr>\n",
       "    <tr>\n",
       "      <th>registered</th>\n",
       "      <td>0.335361</td>\n",
       "      <td>0.332559</td>\n",
       "      <td>-0.273933</td>\n",
       "      <td>0.082321</td>\n",
       "      <td>0.506618</td>\n",
       "      <td>1.000000</td>\n",
       "      <td>0.972151</td>\n",
       "    </tr>\n",
       "    <tr>\n",
       "      <th>cnt</th>\n",
       "      <td>0.404772</td>\n",
       "      <td>0.400929</td>\n",
       "      <td>-0.322911</td>\n",
       "      <td>0.093234</td>\n",
       "      <td>0.694564</td>\n",
       "      <td>0.972151</td>\n",
       "      <td>1.000000</td>\n",
       "    </tr>\n",
       "  </tbody>\n",
       "</table>\n",
       "</div>"
      ],
      "text/plain": [
       "                temp     atemp       hum  windspeed    casual  registered  \\\n",
       "temp        1.000000  0.987672 -0.069881  -0.023125  0.459616    0.335361   \n",
       "atemp       0.987672  1.000000 -0.051918  -0.062336  0.454080    0.332559   \n",
       "hum        -0.069881 -0.051918  1.000000  -0.290105 -0.347028   -0.273933   \n",
       "windspeed  -0.023125 -0.062336 -0.290105   1.000000  0.090287    0.082321   \n",
       "casual      0.459616  0.454080 -0.347028   0.090287  1.000000    0.506618   \n",
       "registered  0.335361  0.332559 -0.273933   0.082321  0.506618    1.000000   \n",
       "cnt         0.404772  0.400929 -0.322911   0.093234  0.694564    0.972151   \n",
       "\n",
       "                 cnt  \n",
       "temp        0.404772  \n",
       "atemp       0.400929  \n",
       "hum        -0.322911  \n",
       "windspeed   0.093234  \n",
       "casual      0.694564  \n",
       "registered  0.972151  \n",
       "cnt         1.000000  "
      ]
     },
     "execution_count": 57,
     "metadata": {},
     "output_type": "execute_result"
    }
   ],
   "source": [
    "df.corr(numeric_only=True)"
   ]
  },
  {
   "cell_type": "markdown",
   "metadata": {},
   "source": [
    "The most highly correlated values look to be:\n",
    "- atemp and temp\n",
    "- registered and cnt\n",
    "- casual and cnt"
   ]
  },
  {
   "cell_type": "code",
   "execution_count": 58,
   "metadata": {},
   "outputs": [],
   "source": [
    "# drop cols\n",
    "df = df.drop(columns=['casual', 'registered', 'atemp'])"
   ]
  },
  {
   "cell_type": "code",
   "execution_count": 59,
   "metadata": {},
   "outputs": [],
   "source": [
    "# train test split\n",
    "\n",
    "# Separate features and target\n",
    "X = df.drop(columns=['cnt'])\n",
    "y = df['cnt']\n",
    "\n",
    "# Split the data\n",
    "X_train, X_test, y_train, y_test = train_test_split(X, y, test_size=0.33, random_state=432)"
   ]
  },
  {
   "cell_type": "markdown",
   "metadata": {},
   "source": [
    "# Part 3: Baseline Model Construction\n",
    "Construct a baseline linear regression model using either cross_val_score or cross_validate methods \n",
    "from sklearn.model_selection, and the following: \n",
    "- Linear Regressor estimator (sklearn.linear_model.LinearRegression) \n",
    "- Training data from Part 2C  \n",
    "- r2_score and neg_root_mean_squared_error evaluation metrics \n",
    "- Five folds \n",
    "\n",
    "\n",
    "Print the average R-Squared and average RMSE values over the 5 folds.\n",
    "\n",
    "\n",
    "Note: The scores obtained demonstrate the performance of a linear regressor without introducing \n",
    "dummy variables for the categorical features."
   ]
  },
  {
   "cell_type": "code",
   "execution_count": 60,
   "metadata": {},
   "outputs": [],
   "source": [
    "def evaluate_regressor(regressor: Pipeline, X: pd.DataFrame, y: pd.Series, cv: int = 5):\n",
    "    \"\"\"\n",
    "    Prints out the average R-squared/RMSE of a given regressor. \n",
    "    Args:\n",
    "        regressor: regressor that's based off an Sklearn pipeline\n",
    "        X: dataframe with input features\n",
    "        y: series with target variable\n",
    "        cv: number of folds for cross-validation\n",
    "    Results:\n",
    "        tuple : avg_r2, avg_rmse\n",
    "    \"\"\"\n",
    "    # scoring metrics\n",
    "    scoring = {\n",
    "        'r2': 'r2',\n",
    "        'neg_rmse': 'neg_root_mean_squared_error'\n",
    "    }\n",
    "\n",
    "    # cross-validation w/ 5 folds\n",
    "    cv_results = cross_validate(\n",
    "        regressor, \n",
    "        X, \n",
    "        y, \n",
    "        cv=cv, \n",
    "        scoring=scoring\n",
    "    )\n",
    "\n",
    "    # get the avg R-Squared and RMSE\n",
    "    avg_r2 = cv_results['test_r2'].mean()\n",
    "    avg_rmse = -cv_results['test_neg_rmse'].mean() \n",
    "\n",
    "    print(f\"Average R-Squared: {avg_r2:.4f}\")\n",
    "    print(f\"Average RMSE: {avg_rmse:.4f}\")\n",
    "\n",
    "    return avg_r2, avg_rmse"
   ]
  },
  {
   "cell_type": "code",
   "execution_count": 61,
   "metadata": {},
   "outputs": [
    {
     "name": "stdout",
     "output_type": "stream",
     "text": [
      "Average R-Squared: 0.3889\n",
      "Average RMSE: 141.6630\n"
     ]
    }
   ],
   "source": [
    "# pipeline\n",
    "lr_pipe_base = Pipeline([\n",
    "    ('linear_regressor', LinearRegression())\n",
    "])\n",
    "\n",
    "# print out the avg r-squared and RMSE\n",
    "lr_base_avg_r2, lr_base_avg_rmse = evaluate_regressor(lr_pipe_base, X_train, y_train)"
   ]
  },
  {
   "cell_type": "markdown",
   "metadata": {},
   "source": [
    "# Part 4: Initial Model Training\n",
    "One-hot encode feature set to train:\n",
    "- Linear Regressor\n",
    "- Deciscion Tree Regressor\n",
    "- Random Forest Regressor"
   ]
  },
  {
   "cell_type": "code",
   "execution_count": 62,
   "metadata": {},
   "outputs": [],
   "source": [
    "# one-hot encode categorical cols first\n",
    "X = pd.get_dummies(df, drop_first=True, dtype=int).drop(columns=['cnt'])\n",
    "y = df['cnt']\n",
    "\n",
    "# Split the data\n",
    "X_train, X_test, y_train, y_test = train_test_split(X, y, test_size=0.33, random_state=432)"
   ]
  },
  {
   "cell_type": "code",
   "execution_count": 63,
   "metadata": {},
   "outputs": [
    {
     "name": "stdout",
     "output_type": "stream",
     "text": [
      "Average R-Squared: 0.6806\n",
      "Average RMSE: 102.3949\n"
     ]
    }
   ],
   "source": [
    "# create the Linear Regressor with One-Hot Encoding\n",
    "lr_pipe_final = Pipeline([\n",
    "    ('linear_regressor', LinearRegression())\n",
    "])\n",
    "\n",
    "# print out the avg r-squared and RMSE\n",
    "lr_avg_r2, lr_avg_rmse = evaluate_regressor(lr_pipe_final, X_train, y_train)"
   ]
  },
  {
   "cell_type": "markdown",
   "metadata": {},
   "source": [
    "Comparing the average R-squared and average RMSE between the one-hot encoded and non one-hot encoded feature set, we can see that the linear regressor improved substantially in the one-hot encoded training set. \n",
    "- Avg R-squared improved from 0.389 to 0.681 indicating an improvement in the \"goodness of fit\" of the linear model\n",
    "  - this statistic shows the proportion of variance in the predicted target that can be explained by the features\n",
    "- Avg RMSE decreased from 141.7 to 102.4 indicating an improvement in the accuracy of the predictions\n",
    "\n",
    "Overall, the introduction of dummy variables to the training set improved the performance of the linear regressor."
   ]
  },
  {
   "cell_type": "code",
   "execution_count": 64,
   "metadata": {},
   "outputs": [
    {
     "name": "stdout",
     "output_type": "stream",
     "text": [
      "Average R-Squared: 0.8043\n",
      "Average RMSE: 80.1114\n"
     ]
    }
   ],
   "source": [
    "# create the Deciscion Tree Regressor with One-Hot Encoding\n",
    "dtr_pipe_final = Pipeline([\n",
    "    ('decision_tree_regressor', DecisionTreeRegressor(random_state=0))\n",
    "])\n",
    "\n",
    "# print out the avg r-squared and RMSE\n",
    "dtr_avg_r2, dtr_avg_rmse = evaluate_regressor(dtr_pipe_final, X_train, y_train)"
   ]
  },
  {
   "cell_type": "code",
   "execution_count": 65,
   "metadata": {},
   "outputs": [
    {
     "name": "stdout",
     "output_type": "stream",
     "text": [
      "Average R-Squared: 0.8994\n",
      "Average RMSE: 57.4745\n"
     ]
    }
   ],
   "source": [
    "# create the Random Forest Regressor with One-Hot Encoding\n",
    "rfr_pipe_final = Pipeline([\n",
    "    ('random_forest_regressor', RandomForestRegressor(random_state=0))\n",
    "])\n",
    "\n",
    "# print out the avg r-squared and RMSE\n",
    "rfr_avg_r2, rfr_avg_rmse = evaluate_regressor(rfr_pipe_final, X_train, y_train)"
   ]
  },
  {
   "cell_type": "markdown",
   "metadata": {},
   "source": [
    "Present a table that shows the average R-Squared and average RMSE values for the three algorithms \n",
    "used in Parts 4C-4F.  \n",
    "- These metrics reflect the performance of the algorithms with default \n",
    "hyperparameter settings."
   ]
  },
  {
   "cell_type": "code",
   "execution_count": 66,
   "metadata": {},
   "outputs": [
    {
     "data": {
      "text/html": [
       "<div>\n",
       "<style scoped>\n",
       "    .dataframe tbody tr th:only-of-type {\n",
       "        vertical-align: middle;\n",
       "    }\n",
       "\n",
       "    .dataframe tbody tr th {\n",
       "        vertical-align: top;\n",
       "    }\n",
       "\n",
       "    .dataframe thead th {\n",
       "        text-align: right;\n",
       "    }\n",
       "</style>\n",
       "<table border=\"1\" class=\"dataframe\">\n",
       "  <thead>\n",
       "    <tr style=\"text-align: right;\">\n",
       "      <th></th>\n",
       "      <th>model</th>\n",
       "      <th>avg_r2</th>\n",
       "      <th>avg_rmse</th>\n",
       "    </tr>\n",
       "  </thead>\n",
       "  <tbody>\n",
       "    <tr>\n",
       "      <th>0</th>\n",
       "      <td>linear_regressor</td>\n",
       "      <td>0.680627</td>\n",
       "      <td>102.394908</td>\n",
       "    </tr>\n",
       "    <tr>\n",
       "      <th>1</th>\n",
       "      <td>decision_tree_regressor</td>\n",
       "      <td>0.804281</td>\n",
       "      <td>80.111438</td>\n",
       "    </tr>\n",
       "    <tr>\n",
       "      <th>2</th>\n",
       "      <td>random_forest_regressor</td>\n",
       "      <td>0.899385</td>\n",
       "      <td>57.474476</td>\n",
       "    </tr>\n",
       "  </tbody>\n",
       "</table>\n",
       "</div>"
      ],
      "text/plain": [
       "                     model    avg_r2    avg_rmse\n",
       "0         linear_regressor  0.680627  102.394908\n",
       "1  decision_tree_regressor  0.804281   80.111438\n",
       "2  random_forest_regressor  0.899385   57.474476"
      ]
     },
     "execution_count": 66,
     "metadata": {},
     "output_type": "execute_result"
    }
   ],
   "source": [
    "models_names = ['linear_regressor', 'decision_tree_regressor', 'random_forest_regressor']\n",
    "avg_r2s = [lr_avg_r2, dtr_avg_r2, rfr_avg_r2]\n",
    "avg_rmses = [lr_avg_rmse, dtr_avg_rmse, rfr_avg_rmse]\n",
    "\n",
    "df_scores = pd.DataFrame({\n",
    "    'model':models_names,\n",
    "    'avg_r2': avg_r2s,\n",
    "    'avg_rmse': avg_rmses\n",
    "})\n",
    "\n",
    "df_scores"
   ]
  },
  {
   "cell_type": "markdown",
   "metadata": {},
   "source": [
    "# Part 5: Model Tuning\n",
    "- Random search on Random Forest Regressor using One-hot Encoded Featureset"
   ]
  },
  {
   "cell_type": "code",
   "execution_count": 67,
   "metadata": {},
   "outputs": [
    {
     "name": "stdout",
     "output_type": "stream",
     "text": [
      "Best parameters: {'random_forest_regressor__n_estimators': 200, 'random_forest_regressor__max_features': 1.0, 'random_forest_regressor__max_depth': 35}\n"
     ]
    }
   ],
   "source": [
    "# search space\n",
    "param_dist = {\n",
    "    'random_forest_regressor__max_depth': [5, 10, 15, 20, 25, 30, 35, 40],\n",
    "    'random_forest_regressor__max_features': [0.1, 0.2, 0.3, 0.4, 0.5, 0.6, 0.7, 0.8, 0.9, 1.0],\n",
    "    'random_forest_regressor__n_estimators': [50, 100, 150, 200, 250]\n",
    "}\n",
    "\n",
    "# radom search params based on assignment\n",
    "random_search = RandomizedSearchCV(\n",
    "    estimator=rfr_pipe_final,\n",
    "    param_distributions=param_dist,\n",
    "    n_iter=20,\n",
    "    cv=5,\n",
    "    scoring='neg_root_mean_squared_error',\n",
    "    random_state=0,\n",
    "    n_jobs=-1  # Use all available cores\n",
    ")\n",
    "\n",
    "# fit \n",
    "random_search.fit(X_train, y_train)\n",
    "\n",
    "# optimal hyperparameters\n",
    "print(\"Best parameters:\", random_search.best_params_)\n"
   ]
  },
  {
   "cell_type": "code",
   "execution_count": 68,
   "metadata": {},
   "outputs": [
    {
     "name": "stdout",
     "output_type": "stream",
     "text": [
      "Average R-Squared: 0.8999\n",
      "Average RMSE: 57.3219\n"
     ]
    }
   ],
   "source": [
    "rfr_random_search_r2, rfr_random_search_rmse = evaluate_regressor(random_search.best_estimator_, X_train, y_train)"
   ]
  },
  {
   "cell_type": "code",
   "execution_count": 69,
   "metadata": {},
   "outputs": [
    {
     "data": {
      "text/html": [
       "<div>\n",
       "<style scoped>\n",
       "    .dataframe tbody tr th:only-of-type {\n",
       "        vertical-align: middle;\n",
       "    }\n",
       "\n",
       "    .dataframe tbody tr th {\n",
       "        vertical-align: top;\n",
       "    }\n",
       "\n",
       "    .dataframe thead th {\n",
       "        text-align: right;\n",
       "    }\n",
       "</style>\n",
       "<table border=\"1\" class=\"dataframe\">\n",
       "  <thead>\n",
       "    <tr style=\"text-align: right;\">\n",
       "      <th></th>\n",
       "      <th>model</th>\n",
       "      <th>avg_r2</th>\n",
       "      <th>avg_rmse</th>\n",
       "    </tr>\n",
       "  </thead>\n",
       "  <tbody>\n",
       "    <tr>\n",
       "      <th>0</th>\n",
       "      <td>rf_regressor</td>\n",
       "      <td>0.899385</td>\n",
       "      <td>57.474476</td>\n",
       "    </tr>\n",
       "    <tr>\n",
       "      <th>1</th>\n",
       "      <td>rf_regressor_rand_search</td>\n",
       "      <td>0.899910</td>\n",
       "      <td>57.321914</td>\n",
       "    </tr>\n",
       "  </tbody>\n",
       "</table>\n",
       "</div>"
      ],
      "text/plain": [
       "                      model    avg_r2   avg_rmse\n",
       "0              rf_regressor  0.899385  57.474476\n",
       "1  rf_regressor_rand_search  0.899910  57.321914"
      ]
     },
     "execution_count": 69,
     "metadata": {},
     "output_type": "execute_result"
    }
   ],
   "source": [
    "# default RF Regressor versus random search RF Regressor\n",
    "models_names = ['rf_regressor', 'rf_regressor_rand_search']\n",
    "avg_r2s = [rfr_avg_r2, rfr_random_search_r2]\n",
    "avg_rmses = [rfr_avg_rmse, rfr_random_search_rmse]\n",
    "\n",
    "pd.DataFrame({\n",
    "    'model':models_names,\n",
    "    'avg_r2': avg_r2s,\n",
    "    'avg_rmse': avg_rmses\n",
    "})"
   ]
  },
  {
   "cell_type": "markdown",
   "metadata": {},
   "source": [
    "Looking at the evaluation scores of the Random Forest Regressor with base params and the Random Forest Regressor with optimized params via Random Search Cross Validation, we can see that the random search led to marginally better results with VERY slight increase in average R-squared and a similarly small decrease in average RMSE. This improvement can potentially be explained in that the Random Search gave a bigger set of hyperparameters to test out. While it is not guranteed, in this case, we were able to find a combination outside the default parameters that do indeed improve the performance of the model."
   ]
  },
  {
   "cell_type": "code",
   "execution_count": 70,
   "metadata": {},
   "outputs": [
    {
     "name": "stdout",
     "output_type": "stream",
     "text": [
      "R-squared: 0.9073\n",
      "RMSE: 55.2868\n"
     ]
    }
   ],
   "source": [
    "# Final Eval on tuned Random Forest Regressor on dummied testing data\n",
    "# get predictions for y_test\n",
    "y_pred = random_search.predict(X_test)\n",
    "\n",
    "# get scores\n",
    "rfr_final_r2 = r2_score(y_test, y_pred)\n",
    "rfr_final_rmse = root_mean_squared_error(y_test, y_pred)\n",
    "\n",
    "print(f\"R-squared: {rfr_final_r2:.4f}\")\n",
    "print(f\"RMSE: {rfr_final_rmse:.4f}\")"
   ]
  },
  {
   "cell_type": "markdown",
   "metadata": {},
   "source": [
    "How do the R-Squared Score and RMSE score compare to the scores found in Part 4G?"
   ]
  },
  {
   "cell_type": "code",
   "execution_count": 71,
   "metadata": {},
   "outputs": [
    {
     "data": {
      "text/html": [
       "<div>\n",
       "<style scoped>\n",
       "    .dataframe tbody tr th:only-of-type {\n",
       "        vertical-align: middle;\n",
       "    }\n",
       "\n",
       "    .dataframe tbody tr th {\n",
       "        vertical-align: top;\n",
       "    }\n",
       "\n",
       "    .dataframe thead th {\n",
       "        text-align: right;\n",
       "    }\n",
       "</style>\n",
       "<table border=\"1\" class=\"dataframe\">\n",
       "  <thead>\n",
       "    <tr style=\"text-align: right;\">\n",
       "      <th></th>\n",
       "      <th>model</th>\n",
       "      <th>avg_r2</th>\n",
       "      <th>avg_rmse</th>\n",
       "    </tr>\n",
       "  </thead>\n",
       "  <tbody>\n",
       "    <tr>\n",
       "      <th>0</th>\n",
       "      <td>linear_regressor</td>\n",
       "      <td>0.680627</td>\n",
       "      <td>102.394908</td>\n",
       "    </tr>\n",
       "    <tr>\n",
       "      <th>1</th>\n",
       "      <td>decision_tree_regressor</td>\n",
       "      <td>0.804281</td>\n",
       "      <td>80.111438</td>\n",
       "    </tr>\n",
       "    <tr>\n",
       "      <th>2</th>\n",
       "      <td>random_forest_regressor</td>\n",
       "      <td>0.899385</td>\n",
       "      <td>57.474476</td>\n",
       "    </tr>\n",
       "  </tbody>\n",
       "</table>\n",
       "</div>"
      ],
      "text/plain": [
       "                     model    avg_r2    avg_rmse\n",
       "0         linear_regressor  0.680627  102.394908\n",
       "1  decision_tree_regressor  0.804281   80.111438\n",
       "2  random_forest_regressor  0.899385   57.474476"
      ]
     },
     "execution_count": 71,
     "metadata": {},
     "output_type": "execute_result"
    }
   ],
   "source": [
    "# score from part 4G\n",
    "df_scores"
   ]
  },
  {
   "cell_type": "code",
   "execution_count": 72,
   "metadata": {},
   "outputs": [
    {
     "data": {
      "text/html": [
       "<div>\n",
       "<style scoped>\n",
       "    .dataframe tbody tr th:only-of-type {\n",
       "        vertical-align: middle;\n",
       "    }\n",
       "\n",
       "    .dataframe tbody tr th {\n",
       "        vertical-align: top;\n",
       "    }\n",
       "\n",
       "    .dataframe thead th {\n",
       "        text-align: right;\n",
       "    }\n",
       "</style>\n",
       "<table border=\"1\" class=\"dataframe\">\n",
       "  <thead>\n",
       "    <tr style=\"text-align: right;\">\n",
       "      <th></th>\n",
       "      <th>model</th>\n",
       "      <th>final_r2</th>\n",
       "      <th>final_rmse</th>\n",
       "    </tr>\n",
       "  </thead>\n",
       "  <tbody>\n",
       "    <tr>\n",
       "      <th>0</th>\n",
       "      <td>random_forest_regressor_final</td>\n",
       "      <td>0.90726</td>\n",
       "      <td>55.286831</td>\n",
       "    </tr>\n",
       "  </tbody>\n",
       "</table>\n",
       "</div>"
      ],
      "text/plain": [
       "                           model  final_r2  final_rmse\n",
       "0  random_forest_regressor_final   0.90726   55.286831"
      ]
     },
     "execution_count": 72,
     "metadata": {},
     "output_type": "execute_result"
    }
   ],
   "source": [
    "# final model comparison table\n",
    "models_names = ['random_forest_regressor_final']\n",
    "final_r2 = [rfr_final_r2]\n",
    "final_rmse = [rfr_final_rmse]\n",
    "\n",
    "df_score_final = pd.DataFrame({\n",
    "    'model':models_names,\n",
    "    'final_r2': final_r2,\n",
    "    'final_rmse': final_rmse\n",
    "})\n",
    "\n",
    "df_score_final"
   ]
  },
  {
   "cell_type": "markdown",
   "metadata": {},
   "source": [
    "### Final Comparison\n",
    "\n",
    "__Note:__ \n",
    "- The first three models from part 4G (`df_scores`) are all evaluated on y_train with 5-fold cross validation. They represent the average metrics over 5 folds.\n",
    "- The final evaluation was on the test data, y_yest (`df_score_final`) and represents the final test R-squared/RMSE value for the final random forest regressor.\n",
    "\n",
    "Based on the results from 4G and the final test evaluation on the model tuned in part 5A, we see that the tuned RandomForestRegressor predicting on the dummied testing data sets has the best perforamnce out of all the models. \n",
    "\n",
    "The final R-squared value is 0.91 (a 0.1 point improvement from the best performing random forest model) and has a final RMSE of 55.3 (a 2.2 point improvement over the best random forest model).  \n",
    "\n",
    "Therefore, the final random forest regressor tuned via random search and one-hot encoded is the best candidate for predicting counts of bikes being used in the bike share system for a given hour in a given day. This example ML model training shows the importance of not only choosing the best performing base model, but also feature engineering (scaling/one-hot encoding/etc), and hyperparameter tuning. Not doing the last items effectively leaves a lot of performance gains on the table that could not be realized otherwise (unless you get more or better data!)."
   ]
  }
 ],
 "metadata": {
  "kernelspec": {
   "display_name": "tf",
   "language": "python",
   "name": "python3"
  },
  "language_info": {
   "codemirror_mode": {
    "name": "ipython",
    "version": 3
   },
   "file_extension": ".py",
   "mimetype": "text/x-python",
   "name": "python",
   "nbconvert_exporter": "python",
   "pygments_lexer": "ipython3",
   "version": "3.9.16"
  }
 },
 "nbformat": 4,
 "nbformat_minor": 2
}
