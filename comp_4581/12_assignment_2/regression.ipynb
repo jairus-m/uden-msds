{
 "cells": [
  {
   "cell_type": "code",
   "execution_count": 3,
   "metadata": {},
   "outputs": [
    {
     "name": "stdout",
     "output_type": "stream",
     "text": [
      "Updated regression coefficients:\n",
      "Intercept (beta_0): 0.001357186249816067\n",
      "Slope (beta_1): 6.496478469053698\n",
      "Updated regression coefficients:\n",
      "Intercept (beta_0): 0.001402221363767886\n",
      "Slope (beta_1): 6.30657617183775\n"
     ]
    }
   ],
   "source": [
    "import numpy as np\n",
    "\n",
    "def compute_summary_statistics(x, y):\n",
    "    n = len(x)\n",
    "    sum_x = np.sum(x)\n",
    "    sum_y = np.sum(y)\n",
    "    sum_x2 = np.sum(x**2)\n",
    "    sum_y2 = np.sum(y**2)\n",
    "    sum_xy = np.sum(x * y)\n",
    "    \n",
    "    return n, sum_x, sum_y, sum_x2, sum_y2, sum_xy\n",
    "\n",
    "def update_summary_statistics(stats1, stats2):\n",
    "    n1, sum_x1, sum_y1, sum_x2_1, sum_y2_1, sum_xy1 = stats1\n",
    "    n2, sum_x2, sum_y2, sum_x2_2, sum_y2_2, sum_xy2 = stats2\n",
    "    \n",
    "    n = n1 + n2\n",
    "    sum_x = sum_x1 + sum_x2\n",
    "    sum_y = sum_y1 + sum_y2\n",
    "    sum_x2 = sum_x2_1 + sum_x2_2\n",
    "    sum_y2 = sum_y2_1 + sum_y2_2\n",
    "    sum_xy = sum_xy1 + sum_xy2\n",
    "    \n",
    "    return n, sum_x, sum_y, sum_x2, sum_y2, sum_xy\n",
    "\n",
    "def compute_regression_coefficients(stats):\n",
    "    n, sum_x, sum_y, sum_x2, sum_y2, sum_xy = stats\n",
    "    \n",
    "    S_xx = sum_x2 - (sum_x**2 / n)\n",
    "    S_xy = sum_xy - (sum_x * sum_y / n)\n",
    "    \n",
    "    beta_1 = S_xy / S_xx\n",
    "    beta_0 = (sum_y / n) - beta_1 * (sum_x / n)\n",
    "    \n",
    "    return beta_0, beta_1\n",
    "\n",
    "# Example usage\n",
    "# Initial data points\n",
    "x1 = np.random.rand(1000000)\n",
    "y1 = 6.5 * x1 + np.random.randn(1000000) * 0.5  # y = 2.5x + noise\n",
    "\n",
    "# Compute initial summary statistics\n",
    "stats1 = compute_summary_statistics(x1, y1)\n",
    "\n",
    "beta_0, beta_1 = compute_regression_coefficients(stats1)\n",
    "\n",
    "print(\"Updated regression coefficients:\")\n",
    "print(\"Intercept (beta_0):\", beta_0)\n",
    "print(\"Slope (beta_1):\", beta_1)\n",
    "\n",
    "\n",
    "# New data points\n",
    "x2 = np.random.rand(50000)\n",
    "y2 = 2.5 * x2 + np.random.randn(50000) * 0.5  # y = 2.5x + noise\n",
    "\n",
    "# Compute new summary statistics\n",
    "stats2 = compute_summary_statistics(x2, y2)\n",
    "\n",
    "# Update summary statistics with new data\n",
    "combined_stats = update_summary_statistics(stats1, stats2)\n",
    "\n",
    "# Compute updated regression coefficients\n",
    "beta_0, beta_1 = compute_regression_coefficients(combined_stats)\n",
    "\n",
    "print(\"Updated regression coefficients:\")\n",
    "print(\"Intercept (beta_0):\", beta_0)\n",
    "print(\"Slope (beta_1):\", beta_1)\n"
   ]
  },
  {
   "cell_type": "code",
   "execution_count": null,
   "metadata": {},
   "outputs": [],
   "source": []
  }
 ],
 "metadata": {
  "kernelspec": {
   "display_name": "tf",
   "language": "python",
   "name": "python3"
  },
  "language_info": {
   "codemirror_mode": {
    "name": "ipython",
    "version": 3
   },
   "file_extension": ".py",
   "mimetype": "text/x-python",
   "name": "python",
   "nbconvert_exporter": "python",
   "pygments_lexer": "ipython3",
   "version": "3.9.16"
  }
 },
 "nbformat": 4,
 "nbformat_minor": 2
}
