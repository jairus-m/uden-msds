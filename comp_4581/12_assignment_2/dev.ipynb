{
 "cells": [
  {
   "cell_type": "code",
   "execution_count": 1,
   "metadata": {},
   "outputs": [],
   "source": [
    "import pandas as pd\n",
    "import numpy as np"
   ]
  },
  {
   "cell_type": "code",
   "execution_count": 2,
   "metadata": {},
   "outputs": [
    {
     "name": "stdout",
     "output_type": "stream",
     "text": [
      "Best stock to buy: Accenture plc on 2010-06-08 and sell on 2016-12-13 with profit of $88.96\n"
     ]
    }
   ],
   "source": [
    "def load_data():\n",
    "    df_prices = pd.read_csv('prices-split-adjusted.csv')\n",
    "    df_prices = df_prices[['date', 'symbol', 'close']]\n",
    "    #df_prices['date'] = pd.to_datetime(df_prices['date'])\n",
    "    #df_prices['delta'] = df_prices['close'].diff()\n",
    "    #df_prices = df_prices.iloc[1:, [0, 1, 3]]\n",
    "\n",
    "    df_securities = pd.read_csv('securities.csv')\n",
    "    df_securities = df_securities[['Ticker symbol', 'Security']]\n",
    "    df_securities.columns = ['ticker', 'name']\n",
    "\n",
    "    return df_prices, df_securities\n",
    "\n",
    "def max_difference(A, low=0, high=None):\n",
    "    if high is None:\n",
    "        high = len(A) - 1\n",
    "\n",
    "    # Base case: if the array has only one element, return it as both min and max\n",
    "    if low == high:\n",
    "        return (A[low], low), (A[low], low), 0  # (min_value, min_index), (max_value, max_index), max_diff\n",
    "\n",
    "    # Divide\n",
    "    mid = (low + high) // 2\n",
    "\n",
    "    # Conquer\n",
    "    minLeft, maxLeft, maxDiffLeft = max_difference(A, low, mid)\n",
    "    minRight, maxRight, maxDiffRight = max_difference(A, mid + 1, high)\n",
    "\n",
    "    # Combine\n",
    "    maxDiffAcross = maxRight[0] - minLeft[0] if maxRight[1] > minLeft[1] else 0\n",
    "\n",
    "    # Find overall max difference\n",
    "    maxDiff = max(maxDiffLeft, maxDiffRight, maxDiffAcross)\n",
    "\n",
    "    # Determine overall min and max values and their indices\n",
    "    # Lambda function is to make sure that it comparews the actual value in the tuple\n",
    "    overall_min = min(minLeft, minRight, key=lambda x: x[0])\n",
    "    overall_max = max(maxLeft, maxRight, key=lambda x: x[0])\n",
    "\n",
    "    return overall_min, overall_max, maxDiff\n",
    "\n",
    "df_prices, df_securities = load_data()\n",
    "\n",
    "ticker = df_securities.iloc[3]['ticker']\n",
    "\n",
    "df = df_prices.loc[df_prices['symbol'] == ticker, ['date', 'close']]\n",
    "\n",
    "minTuple, maxTuple, diff = max_difference(np.array(df['close']))\n",
    "minPrice, minIndex = minTuple\n",
    "maxPrice, maxIndex = maxTuple\n",
    "minDate = df['date'].iloc[minIndex]\n",
    "maxDate = df['date'].iloc[maxIndex]\n",
    "security = df_securities.loc[df_securities['ticker'] == ticker, 'name'].tolist()[0]\n",
    "\n",
    "print(f'Best stock to buy: {security} on {minDate} and sell on {maxDate} with profit of ${diff:.2f}')"
   ]
  },
  {
   "cell_type": "code",
   "execution_count": 11,
   "metadata": {},
   "outputs": [
    {
     "data": {
      "text/plain": [
       "505"
      ]
     },
     "execution_count": 11,
     "metadata": {},
     "output_type": "execute_result"
    }
   ],
   "source": [
    "df_securities.shape[0]"
   ]
  },
  {
   "cell_type": "code",
   "execution_count": 6,
   "metadata": {},
   "outputs": [],
   "source": [
    "# def max_difference_iterative(A):\n",
    "#     if len(A) == 0:\n",
    "#         return None, None, 0  # In case of empty array\n",
    "\n",
    "#     min_value = A[0]\n",
    "#     min_index = 0\n",
    "#     max_value = A[0]\n",
    "#     max_index = 0\n",
    "#     max_diff = 0\n",
    "\n",
    "#     for i in range(1, len(A)):\n",
    "#         if A[i] < min_value:\n",
    "#             min_value = A[i]\n",
    "#             min_index = i\n",
    "#         elif A[i] - min_value > max_diff:\n",
    "#             max_diff = A[i] - min_value\n",
    "#             max_value = A[i]\n",
    "#             max_index = i\n",
    "\n",
    "#     return (min_value, min_index), (max_value, max_index), max_diff\n",
    "\n",
    "# df_prices, df_securities = load_data()\n",
    "\n",
    "# for i in range(df_securities.shape[0]):\n",
    "#     ticker = df_securities.iloc[i]['ticker']\n",
    "#     df = df_prices.loc[df_prices['symbol'] == ticker, ['date', 'close']]\n",
    "\n",
    "#     minTuple, maxTuple, diff = max_difference_iterative(np.array(df['close']))\n",
    "#     if minTuple is not None and maxTuple is not None:\n",
    "#         minPrice, minIndex = minTuple\n",
    "#         maxPrice, maxIndex = maxTuple\n",
    "#         minDate = df['date'].iloc[minIndex]\n",
    "#         maxDate = df['date'].iloc[maxIndex]\n",
    "#         security = df_securities.loc[df_securities['ticker'] == ticker, 'name'].tolist()[0]\n",
    "\n",
    "#         print(f'Best stock to buy: {security} on {minDate} and sell on {maxDate} with profit of ${diff:.2f}')\n"
   ]
  },
  {
   "cell_type": "code",
   "execution_count": 37,
   "metadata": {},
   "outputs": [
    {
     "name": "stdout",
     "output_type": "stream",
     "text": [
      "Best stock to buy: Priceline.com Inc on 2010-06-09 and sell on 2016-11-08 with profit of $1402.94\n",
      "501\n"
     ]
    }
   ],
   "source": [
    "def max_difference(A, low=0, high=None):\n",
    "    if high is None:\n",
    "        high = len(A) - 1\n",
    "\n",
    "    # Base case: if the array has only one element, return it as both min and max\n",
    "    if low == high:\n",
    "        return A[low], A[low], 0  # min_value, max_value, max_diff\n",
    "\n",
    "    # Base case: if the array has two elements, handle separately\n",
    "    if high == low + 1:\n",
    "        min_val = min(A[low], A[high])\n",
    "        max_val = max(A[low], A[high])\n",
    "        return min_val, max_val, max_val - min_val\n",
    "\n",
    "    # Divide\n",
    "    mid = (low + high) // 2\n",
    "\n",
    "    # Conquer\n",
    "    minLeft, maxLeft, maxDiffLeft = max_difference(A, low, mid)\n",
    "    minRight, maxRight, maxDiffRight = max_difference(A, mid + 1, high)\n",
    "\n",
    "    # Combine\n",
    "    maxDiffAcross = maxRight - minLeft\n",
    "\n",
    "    # Find overall max difference\n",
    "    maxDiff = max(maxDiffLeft, maxDiffRight, maxDiffAcross)\n",
    "\n",
    "    # Determine overall min and max values\n",
    "    overall_min = min(minLeft, minRight)\n",
    "    overall_max = max(maxLeft, maxRight)\n",
    "\n",
    "    return overall_min, overall_max, maxDiff\n",
    "\n",
    "df_prices, df_securities = load_data()\n",
    "\n",
    "max_diff = 0\n",
    "most_min = 0\n",
    "most_max = 0\n",
    "best_ticker = None\n",
    "count = 0\n",
    "for i in range(df_securities.shape[0]):\n",
    "\n",
    "    ticker = df_securities.iloc[i]['ticker']\n",
    "    \n",
    "    df = df_prices.loc[df_prices['symbol'] == ticker, ['date', 'close']]\n",
    "\n",
    "    if df.shape[0] != 0:\n",
    "        minimum, maximum, diff = max_difference(np.array(df['close']))\n",
    "        count += 1\n",
    "\n",
    "        if diff > max_diff:\n",
    "            max_diff = diff\n",
    "            most_min = minimum\n",
    "            most_max = maximum\n",
    "            best_ticker = ticker\n",
    "        else:\n",
    "            pass\n",
    "    else:\n",
    "        pass\n",
    " \n",
    "minDate = df_prices.loc[(df_prices['close'] == most_min) & (df_prices['symbol'] == best_ticker), ['date']].values[0][0]\n",
    "maxDate = df_prices.loc[(df_prices['close'] == most_max) & (df_prices['symbol'] == best_ticker), ['date']].values[0][0]\n",
    "security = df_securities.loc[df_securities['ticker'] == best_ticker, 'name'].tolist()[0]\n",
    "\n",
    "print(f'Best stock to buy: {security} on {minDate} and sell on {maxDate} with profit of ${max_diff:.2f}')\n",
    "print(count)\n"
   ]
  },
  {
   "cell_type": "code",
   "execution_count": null,
   "metadata": {},
   "outputs": [],
   "source": []
  }
 ],
 "metadata": {
  "kernelspec": {
   "display_name": "tf",
   "language": "python",
   "name": "python3"
  },
  "language_info": {
   "codemirror_mode": {
    "name": "ipython",
    "version": 3
   },
   "file_extension": ".py",
   "mimetype": "text/x-python",
   "name": "python",
   "nbconvert_exporter": "python",
   "pygments_lexer": "ipython3",
   "version": "3.9.16"
  }
 },
 "nbformat": 4,
 "nbformat_minor": 2
}
