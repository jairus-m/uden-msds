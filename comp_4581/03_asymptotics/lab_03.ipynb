{
 "cells": [
  {
   "cell_type": "code",
   "execution_count": 1,
   "metadata": {},
   "outputs": [
    {
     "name": "stdout",
     "output_type": "stream",
     "text": [
      "(673, 821)\n"
     ]
    }
   ],
   "source": [
    "import math\n",
    "import random\n",
    "from time import time\n",
    "import pandas as pd\n",
    "import numpy as np\n",
    "import matplotlib.pyplot as plt\n",
    "from scipy.optimize import curve_fit\n",
    "\n",
    "def isPrime(n):\n",
    "    \"\"\"\n",
    "    Check if a number is prime.\n",
    "    Args:\n",
    "        n (int): The number to check.\n",
    "    Returns:\n",
    "        bool: True if the number is prime, False otherwise.\n",
    "    The function performs the following checks:\n",
    "        1. Returns False if n is less than 2, as numbers less than 2 are not prime.\n",
    "        2. Returns True if n is 2, as 2 is the smallest prime number.\n",
    "        3. Returns False if n is even and greater than 2.\n",
    "        4. For odd numbers greater than 2, the function checks divisibility\n",
    "           from 3 up to the square root of n, skipping even numbers.\n",
    "    \"\"\"\n",
    "    if n < 2:\n",
    "        return False\n",
    "    if n == 2:\n",
    "        return True\n",
    "    if n % 2 == 0:\n",
    "        return False\n",
    "    for i in range(3, int(math.sqrt(n)) + 1, 2):\n",
    "        if n % i == 0:\n",
    "            return False\n",
    "    return True\n",
    "\n",
    "def nBitPrime(n):\n",
    "    \"\"\"\n",
    "    Generate a random prime number that is up to n bits long.\n",
    "    Args:\n",
    "        n (int): The number of bits.\n",
    "    Returns:\n",
    "        int: A random prime number up to n bits long.\n",
    "    \"\"\"\n",
    "    if n < 1:\n",
    "        raise ValueError(\"Number of bits must be at least 1\")\n",
    "\n",
    "    while True:\n",
    "        random_number = int(random.random() * (2**n))\n",
    "        if random_number >= 2 and isPrime(random_number):\n",
    "            return random_number\n",
    "        \n",
    "def factor(pq: int):\n",
    "    \"\"\"\n",
    "    Factorize a number into two prime factors.\n",
    "    Args:\n",
    "        pq (int): The number to be factorized, which is a product of two primes.\n",
    "    Returns:\n",
    "        tuple: A tuple containing the two prime factors (P, Q).\n",
    "    \"\"\"\n",
    "    for i in range(2, int(math.sqrt(pq)) + 1):\n",
    "        if pq % i == 0:\n",
    "            P = i\n",
    "            Q = pq // i\n",
    "    return P, Q\n",
    "\n",
    "def time_rsa_factor(function, pg):\n",
    "    \"\"\"\n",
    "    Timing function for factor of RSA algos.\n",
    "    Args:\n",
    "        function (function): sorting function\n",
    "        pq (int): The number to be factorized, which is a product of two primes.\n",
    "    Returns:\n",
    "        float: Time in milliseconds \n",
    "    \"\"\"\n",
    "    t1 = time()\n",
    "    function(pq)\n",
    "    t2 = time()\n",
    "    return (t2 - t1) * 1000\n",
    "\n",
    "n = 10\n",
    "pq = nBitPrime(n) * nBitPrime(n)\n",
    "print(factor(pq))"
   ]
  },
  {
   "cell_type": "code",
   "execution_count": 2,
   "metadata": {},
   "outputs": [
    {
     "name": "stdout",
     "output_type": "stream",
     "text": [
      "n       Time     \n",
      "10      0.04     \n",
      "11      0.01     \n",
      "12      0.25     \n",
      "13      0.23     \n",
      "14      0.45     \n",
      "15      0.77     \n",
      "16      0.24     \n",
      "17      8.06     \n",
      "18      16.51    \n",
      "19      33.42    \n",
      "20      68.26    \n",
      "21      120.3    \n",
      "22      163.39   \n",
      "23      77.13    \n",
      "24      648.48   \n",
      "25      566.62   \n",
      "26      1129.15  \n",
      "27      7279.89  \n"
     ]
    },
    {
     "ename": "KeyboardInterrupt",
     "evalue": "",
     "output_type": "error",
     "traceback": [
      "\u001b[0;31m---------------------------------------------------------------------------\u001b[0m",
      "\u001b[0;31mKeyboardInterrupt\u001b[0m                         Traceback (most recent call last)",
      "Cell \u001b[0;32mIn[2], line 5\u001b[0m\n\u001b[1;32m      3\u001b[0m \u001b[38;5;28;01mfor\u001b[39;00m n \u001b[38;5;129;01min\u001b[39;00m \u001b[38;5;28mrange\u001b[39m(\u001b[38;5;241m10\u001b[39m, \u001b[38;5;241m34\u001b[39m, \u001b[38;5;241m1\u001b[39m):\n\u001b[1;32m      4\u001b[0m     pq \u001b[38;5;241m=\u001b[39m nBitPrime(n) \u001b[38;5;241m*\u001b[39m nBitPrime(n)\n\u001b[0;32m----> 5\u001b[0m     factor_time \u001b[38;5;241m=\u001b[39m \u001b[43mtime_rsa_factor\u001b[49m\u001b[43m(\u001b[49m\u001b[43mfactor\u001b[49m\u001b[43m,\u001b[49m\u001b[43m \u001b[49m\u001b[43mpq\u001b[49m\u001b[43m)\u001b[49m\n\u001b[1;32m      7\u001b[0m     data_entry \u001b[38;5;241m=\u001b[39m {\n\u001b[1;32m      8\u001b[0m         \u001b[38;5;124m'\u001b[39m\u001b[38;5;124mn\u001b[39m\u001b[38;5;124m'\u001b[39m: n,\n\u001b[1;32m      9\u001b[0m         \u001b[38;5;124m'\u001b[39m\u001b[38;5;124mtime\u001b[39m\u001b[38;5;124m'\u001b[39m: factor_time\n\u001b[1;32m     10\u001b[0m         }\n\u001b[1;32m     12\u001b[0m     data\u001b[38;5;241m.\u001b[39mappend(data_entry)\n",
      "Cell \u001b[0;32mIn[1], line 74\u001b[0m, in \u001b[0;36mtime_rsa_factor\u001b[0;34m(function, pg)\u001b[0m\n\u001b[1;32m     65\u001b[0m \u001b[38;5;124;03m\"\"\"\u001b[39;00m\n\u001b[1;32m     66\u001b[0m \u001b[38;5;124;03mTiming function for factor of RSA algos.\u001b[39;00m\n\u001b[1;32m     67\u001b[0m \u001b[38;5;124;03mArgs:\u001b[39;00m\n\u001b[0;32m   (...)\u001b[0m\n\u001b[1;32m     71\u001b[0m \u001b[38;5;124;03m    float: Time in milliseconds \u001b[39;00m\n\u001b[1;32m     72\u001b[0m \u001b[38;5;124;03m\"\"\"\u001b[39;00m\n\u001b[1;32m     73\u001b[0m t1 \u001b[38;5;241m=\u001b[39m time()\n\u001b[0;32m---> 74\u001b[0m \u001b[43mfunction\u001b[49m\u001b[43m(\u001b[49m\u001b[43mpq\u001b[49m\u001b[43m)\u001b[49m\n\u001b[1;32m     75\u001b[0m t2 \u001b[38;5;241m=\u001b[39m time()\n\u001b[1;32m     76\u001b[0m \u001b[38;5;28;01mreturn\u001b[39;00m (t2 \u001b[38;5;241m-\u001b[39m t1) \u001b[38;5;241m*\u001b[39m \u001b[38;5;241m1000\u001b[39m\n",
      "Cell \u001b[0;32mIn[1], line 59\u001b[0m, in \u001b[0;36mfactor\u001b[0;34m(pq)\u001b[0m\n\u001b[1;32m     51\u001b[0m \u001b[38;5;124;03m\"\"\"\u001b[39;00m\n\u001b[1;32m     52\u001b[0m \u001b[38;5;124;03mFactorize a number into two prime factors.\u001b[39;00m\n\u001b[1;32m     53\u001b[0m \u001b[38;5;124;03mArgs:\u001b[39;00m\n\u001b[0;32m   (...)\u001b[0m\n\u001b[1;32m     56\u001b[0m \u001b[38;5;124;03m    tuple: A tuple containing the two prime factors (P, Q).\u001b[39;00m\n\u001b[1;32m     57\u001b[0m \u001b[38;5;124;03m\"\"\"\u001b[39;00m\n\u001b[1;32m     58\u001b[0m \u001b[38;5;28;01mfor\u001b[39;00m i \u001b[38;5;129;01min\u001b[39;00m \u001b[38;5;28mrange\u001b[39m(\u001b[38;5;241m2\u001b[39m, \u001b[38;5;28mint\u001b[39m(math\u001b[38;5;241m.\u001b[39msqrt(pq)) \u001b[38;5;241m+\u001b[39m \u001b[38;5;241m1\u001b[39m):\n\u001b[0;32m---> 59\u001b[0m     \u001b[38;5;28;01mif\u001b[39;00m \u001b[43mpq\u001b[49m\u001b[43m \u001b[49m\u001b[38;5;241;43m%\u001b[39;49m\u001b[43m \u001b[49m\u001b[43mi\u001b[49m\u001b[43m \u001b[49m\u001b[38;5;241;43m==\u001b[39;49m\u001b[43m \u001b[49m\u001b[38;5;241;43m0\u001b[39;49m:\n\u001b[1;32m     60\u001b[0m         P \u001b[38;5;241m=\u001b[39m i\n\u001b[1;32m     61\u001b[0m         Q \u001b[38;5;241m=\u001b[39m pq \u001b[38;5;241m/\u001b[39m\u001b[38;5;241m/\u001b[39m i\n",
      "\u001b[0;31mKeyboardInterrupt\u001b[0m: "
     ]
    }
   ],
   "source": [
    "data = []\n",
    "print(f\"{'n':<8}{'Time':<9}\")\n",
    "for n in range(10, 34, 1):\n",
    "    pq = nBitPrime(n) * nBitPrime(n)\n",
    "    factor_time = time_rsa_factor(factor, pq)\n",
    "\n",
    "    data_entry = {\n",
    "        'n': n,\n",
    "        'time': factor_time\n",
    "        }\n",
    "    \n",
    "    data.append(data_entry)\n",
    "    \n",
    "    print(f\"{n:<8}{round(factor_time, 2):<9}\")\n",
    "\n",
    "# save the data into a pandas df\n",
    "df = pd.DataFrame(data)\n"
   ]
  },
  {
   "cell_type": "code",
   "execution_count": 3,
   "metadata": {},
   "outputs": [],
   "source": [
    "df = pd.read_csv('factor_time.csv')"
   ]
  },
  {
   "cell_type": "code",
   "execution_count": 4,
   "metadata": {},
   "outputs": [
    {
     "data": {
      "image/png": "[encoded data removed]",
      "text/plain": [
       "<Figure size 800x600 with 1 Axes>"
      ]
     },
     "metadata": {},
     "output_type": "display_data"
    }
   ],
   "source": [
    "n_data = df['n']\n",
    "time_data = df['time']\n",
    "\n",
    "# Define the exponential function\n",
    "def exponential_func(n, a, b):\n",
    "    return a * np.exp(b * n)\n",
    "\n",
    "# Perform curve fitting\n",
    "params, covariance = curve_fit(exponential_func, n_data, time_data)\n",
    "\n",
    "# Extract parameters\n",
    "a_fit, b_fit = params\n",
    "\n",
    "# Predicted values using the fitted parameters\n",
    "time_fit = exponential_func(n_data, a_fit, b_fit)\n",
    "\n",
    "# Plotting the data and the fit\n",
    "plt.figure(figsize=(8, 6))\n",
    "plt.scatter(n_data, time_data, label='Data')\n",
    "plt.plot(n_data, time_fit, label='Exponential Fit', color='red')\n",
    "plt.xlabel('n')\n",
    "plt.ylabel('Time')\n",
    "plt.title('Exponential Fit of Time vs. n')\n",
    "plt.legend()\n",
    "plt.grid(True)\n",
    "plt.show()"
   ]
  },
  {
   "cell_type": "code",
   "execution_count": 5,
   "metadata": {},
   "outputs": [
    {
     "name": "stdout",
     "output_type": "stream",
     "text": [
      "[4.18422116e-10 1.06487111e+00]\n"
     ]
    }
   ],
   "source": [
    "print(params)"
   ]
  },
  {
   "cell_type": "code",
   "execution_count": 6,
   "metadata": {},
   "outputs": [],
   "source": [
    "df['time_ms'] = df['time']\n",
    "df.to_csv('factor_time.csv', index=False)"
   ]
  },
  {
   "cell_type": "code",
   "execution_count": null,
   "metadata": {},
   "outputs": [
    {
     "data": {
      "text/plain": [
       "array([1024.], dtype=float128)"
      ]
     },
     "execution_count": 139,
     "metadata": {},
     "output_type": "execute_result"
    }
   ],
   "source": [
    "np.array([1024], dtype=np.float128)"
   ]
  },
  {
   "cell_type": "code",
   "execution_count": 47,
   "metadata": {},
   "outputs": [
    {
     "data": {
      "text/plain": [
       "4.8908386859813889824e+453"
      ]
     },
     "execution_count": 47,
     "metadata": {},
     "output_type": "execute_result"
    }
   ],
   "source": [
    "exponential_func(np.array([1024], dtype=np.float128), a_fit, b_fit)[0] * (1 / (1000 * 60 * 60 * 24 * 365.25))"
   ]
  },
  {
   "cell_type": "code",
   "execution_count": 56,
   "metadata": {},
   "outputs": [
    {
     "data": {
      "text/plain": [
       "array([4.89083869e+453], dtype=float128)"
      ]
     },
     "execution_count": 56,
     "metadata": {},
     "output_type": "execute_result"
    }
   ],
   "source": [
    "exponential_func(np.array([1024], dtype=np.float128), a_fit, b_fit) * (1 / (1000 * 60 * 60 * 24 * 365.25))"
   ]
  },
  {
   "cell_type": "code",
   "execution_count": 44,
   "metadata": {},
   "outputs": [
    {
     "data": {
      "text/plain": [
       "[1, 11, 13, 17, 19, 23, 29, 31, 37, 41, 43, 47, 53, 59, 61, 67, 71]"
      ]
     },
     "execution_count": 44,
     "metadata": {},
     "output_type": "execute_result"
    }
   ],
   "source": [
    "\n",
    "n = 71\n",
    "m = int(math.sqrt(n)) + 1\n",
    "primes = [x for x in range(n+1)]\n",
    "for i in range(2, m):\n",
    "    for num in primes[:]:\n",
    "        if num % i == 0:\n",
    "            primes.remove(num)\n",
    "primes"
   ]
  },
  {
   "cell_type": "code",
   "execution_count": 46,
   "metadata": {},
   "outputs": [
    {
     "name": "stdout",
     "output_type": "stream",
     "text": [
      "False\n"
     ]
    }
   ],
   "source": [
    "import os\n",
    "if os.path.exists('factor_time.csv'):\n",
    "    print('True')\n",
    "else:\n",
    "    print('False')"
   ]
  },
  {
   "cell_type": "code",
   "execution_count": 70,
   "metadata": {},
   "outputs": [
    {
     "name": "stdout",
     "output_type": "stream",
     "text": [
      "Estimated Years to Crack RSA: 2.4207117875930744e-05\n",
      "2.4207117875930742265e-05\n"
     ]
    }
   ],
   "source": [
    "years = exponential_func(np.array([33], dtype=np.float128), a_fit, b_fit)[0] * (1 / (1000 * 60 * 60 * 24 * 365.25))\n",
    "print(f'Estimated Years to Crack RSA: {years}')\n",
    "print(years)"
   ]
  },
  {
   "cell_type": "code",
   "execution_count": 63,
   "metadata": {},
   "outputs": [],
   "source": [
    "df['time_years'] = df['time_ms'] * (1 / (1000 * 60 * 60 * 24 * 365.25))"
   ]
  },
  {
   "cell_type": "code",
   "execution_count": null,
   "metadata": {},
   "outputs": [],
   "source": []
  }
 ],
 "metadata": {
  "kernelspec": {
   "display_name": "tf",
   "language": "python",
   "name": "python3"
  },
  "language_info": {
   "codemirror_mode": {
    "name": "ipython",
    "version": 3
   },
   "file_extension": ".py",
   "mimetype": "text/x-python",
   "name": "python",
   "nbconvert_exporter": "python",
   "pygments_lexer": "ipython3",
   "version": "3.9.16"
  }
 },
 "nbformat": 4,
 "nbformat_minor": 2
}
