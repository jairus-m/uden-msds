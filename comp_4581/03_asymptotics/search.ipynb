{
 "cells": [
  {
   "cell_type": "markdown",
   "metadata": {},
   "source": [
    "# Searching Lists\n",
    "\n",
    "Linear and binary search are two fundamental algorithms used to find elements in a list or array. Here's a detailed comparison:\n",
    "\n",
    "### Linear Search\n",
    "\n",
    "**Definition:**\n",
    "Linear search is a simple searching algorithm that checks each element in the list sequentially until the desired element is found or the list ends.\n",
    "\n",
    "**How It Works:**\n",
    "1. Start from the first element and compare it with the target element.\n",
    "2. Move to the next element and repeat the comparison.\n",
    "3. Continue this process until the target element is found or the end of the list is reached.\n",
    "\n",
    "**Complexity:**\n",
    "- **Time Complexity:** \\( O(n) \\) in the worst case, where \\( n \\) is the number of elements in the list.\n",
    "- **Space Complexity:** \\( O(1) \\), as it requires no extra space.\n",
    "\n",
    "**Advantages:**\n",
    "- Simple to implement.\n",
    "- Does not require the list to be sorted.\n",
    "- Works well with small or unsorted lists.\n",
    "\n",
    "**Disadvantages:**\n",
    "- Inefficient for large lists.\n",
    "- On average, it may take longer to find the target element compared to more efficient algorithms.\n",
    "\n",
    "### Binary Search\n",
    "\n",
    "**Definition:**\n",
    "Binary search is a more efficient algorithm that works on sorted lists by repeatedly dividing the search interval in half.\n",
    "\n",
    "**How It Works:**\n",
    "1. Find the middle element of the sorted list.\n",
    "2. Compare the middle element with the target element.\n",
    "   - If the middle element is equal to the target, the search is complete.\n",
    "   - If the target element is less than the middle element, repeat the search on the left half of the list.\n",
    "   - If the target element is greater than the middle element, repeat the search on the right half of the list.\n",
    "3. Repeat this process until the target element is found or the interval is empty.\n",
    "\n",
    "**Complexity:**\n",
    "- **Time Complexity:** \\( O(\\log n) \\) in the worst case, where \\( n \\) is the number of elements in the list.\n",
    "- **Space Complexity:** \\( O(1) \\) for the iterative version and \\( O(\\log n) \\) for the recursive version due to call stack.\n",
    "\n",
    "**Advantages:**\n",
    "- Much more efficient for large lists compared to linear search.\n",
    "- Fewer comparisons are needed, especially as the list size grows.\n",
    "\n",
    "**Disadvantages:**\n",
    "- Requires the list to be sorted.\n",
    "- More complex to implement than linear search.\n",
    "- Not suitable for lists that are frequently updated, as maintaining sorted order can be costly.\n",
    "\n",
    "### Comparison\n",
    "\n",
    "| Feature            | Linear Search       | Binary Search        |\n",
    "|--------------------|---------------------|----------------------|\n",
    "| **Best Case**      | \\( O(1) \\)          | \\( O(1) \\)           |\n",
    "| **Average Case**   | \\( O(n) \\)          | \\( O(\\log n) \\)      |\n",
    "| **Worst Case**     | \\( O(n) \\)          | \\( O(\\log n) \\)      |\n",
    "| **Space Complexity** | \\( O(1) \\)         | \\( O(1) \\) (Iterative) / \\( O(\\log n) \\) (Recursive) |\n",
    "| **List Requirement** | Unsorted or Sorted | Sorted               |\n",
    "| **Simplicity**     | Simple              | Moderate             |\n",
    "| **Use Case**       | Small or Unsorted Lists | Large Sorted Lists   |\n",
    "\n",
    "In summary, linear search is straightforward and works on any list but is less efficient for large datasets. Binary search is much faster but requires a sorted list and is more complex to implement. The choice between the two depends on the context, such as list size and whether the list is sorted."
   ]
  },
  {
   "cell_type": "code",
   "execution_count": 3,
   "metadata": {},
   "outputs": [
    {
     "name": "stdout",
     "output_type": "stream",
     "text": [
      "Element 7 is at index 2\n"
     ]
    }
   ],
   "source": [
    "def linear_search(lst, target):\n",
    "    \"\"\"\n",
    "    Perform a linear search on the list.\n",
    "    \n",
    "    :param lst: List of elements to search\n",
    "    :param target: The element to search for\n",
    "    :return: Index of the target element if found, otherwise -1\n",
    "    \"\"\"\n",
    "    for i, element in enumerate(lst):\n",
    "        if element == target:\n",
    "            return i\n",
    "    return -1\n",
    "\n",
    "# Example usage\n",
    "lst = [5, 3, 7, 1, 9, 2]\n",
    "target = 7\n",
    "index = linear_search(lst, target)\n",
    "print(f'Element {target} is at index {index}')  # Output: Element 7 is at index 2\n"
   ]
  },
  {
   "cell_type": "code",
   "execution_count": 2,
   "metadata": {},
   "outputs": [
    {
     "name": "stdout",
     "output_type": "stream",
     "text": [
      "Element 7 is at index 4\n"
     ]
    }
   ],
   "source": [
    "def binary_search(lst, target):\n",
    "    \"\"\"\n",
    "    Perform a binary search on the sorted list.\n",
    "    \n",
    "    :param lst: Sorted list of elements to search\n",
    "    :param target: The element to search for\n",
    "    :return: Index of the target element if found, otherwise -1\n",
    "    \"\"\"\n",
    "    left, right = 0, len(lst) - 1\n",
    "    \n",
    "    while left <= right:\n",
    "        mid = left + (right - left) // 2\n",
    "        \n",
    "        if lst[mid] == target:\n",
    "            return mid\n",
    "        elif lst[mid] < target:\n",
    "            left = mid + 1\n",
    "        else:\n",
    "            right = mid - 1\n",
    "    \n",
    "    return -1\n",
    "\n",
    "# Example usage\n",
    "lst = [1, 2, 3, 5, 7, 9]\n",
    "target = 7\n",
    "index = binary_search(lst, target)\n",
    "print(f'Element {target} is at index {index}')  # Output: Element 7 is at index 4"
   ]
  },
  {
   "cell_type": "code",
   "execution_count": 4,
   "metadata": {},
   "outputs": [
    {
     "name": "stdout",
     "output_type": "stream",
     "text": [
      "Element 7 is at index 4\n"
     ]
    }
   ],
   "source": [
    "def recursive_binary_search(lst, target, left, right):\n",
    "    \"\"\"\n",
    "    Perform a binary search on the sorted list using recursion.\n",
    "    \n",
    "    :param lst: Sorted list of elements to search\n",
    "    :param target: The element to search for\n",
    "    :param left: The starting index of the list segment to search\n",
    "    :param right: The ending index of the list segment to search\n",
    "    :return: Index of the target element if found, otherwise -1\n",
    "    \"\"\"\n",
    "    if left > right:\n",
    "        return -1\n",
    "    \n",
    "    mid = left + (right - left) // 2\n",
    "    \n",
    "    if lst[mid] == target:\n",
    "        return mid\n",
    "    elif lst[mid] < target:\n",
    "        return recursive_binary_search(lst, target, mid + 1, right)\n",
    "    else:\n",
    "        return recursive_binary_search(lst, target, left, mid - 1)\n",
    "\n",
    "# Wrapper function to simplify calling the recursive function\n",
    "def binary_search(lst, target):\n",
    "    return recursive_binary_search(lst, target, 0, len(lst) - 1)\n",
    "\n",
    "# Example usage\n",
    "lst = [1, 2, 3, 5, 7, 9]\n",
    "target = 7\n",
    "index = binary_search(lst, target)\n",
    "print(f'Element {target} is at index {index}')  # Output: Element 7 is at index 4\n"
   ]
  },
  {
   "cell_type": "markdown",
   "metadata": {},
   "source": [
    "### True or false? \n",
    "\n",
    "#### Binary search takes Ω(log⁡ n) only when the target element you are looking for is not present in the input list. \n",
    "\n",
    "False.\n",
    "\n",
    "Binary search takes \\( \\Omega(\\log n) \\) time complexity regardless of whether the target element is present or not in the input list. This is because the binary search algorithm always divides the search interval in half during each step, resulting in a logarithmic number of steps in the worst case.\n",
    "\n",
    "Here’s why:\n",
    "\n",
    "- **When the target element is present:** The algorithm still divides the list in half with each step, reducing the search space logarithmically. In the best case, it might find the element in the middle immediately, but in the average and worst case, it will take \\( O(\\log n) \\) steps.\n",
    "  \n",
    "- **When the target element is not present:** The algorithm continues to divide the list in half until the search space is empty, which also takes \\( O(\\log n) \\) steps.\n",
    "\n",
    "In both scenarios, the logarithmic nature of dividing the search space applies, leading to \\( O(\\log n) \\) time complexity for both successful and unsuccessful searches. Thus, the correct statement is that binary search takes \\( \\Omega(\\log n) \\) time for both cases, not just when the target element is not present."
   ]
  },
  {
   "cell_type": "markdown",
   "metadata": {},
   "source": [
    "### True or false? \n",
    "\n",
    "#### On all sorted lists of elements, binary search will run faster than a linear search.\n",
    "\n",
    "True.\n",
    "\n",
    "On all sorted lists of elements, binary search will run faster than a linear search in terms of time complexity. This is because:\n",
    "\n",
    "- **Binary Search:** Binary search operates with a time complexity of \\( O(\\log n) \\). It divides the search interval in half each time, quickly reducing the number of elements to consider.\n",
    "\n",
    "- **Linear Search:** Linear search operates with a time complexity of \\( O(n) \\). It sequentially checks each element in the list until it finds the target or reaches the end of the list.\n",
    "\n",
    "For large lists, the difference in performance is significant:\n",
    "- For a list of size 1,000,000, a linear search may take up to 1,000,000 comparisons in the worst case.\n",
    "- In contrast, a binary search on the same list would take at most \\(\\log_2{1,000,000} \\approx 20\\) comparisons in the worst case.\n",
    "\n",
    "Therefore, for any reasonably large sorted list, binary search will be significantly faster than linear search. This holds true in general, although for very small lists, the difference in performance might not be noticeable due to the overhead of dividing the search space in binary search. However, in terms of theoretical time complexity and practical performance on larger datasets, binary search is indeed faster."
   ]
  }
 ],
 "metadata": {
  "kernelspec": {
   "display_name": "tf",
   "language": "python",
   "name": "python3"
  },
  "language_info": {
   "codemirror_mode": {
    "name": "ipython",
    "version": 3
   },
   "file_extension": ".py",
   "mimetype": "text/x-python",
   "name": "python",
   "nbconvert_exporter": "python",
   "pygments_lexer": "ipython3",
   "version": "3.9.16"
  }
 },
 "nbformat": 4,
 "nbformat_minor": 2
}
