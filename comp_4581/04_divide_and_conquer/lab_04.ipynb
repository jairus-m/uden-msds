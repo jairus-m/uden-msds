{
 "cells": [
  {
   "cell_type": "code",
   "execution_count": 40,
   "metadata": {},
   "outputs": [
    {
     "name": "stdout",
     "output_type": "stream",
     "text": [
      "1\n",
      "1\n",
      "1\n"
     ]
    }
   ],
   "source": [
    "def cPairDist(points: list):\n",
    "    \"\"\"\n",
    "    Sorts the list of points and then calls recCPairDist().\n",
    "    Args:\n",
    "        points (list) : list containing points on a 1D plane\n",
    "    Returns\n",
    "        int : minimum distance between all pair combinatoins in list\n",
    "    \"\"\"\n",
    "    points.sort()\n",
    "    return recCPairDist(points)\n",
    "\n",
    "def recCPairDist(points):\n",
    "    \"\"\"\n",
    "    Recursively calcualtes the minimum distance between \n",
    "    points via divide and conquer alorithm.\n",
    "   Args:\n",
    "        points (list) : list containing points on a 1D plane\n",
    "    Returns\n",
    "        int : minimum distance between all pair combinatoins in list\n",
    "    \"\"\"\n",
    "    n = len(points)\n",
    "    \n",
    "    # one element list,  distance = 0\n",
    "    if n <= 1:\n",
    "        # print(f'n = {n}')\n",
    "        return float('inf') # previously, I returned 0 but that was causing  \n",
    "                            # unexpected behaviour with odd length lists\n",
    "    # two elemenet list, distance between the 1st and 2nd element\n",
    "    elif n == 2:\n",
    "        # print(f'n = {n}')\n",
    "        return abs(points[0] - points[1])\n",
    "    \n",
    "    # print(f'n = {n}')\n",
    "    # cut list in half\n",
    "    mid = n // 2\n",
    "    left_half = points[:mid]\n",
    "    right_half = points[mid:]\n",
    "    \n",
    "    # part 1 and 2: recursively find the closest distance in each half\n",
    "    min_left = recCPairDist(left_half)\n",
    "    min_right = recCPairDist(right_half)\n",
    "    \n",
    "    # part 3: closest distance between the two halves\n",
    "    min_split = abs(points[mid] - points[mid - 1])\n",
    "    \n",
    "    return min(min_left, min_right, min_split)\n",
    "\n",
    "points1 = [7, 4, 12, 14, 2, 10, 16, 6]\n",
    "points2 = [7, 4, 12, 14, 2, 10, 16, 5]\n",
    "points3 = [14, 8, 2, 6, 3, 10, 12]\n",
    "\n",
    "print(cPairDist(points1))  # Output should be 1 (between 6 and 7)\n",
    "print(cPairDist(points2))  # Output should be 1 (between 4 and 5)\n",
    "print(cPairDist(points3))  # Output should be 1 (between 2 and 3)\n"
   ]
  },
  {
   "cell_type": "code",
   "execution_count": 29,
   "metadata": {},
   "outputs": [
    {
     "name": "stdout",
     "output_type": "stream",
     "text": [
      "7\n"
     ]
    }
   ],
   "source": [
    "points3.sort()\n",
    "print(len(points3))"
   ]
  },
  {
   "cell_type": "code",
   "execution_count": 18,
   "metadata": {},
   "outputs": [
    {
     "name": "stdout",
     "output_type": "stream",
     "text": [
      "2\n",
      "2\n",
      "4\n"
     ]
    }
   ],
   "source": [
    "def cPairDistCircle(points: list, circumference: int):\n",
    "    \"\"\"\n",
    "    Sorts the list of points and then calls recCPairDistCircle().\n",
    "    Args:\n",
    "        points (list) : list containing points on a 1D circular path\n",
    "        circumference (int) : the circumference of the circle\n",
    "    Returns\n",
    "        int : minimum distance between all pair combinations in list\n",
    "    \"\"\"\n",
    "    points.sort()\n",
    "    return recCPairDistCircle(points, circumference)\n",
    "\n",
    "def recCPairDistCircle(points, circumference):\n",
    "    \"\"\"\n",
    "    Recursively calculates the minimum distance between \n",
    "    points via divide and conquer algorithm on a circle.\n",
    "    Args:\n",
    "        points (list) : list containing points on a 1D circular path\n",
    "        circumference (int) : the circumference of the circle\n",
    "    Returns\n",
    "        int : minimum distance between all pair combinations in list\n",
    "    \"\"\"\n",
    "    n = len(points)\n",
    "    \n",
    "    # one element list, distance = 0\n",
    "    if n <= 1:\n",
    "        return float('inf')\n",
    "    # two element list, distance between the 1st and 2nd element\n",
    "    elif n == 2:\n",
    "        return min(abs(points[0] - points[1]), circumference - abs(points[0] - points[1]))\n",
    "    \n",
    "    # split!\n",
    "    mid = n // 2\n",
    "    left_half = points[:mid]\n",
    "    right_half = points[mid:]\n",
    "    \n",
    "    # part 1 and 2: recursively find the closest distance in each half via recursive DAC as normal\n",
    "    min_left = recCPairDistCircle(left_half, circumference)\n",
    "    min_right = recCPairDistCircle(right_half, circumference)\n",
    "    \n",
    "    # part 3: speacial cases to comare: \n",
    "    # find the min of 1. middle spit distance 2. end of circle distance 3. beginning of circle distance \n",
    "    min_split = min(abs(points[mid] - points[mid - 1]), abs(circumference - points[-1]), points[0])\n",
    "    \n",
    "    return min(min_left, min_right, min_split)\n",
    "\n",
    "# Testing the function with given lists and a circumference of 20\n",
    "circumference = 20\n",
    "points1 = [3, 10, 12, 16] # expect 2 (between 10 and 12)\n",
    "points2 = [2, 6, 9, 14, 17] # expect 2 (between 20 and 2)\n",
    "points3 = [6, 11, 16] # expect 4 (between 16 and 20)\n",
    "\n",
    "\n",
    "print(cPairDistCircle(points1, circumference))  \n",
    "print(cPairDistCircle(points2, circumference))  \n",
    "print(cPairDistCircle(points3, circumference))  \n",
    "\n"
   ]
  },
  {
   "cell_type": "code",
   "execution_count": null,
   "metadata": {},
   "outputs": [],
   "source": []
  },
  {
   "cell_type": "code",
   "execution_count": null,
   "metadata": {},
   "outputs": [],
   "source": []
  },
  {
   "cell_type": "code",
   "execution_count": null,
   "metadata": {},
   "outputs": [],
   "source": []
  }
 ],
 "metadata": {
  "kernelspec": {
   "display_name": "tf",
   "language": "python",
   "name": "python3"
  },
  "language_info": {
   "codemirror_mode": {
    "name": "ipython",
    "version": 3
   },
   "file_extension": ".py",
   "mimetype": "text/x-python",
   "name": "python",
   "nbconvert_exporter": "python",
   "pygments_lexer": "ipython3",
   "version": "3.9.16"
  }
 },
 "nbformat": 4,
 "nbformat_minor": 2
}
