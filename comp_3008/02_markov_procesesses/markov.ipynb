{
 "cells": [
  {
   "cell_type": "code",
   "execution_count": 1,
   "id": "9b9975d3-4b4d-4fb9-8832-d4e4544ccd96",
   "metadata": {},
   "outputs": [],
   "source": [
    "import numpy as np"
   ]
  },
  {
   "cell_type": "markdown",
   "id": "2cd558ec-cf30-426a-9436-3354ffd06ce5",
   "metadata": {},
   "source": [
    "In the new penguin colony of Waddlesworth there are 3 restaurants - The Tuxedo Diner, Fishtopia, and the new restaurant Black and White. Since penguins are social creatures, they all decide to eat at one of the restaurants in town every night of the week. If a penguin eats at the Tuxedo Diner on any night, they are 65% likely to return the next day, they are 10% likely to go to the Black and White the next day, and 5% likely to go to Fishtopia. There are similar probabilities for a penguin eating at one of the two other\n",
    "restaurants that can be summarized\n",
    "with the following diagram and matrix:\n",
    "\n",
    "\n",
    "This matrix, known as a Markov matrix, tells us the probability that a given penguin changes from one state (restaurant) from one day to the next. It is read by columns. So for example, the 0.1 in the second row and first column says that if a penguin eats as the Tuxedo diner, there is a 10% chance that a penguin eats at the Black and White the next day. Notice that the columns all add up to 1 - this is consistent with the assumption that we will always find a penguin at one of the restaurants.\n"
   ]
  },
  {
   "cell_type": "code",
   "execution_count": 2,
   "id": "b510cb26-b85d-4b33-8516-5b80a1bab4c9",
   "metadata": {},
   "outputs": [],
   "source": [
    "M = np.array([[.85, .15, .05], [.10, .65, .30], [.05, .2, .65]])\n",
    "state_vector = np.array([30000, 50000, 20000]).reshape(1,-1) * 1/100000"
   ]
  },
  {
   "cell_type": "markdown",
   "id": "53312e38-009a-4159-b192-75bb9222e79c",
   "metadata": {},
   "source": [
    "### A.) M and M^2\n",
    "-  Let’s call this matrix above M. Compute M2. What do you notice about the columns of M?"
   ]
  },
  {
   "cell_type": "code",
   "execution_count": 3,
   "id": "cc3cc1f6-c5cc-4e0c-802e-fc7d67786a1e",
   "metadata": {},
   "outputs": [
    {
     "data": {
      "text/plain": [
       "array([[0.85, 0.15, 0.05],\n",
       "       [0.1 , 0.65, 0.3 ],\n",
       "       [0.05, 0.2 , 0.65]])"
      ]
     },
     "execution_count": 3,
     "metadata": {},
     "output_type": "execute_result"
    }
   ],
   "source": [
    "M"
   ]
  },
  {
   "cell_type": "code",
   "execution_count": 4,
   "id": "37e5285b-a2dc-4466-9437-ac4fa97d1277",
   "metadata": {},
   "outputs": [
    {
     "data": {
      "text/plain": [
       "array([[0.74  , 0.235 , 0.12  ],\n",
       "       [0.165 , 0.4975, 0.395 ],\n",
       "       [0.095 , 0.2675, 0.485 ]])"
      ]
     },
     "execution_count": 4,
     "metadata": {},
     "output_type": "execute_result"
    }
   ],
   "source": [
    "# M * M\n",
    "M @ M"
   ]
  },
  {
   "cell_type": "code",
   "execution_count": 5,
   "id": "e17559c7-05ac-48b2-894f-11c3f5debbbc",
   "metadata": {},
   "outputs": [
    {
     "data": {
      "text/plain": [
       "array([[0.74  , 0.235 , 0.12  ],\n",
       "       [0.165 , 0.4975, 0.395 ],\n",
       "       [0.095 , 0.2675, 0.485 ]])"
      ]
     },
     "execution_count": 5,
     "metadata": {},
     "output_type": "execute_result"
    }
   ],
   "source": [
    "# M^2\n",
    "np.linalg.matrix_power(M,2)"
   ]
  },
  {
   "cell_type": "markdown",
   "id": "06335929-8df8-4ba4-a750-8c0337e2c21d",
   "metadata": {},
   "source": [
    "### B.) Initial Population State \n",
    "- Suppose the colony of Waddlesworth has 100,000 inhabitants that all moved in today. Choose a distribution for how the penguins ate on the first day, i.e. x penguins ate at Tuxedo Diner, y penguins at at the Black and White, and z penguins at Fishtopia\n",
    "- whatever you want, as long as these numbers add to 100,000. Put these values in a column vector (the numbers should match the order given in M). Now use the matrix M to determine the distribution of penguins at the different restaurants for the next 2 days."
   ]
  },
  {
   "cell_type": "code",
   "execution_count": 6,
   "id": "083f81c8-d9f0-4cb1-830e-738a7bdc74ce",
   "metadata": {},
   "outputs": [],
   "source": [
    "# choose 30000 at TD, 50000 at BW, and 20000 at FT\n",
    "initialPopulationState = np.array([30000, 50000, 20000]).reshape(1,-1)\n",
    "#initialPopulationState = np.array([50000, 20000, 30000]).reshape(1,-1)"
   ]
  },
  {
   "cell_type": "code",
   "execution_count": 7,
   "id": "b0ae54b2-be8d-4628-8f8f-16d23ad5f565",
   "metadata": {},
   "outputs": [
    {
     "data": {
      "text/plain": [
       "array([[30000, 50000, 20000]])"
      ]
     },
     "execution_count": 7,
     "metadata": {},
     "output_type": "execute_result"
    }
   ],
   "source": [
    "initialPopulationState"
   ]
  },
  {
   "cell_type": "markdown",
   "id": "70d65225-a061-4563-a266-557733202d5a",
   "metadata": {},
   "source": [
    "Distribution over the next 2 days:"
   ]
  },
  {
   "cell_type": "code",
   "execution_count": 8,
   "id": "90a0860a-c887-4d33-b40d-3c902427e38e",
   "metadata": {},
   "outputs": [
    {
     "data": {
      "text/plain": [
       "array([[34000.],\n",
       "       [41500.],\n",
       "       [24500.]])"
      ]
     },
     "execution_count": 8,
     "metadata": {},
     "output_type": "execute_result"
    }
   ],
   "source": [
    "# find distribution after two days (since M is the state change, multiply the initial state by M twice)\n",
    "# intital staet * M * M = initial state * M^2\n",
    "np.linalg.matrix_power(M,1) @ initialPopulationState.T"
   ]
  },
  {
   "cell_type": "code",
   "execution_count": 9,
   "id": "626bd153-b529-442f-bae4-8c7ba0e707fc",
   "metadata": {},
   "outputs": [
    {
     "data": {
      "text/plain": [
       "array([[36350.],\n",
       "       [37725.],\n",
       "       [25925.]])"
      ]
     },
     "execution_count": 9,
     "metadata": {},
     "output_type": "execute_result"
    }
   ],
   "source": [
    "# find distribution after two days (since M is the state change, multiply the initial state by M twice)\n",
    "# intital staet * M * M = initial state * M^2\n",
    "np.linalg.matrix_power(M,2) @ initialPopulationState.T"
   ]
  },
  {
   "cell_type": "markdown",
   "id": "cd9fdca6-bb52-4b2a-a8e0-e6a4832563ea",
   "metadata": {},
   "source": [
    "### C.) Calculate state vector ( divide initialPopulationState by 100000)\n",
    "- Now, for whatever vector you chose for the initial distribution in the previous step, divide each value by 100,000 to get the proportion of the population for each entry instead of the total number. Note that the entries should sum to 1. This vector is known as a probability state vector. Now multiply this vector by M and M2. What do you notice about the resulting vectors? How does this relate to the work you did in the last step?\n",
    "    - multiply by M\n",
    "    - multiply by M^2"
   ]
  },
  {
   "cell_type": "code",
   "execution_count": 10,
   "id": "3a1b0918-d86f-4658-863c-e50ffb9f446f",
   "metadata": {},
   "outputs": [
    {
     "data": {
      "text/plain": [
       "array([[0.3],\n",
       "       [0.5],\n",
       "       [0.2]])"
      ]
     },
     "execution_count": 10,
     "metadata": {},
     "output_type": "execute_result"
    }
   ],
   "source": [
    "# calc state vector by dividing initial pop state by total (10000)\n",
    "state_vector = initialPopulationState / 100000\n",
    "state_vector.T"
   ]
  },
  {
   "cell_type": "code",
   "execution_count": 11,
   "id": "b2d8c83f-7af5-459c-a5c4-650902a17400",
   "metadata": {},
   "outputs": [
    {
     "data": {
      "text/plain": [
       "array([[0.34 ],\n",
       "       [0.415],\n",
       "       [0.245]])"
      ]
     },
     "execution_count": 11,
     "metadata": {},
     "output_type": "execute_result"
    }
   ],
   "source": [
    "# state_vector * M\n",
    "M @ state_vector.T"
   ]
  },
  {
   "cell_type": "code",
   "execution_count": 12,
   "id": "bc81525e-f3e3-4080-9447-645bf8418775",
   "metadata": {},
   "outputs": [
    {
     "data": {
      "text/plain": [
       "array([[0.3635 ],\n",
       "       [0.37725],\n",
       "       [0.25925]])"
      ]
     },
     "execution_count": 12,
     "metadata": {},
     "output_type": "execute_result"
    }
   ],
   "source": [
    "# state_vector * M^2\n",
    "np.linalg.matrix_power(M,2) @ state_vector.T"
   ]
  },
  {
   "cell_type": "markdown",
   "id": "9c5c14d8-8579-40d2-93bf-49dbdccb6872",
   "metadata": {},
   "source": [
    "### D.) Calculate large power of M^n (n >= 20) and multiply by \"initial state vector\"\n",
    "-  Use technology to calculate a large power of M (≥ 20) and multiply the vector from the previous step and note the results."
   ]
  },
  {
   "cell_type": "code",
   "execution_count": 13,
   "id": "2c1930be-5058-417c-9964-01c99b580837",
   "metadata": {},
   "outputs": [
    {
     "data": {
      "text/plain": [
       "array([[0.41666667, 0.41666667, 0.41666667],\n",
       "       [0.33333333, 0.33333333, 0.33333333],\n",
       "       [0.25      , 0.25      , 0.25      ]])"
      ]
     },
     "execution_count": 13,
     "metadata": {},
     "output_type": "execute_result"
    }
   ],
   "source": [
    "# calc large power of M (M^100)\n",
    "np.linalg.matrix_power(M,100)"
   ]
  },
  {
   "cell_type": "code",
   "execution_count": 14,
   "id": "e7712e42-41fc-4025-b504-8aa963d3e60b",
   "metadata": {},
   "outputs": [
    {
     "data": {
      "text/plain": [
       "array([[0.41666667],\n",
       "       [0.33333333],\n",
       "       [0.25      ]])"
      ]
     },
     "execution_count": 14,
     "metadata": {},
     "output_type": "execute_result"
    }
   ],
   "source": [
    "# state vector * M^100\n",
    "np.linalg.matrix_power(M,100) @ state_vector.T"
   ]
  },
  {
   "cell_type": "markdown",
   "id": "2e904a0e-a49f-448e-bf2a-b2a25955cacf",
   "metadata": {},
   "source": [
    "### E.) Eigenvalues\n",
    "- Compute the eigenvalues of the matrix M. You are encouraged to use technology to aid you, but please show the work required to compute this. What do you notice about the eigenvalues? Do any stand out as interesting to you?\n",
    "    - what do you notice?"
   ]
  },
  {
   "cell_type": "code",
   "execution_count": 15,
   "id": "34c3f715-1465-425a-ba0c-8e7e2302bcc2",
   "metadata": {},
   "outputs": [],
   "source": [
    "eigenvalues, eigenvectors = np.linalg.eig(M)"
   ]
  },
  {
   "cell_type": "code",
   "execution_count": 16,
   "id": "e991635a-c9a0-494e-9635-5c42b18ca7a9",
   "metadata": {},
   "outputs": [
    {
     "data": {
      "text/plain": [
       "array([1.  , 0.75, 0.4 ])"
      ]
     },
     "execution_count": 16,
     "metadata": {},
     "output_type": "execute_result"
    }
   ],
   "source": [
    "eigenvalues"
   ]
  },
  {
   "cell_type": "code",
   "execution_count": 17,
   "id": "6ac52c66-6fff-46ae-b7d6-0ee2cd4a221e",
   "metadata": {},
   "outputs": [
    {
     "data": {
      "text/plain": [
       "0.46511627906976766"
      ]
     },
     "execution_count": 17,
     "metadata": {},
     "output_type": "execute_result"
    }
   ],
   "source": [
    "1 / np.sum(eigenvalues)"
   ]
  },
  {
   "cell_type": "code",
   "execution_count": 18,
   "id": "220df079-2d30-47ca-ae5c-f54e028bcc44",
   "metadata": {},
   "outputs": [
    {
     "data": {
      "text/plain": [
       "0.34883720930232576"
      ]
     },
     "execution_count": 18,
     "metadata": {},
     "output_type": "execute_result"
    }
   ],
   "source": [
    "0.75 / np.sum(eigenvalues)"
   ]
  },
  {
   "cell_type": "code",
   "execution_count": 19,
   "id": "f73658d1-f441-430d-a13b-261ccf058f14",
   "metadata": {},
   "outputs": [
    {
     "data": {
      "text/plain": [
       "0.18604651162790709"
      ]
     },
     "execution_count": 19,
     "metadata": {},
     "output_type": "execute_result"
    }
   ],
   "source": [
    "0.4 / np.sum(eigenvalues)"
   ]
  },
  {
   "cell_type": "markdown",
   "id": "37e785fa-09b6-42d6-84cf-ff221e9a2cdf",
   "metadata": {},
   "source": [
    "### F.) Eigenvectors\n",
    "- Now compute eigenvectors for each of the eigenvalues you found. Same as the last step, you are free to use technology to help with the row reductions required for computing the eigenvectors, but please show all work. Note: I prefer answers that are fractions because the work is more precise, but you’re free to use decimal approximations."
   ]
  },
  {
   "cell_type": "code",
   "execution_count": 20,
   "id": "4932b80d-141e-4d14-93ab-a5b69bad5c2a",
   "metadata": {},
   "outputs": [
    {
     "data": {
      "text/plain": [
       "array([0.70710678, 0.56568542, 0.42426407])"
      ]
     },
     "execution_count": 20,
     "metadata": {},
     "output_type": "execute_result"
    }
   ],
   "source": [
    "# normalized values as calculated by numpy\n",
    "eigenvectors[:,0]"
   ]
  },
  {
   "cell_type": "code",
   "execution_count": 21,
   "id": "1ccabef1-cc7c-44e2-92dd-df32ed479e9d",
   "metadata": {},
   "outputs": [
    {
     "data": {
      "text/plain": [
       "array([[ 1.66666667, -2.        ,  0.33333333],\n",
       "       [ 1.33333333,  1.        , -1.33333333],\n",
       "       [ 1.        ,  1.        ,  1.        ]])"
      ]
     },
     "execution_count": 21,
     "metadata": {},
     "output_type": "execute_result"
    }
   ],
   "source": [
    "# these values for eigenvecotors are non-normalized and are from an online calculator\n",
    "eigenvectorsNonNormal = np.array([[5/3, -2, 1/3],[4/3, 1, -4/3],[1, 1, 1]])\n",
    "eigenvectorsNonNormal"
   ]
  },
  {
   "cell_type": "code",
   "execution_count": 22,
   "id": "9c5b95c5-e062-4086-b114-351df5b2afd6",
   "metadata": {},
   "outputs": [
    {
     "data": {
      "text/plain": [
       "array([0.70710678, 0.56568542, 0.42426407])"
      ]
     },
     "execution_count": 22,
     "metadata": {},
     "output_type": "execute_result"
    }
   ],
   "source": [
    "# i am normalizing the first eigenvector just to make sure it matches with eigenvectors[:,0]\n",
    "np.array([5/3, 4/3, 1]) / np.linalg.norm(np.array([5/3, 4/3, 1]))"
   ]
  },
  {
   "cell_type": "markdown",
   "id": "6421bf1b-c003-41a2-9e8b-3e1ad017e698",
   "metadata": {},
   "source": [
    "### G.) Diagonalize\n",
    "- Now diagonalize the matrix M = PDP−1. Recall that Mn = PDnP−1. What will happen to the diagonal matrix D as n → ∞?"
   ]
  },
  {
   "cell_type": "code",
   "execution_count": 23,
   "id": "1a0e9329-688e-4d41-8acc-d89c8be5b07a",
   "metadata": {},
   "outputs": [],
   "source": [
    "# Create a diagonal matrix with eigenvalues\n",
    "D = np.diag(eigenvalues)\n",
    "\n",
    "# Find the inverse of eigenvector matrix\n",
    "P_inv = np.linalg.inv(eigenvectors)\n",
    "\n",
    "# Diagonalize the matrix where eigenvectors = P\n",
    "diagonalized_matrix = eigenvectors @ D @ P_inv"
   ]
  },
  {
   "cell_type": "code",
   "execution_count": 24,
   "id": "1ffd4d24-1f37-4a24-ac23-a965e9022bd4",
   "metadata": {},
   "outputs": [
    {
     "data": {
      "text/plain": [
       "array([[1.  , 0.  , 0.  ],\n",
       "       [0.  , 0.75, 0.  ],\n",
       "       [0.  , 0.  , 0.4 ]])"
      ]
     },
     "execution_count": 24,
     "metadata": {},
     "output_type": "execute_result"
    }
   ],
   "source": [
    "D"
   ]
  },
  {
   "cell_type": "code",
   "execution_count": 25,
   "id": "cb04a281-e379-4d8c-ae1b-c092d696d2df",
   "metadata": {},
   "outputs": [
    {
     "data": {
      "text/plain": [
       "array([[0.85, 0.15, 0.05],\n",
       "       [0.1 , 0.65, 0.3 ],\n",
       "       [0.05, 0.2 , 0.65]])"
      ]
     },
     "execution_count": 25,
     "metadata": {},
     "output_type": "execute_result"
    }
   ],
   "source": [
    "diagonalized_matrix"
   ]
  },
  {
   "cell_type": "markdown",
   "id": "6a63de13-e9cd-478f-8818-03c53ea9e518",
   "metadata": {},
   "source": [
    "As n approaches, infinity, D will converge to a 3x3 matrix with a single leading entry, 1, in the first row and all zeros. "
   ]
  },
  {
   "cell_type": "markdown",
   "id": "3304e7ee-3b65-4026-bc5b-594855e4439d",
   "metadata": {},
   "source": [
    "### H.) Divide each eigenvector by the sum of the entries\n",
    "- Before continuing to the next steps, divide each eigenvector by the sum of the entries, so that the entries sum to 1 (like you did in (c)). We’ll come back to this later."
   ]
  },
  {
   "cell_type": "code",
   "execution_count": 26,
   "id": "d104e029-3351-4a2f-a346-2e91d959b78f",
   "metadata": {},
   "outputs": [
    {
     "data": {
      "text/plain": [
       "array([[ 1.66666667, -2.        ,  0.33333333],\n",
       "       [ 1.33333333,  1.        , -1.33333333],\n",
       "       [ 1.        ,  1.        ,  1.        ]])"
      ]
     },
     "execution_count": 26,
     "metadata": {},
     "output_type": "execute_result"
    }
   ],
   "source": [
    "eigenvectorsNonNormal"
   ]
  },
  {
   "cell_type": "code",
   "execution_count": 27,
   "id": "b5e2e53f-b92e-433f-8054-26338792b305",
   "metadata": {},
   "outputs": [
    {
     "data": {
      "text/plain": [
       "array([0.41666667, 0.33333333, 0.25      ])"
      ]
     },
     "execution_count": 27,
     "metadata": {},
     "output_type": "execute_result"
    }
   ],
   "source": [
    "# take note of this for later\n",
    "eigenvectorsNonNormal[:,0] / np.sum(eigenvectorsNonNormal[:,0])"
   ]
  },
  {
   "attachments": {
    "34ce5807-a7c7-4726-8f2f-48fb66e91f71.png": {
     "image/png": "[encoded data removed]"
    }
   },
   "cell_type": "markdown",
   "id": "0a8eae63-a6f8-4ea5-8382-4956bb6e7c46",
   "metadata": {},
   "source": [
    "### I. & J.) What happens when...\n",
    "- Let’s call whatever you chose for your initial state vector in part (c) v 0. \n",
    "![Screenshot 2023-08-14 at 7.56.18 PM.png](attachment:34ce5807-a7c7-4726-8f2f-48fb66e91f71.png)\n",
    "\n",
    "n approaches infinity for state_vector * M^n"
   ]
  },
  {
   "cell_type": "code",
   "execution_count": 28,
   "id": "3eff14eb-5963-41f9-9844-122201c5a191",
   "metadata": {},
   "outputs": [],
   "source": [
    "A = eigenvectorsNonNormal\n",
    "b = state_vector.T\n",
    "alpha_coefficients = np.linalg.solve(A, b)"
   ]
  },
  {
   "cell_type": "code",
   "execution_count": 29,
   "id": "dce3f50b-3847-466e-82a3-37047595f325",
   "metadata": {},
   "outputs": [
    {
     "data": {
      "text/plain": [
       "array([[ 0.25      ],\n",
       "       [ 0.04285714],\n",
       "       [-0.09285714]])"
      ]
     },
     "execution_count": 29,
     "metadata": {},
     "output_type": "execute_result"
    }
   ],
   "source": [
    "alpha_coefficients"
   ]
  },
  {
   "cell_type": "code",
   "execution_count": 30,
   "id": "4b999b8b-6ec5-4b21-ad0a-f0dd58dbc208",
   "metadata": {},
   "outputs": [],
   "source": [
    "alpha1 = alpha_coefficients[0]\n",
    "alpha2 = alpha_coefficients[1]\n",
    "alpha3 = alpha_coefficients[2]"
   ]
  },
  {
   "cell_type": "code",
   "execution_count": 31,
   "id": "2d9535e5-0c42-4056-9f0b-2f5bba101a2f",
   "metadata": {},
   "outputs": [
    {
     "data": {
      "text/plain": [
       "'alpha1'"
      ]
     },
     "execution_count": 31,
     "metadata": {},
     "output_type": "execute_result"
    }
   ],
   "source": [
    "f'alpha{1}'"
   ]
  },
  {
   "cell_type": "code",
   "execution_count": 32,
   "id": "4b3f53b8-a993-4ff3-9b75-3bc4cd3813b5",
   "metadata": {},
   "outputs": [
    {
     "data": {
      "text/plain": [
       "array([0.41666667, 0.33333333, 0.25      ])"
      ]
     },
     "execution_count": 32,
     "metadata": {},
     "output_type": "execute_result"
    }
   ],
   "source": [
    "# using equation, double check result IF we solve for the alpha coefficients\n",
    "n = 100\n",
    "\n",
    "term1 = alpha1 * eigenvectorsNonNormal[:,0] * eigenvalues[0]**n \n",
    "term2 = alpha2 * eigenvectorsNonNormal[:,1] * eigenvalues[1]**n\n",
    "term3 = alpha3 * eigenvectorsNonNormal[:,2] * eigenvalues[2]**n\n",
    "\n",
    "term1 + term2 + term3"
   ]
  },
  {
   "cell_type": "code",
   "execution_count": 33,
   "id": "af74a2c6-3295-4a76-8af9-cd10ad7faebf",
   "metadata": {},
   "outputs": [
    {
     "data": {
      "text/plain": [
       "array([1.  , 0.75, 0.4 ])"
      ]
     },
     "execution_count": 33,
     "metadata": {},
     "output_type": "execute_result"
    }
   ],
   "source": [
    "eigenvalues"
   ]
  },
  {
   "cell_type": "code",
   "execution_count": 34,
   "id": "c92a987c-863a-4bbe-82c1-28347b5278cc",
   "metadata": {},
   "outputs": [
    {
     "data": {
      "text/plain": [
       "array([1.66666667, 1.33333333, 1.        ])"
      ]
     },
     "execution_count": 34,
     "metadata": {},
     "output_type": "execute_result"
    }
   ],
   "source": [
    "eigenvectorsNonNormal[:,0]"
   ]
  },
  {
   "cell_type": "code",
   "execution_count": 35,
   "id": "c0adfec3-c3c0-44e7-a59c-58e109bbd77b",
   "metadata": {},
   "outputs": [
    {
     "data": {
      "text/plain": [
       "array([0.41666667, 0.33333333, 0.25      ])"
      ]
     },
     "execution_count": 35,
     "metadata": {},
     "output_type": "execute_result"
    }
   ],
   "source": [
    "alpha1 * eigenvectorsNonNormal[:,0] * 1"
   ]
  },
  {
   "cell_type": "markdown",
   "id": "648bc640-42e4-4dfb-8bf8-74fb9a1df40c",
   "metadata": {},
   "source": [
    "Here, we see that the first coefficent of state_vector = eigeneectorsNonNormal*alpha_coefficients \n",
    "- is alpha1 = 0.25"
   ]
  },
  {
   "cell_type": "markdown",
   "id": "69da9443-0b5e-4228-8010-e9a971899e48",
   "metadata": {},
   "source": [
    "As n approaches infinity, the state, v_n, will converge to alpha1*eigenvalues[0]*eigeneectorsNonNormal[0] since the other terms of the corresponding eigenvalues^n will become zero since the eigenvalues are less than 1"
   ]
  },
  {
   "cell_type": "markdown",
   "id": "58fdc6ce-873b-4075-90e9-32d44d865bf7",
   "metadata": {},
   "source": [
    "### J.) We know that the entries of v n need to add up to 1. Based off the results of the #» n #»\n",
    "- last step, how can we compute v ∞ = lim M v n? (Food for thought - why didn’t n→∞\n",
    "we need to find what the αi were?)\n",
    "- since M^n = np.array([[1,0,0],[0,0,0],[0,0,0]]) as n approaches infinity, all you have to do is multiply the v0 by np.array([[1,0,0],[0,0,0],[0,0,0]])"
   ]
  },
  {
   "cell_type": "code",
   "execution_count": 36,
   "id": "3432440f-0e44-40fb-899c-63cabf6cdfac",
   "metadata": {},
   "outputs": [
    {
     "data": {
      "text/plain": [
       "array([[1, 0, 0],\n",
       "       [0, 0, 0],\n",
       "       [0, 0, 0]])"
      ]
     },
     "execution_count": 36,
     "metadata": {},
     "output_type": "execute_result"
    }
   ],
   "source": [
    "np.array([[1,0,0],[0,0,0],[0,0,0]])"
   ]
  },
  {
   "cell_type": "code",
   "execution_count": 37,
   "id": "5be6eb57-e770-4e17-86e3-b12b07392a9c",
   "metadata": {},
   "outputs": [
    {
     "data": {
      "text/plain": [
       "array([[0.41666667, 0.41666667, 0.41666667],\n",
       "       [0.33333333, 0.33333333, 0.33333333],\n",
       "       [0.25      , 0.25      , 0.25      ]])"
      ]
     },
     "execution_count": 37,
     "metadata": {},
     "output_type": "execute_result"
    }
   ],
   "source": [
    "# as n approaches infinity, it is equal to this: \n",
    "eigenvectors @ np.linalg.matrix_power(D,365) @ P_inv"
   ]
  },
  {
   "cell_type": "code",
   "execution_count": 38,
   "id": "209ad5c3-694c-426a-b701-2db5fa3c448d",
   "metadata": {},
   "outputs": [
    {
     "data": {
      "text/plain": [
       "array([[0.41666667, 0.41666667, 0.41666667],\n",
       "       [0.33333333, 0.33333333, 0.33333333],\n",
       "       [0.25      , 0.25      , 0.25      ]])"
      ]
     },
     "execution_count": 38,
     "metadata": {},
     "output_type": "execute_result"
    }
   ],
   "source": [
    "# or more simply: \n",
    "eigenvectors @ np.array([[1,0,0],[0,0,0],[0,0,0]]) @ P_inv"
   ]
  },
  {
   "cell_type": "code",
   "execution_count": 39,
   "id": "7376fb46-53a1-4fcb-a2da-7f2e71b0d0ef",
   "metadata": {},
   "outputs": [
    {
     "data": {
      "text/plain": [
       "array([[0.41666667],\n",
       "       [0.33333333],\n",
       "       [0.25      ]])"
      ]
     },
     "execution_count": 39,
     "metadata": {},
     "output_type": "execute_result"
    }
   ],
   "source": [
    "# v0 * M^n as n approaches infinity\n",
    "(eigenvectors @ np.array([[1,0,0],[0,0,0],[0,0,0]]) @ P_inv) @ state_vector.T"
   ]
  },
  {
   "cell_type": "code",
   "execution_count": 40,
   "id": "bed10440-8ec4-4d0a-b900-c089c90c5e94",
   "metadata": {},
   "outputs": [
    {
     "data": {
      "text/plain": [
       "array([[0.3],\n",
       "       [0.5],\n",
       "       [0.2]])"
      ]
     },
     "execution_count": 40,
     "metadata": {},
     "output_type": "execute_result"
    }
   ],
   "source": [
    "state_vector.T"
   ]
  },
  {
   "cell_type": "markdown",
   "id": "cc0df64d-6d74-492b-8f48-a7def8298ad1",
   "metadata": {},
   "source": [
    "### K.) Steady State Vector\n",
    "- Compare this vector to the ones you got in part (h). What do you notice? This\n",
    "vector is known as the steady state vector for the given Markov model."
   ]
  },
  {
   "cell_type": "code",
   "execution_count": 41,
   "id": "32f0cf4e-c278-4b78-8f90-746d0e0fa436",
   "metadata": {},
   "outputs": [
    {
     "data": {
      "text/plain": [
       "array([0.41666667, 0.33333333, 0.25      ])"
      ]
     },
     "execution_count": 41,
     "metadata": {},
     "output_type": "execute_result"
    }
   ],
   "source": [
    "# as explained above, as n approaches infinity, this cell will be the converged result\n",
    "# this is the steady-state vector and should be the same to the one found in H\n",
    "alpha1*eigenvalues[0]*eigenvectorsNonNormal[:,0]"
   ]
  },
  {
   "cell_type": "code",
   "execution_count": 42,
   "id": "bdc5b8af-5f8c-42ee-84b8-e0324bd32ff6",
   "metadata": {},
   "outputs": [
    {
     "data": {
      "text/plain": [
       "array([[0.41666667],\n",
       "       [0.33333333],\n",
       "       [0.25      ]])"
      ]
     },
     "execution_count": 42,
     "metadata": {},
     "output_type": "execute_result"
    }
   ],
   "source": [
    "# therefore, a big value like v_100 should approach the steady-state vector found in K and H\n",
    "v_100 = np.linalg.matrix_power(M,100) @ state_vector.T\n",
    "v_100"
   ]
  },
  {
   "cell_type": "markdown",
   "id": "7e17c2c0-7c3c-468a-9199-bf4ce3c9d451",
   "metadata": {},
   "source": [
    "### L.) How many penguins at Tux Diner after a year (a long time) ?\n",
    "- How many penguins would you expect to see at the Tuxedo Diner in one year (assuming the population of penguins hasn’t changed)."
   ]
  },
  {
   "cell_type": "code",
   "execution_count": 43,
   "id": "e0d83927-3cc4-4adb-8360-469b49c6507c",
   "metadata": {},
   "outputs": [
    {
     "name": "stdout",
     "output_type": "stream",
     "text": [
      "41666 Penguins at Tuxedo Diner after 365 days.\n"
     ]
    }
   ],
   "source": [
    "v_365 = np.linalg.matrix_power(M,365) @ state_vector.T\n",
    "penguinDistribution_365Days = v_365 * 100000\n",
    "tuxDiner = int(penguinDistribution_365Days[0][0])\n",
    "print(f'{tuxDiner} Penguins at Tuxedo Diner after 365 days.')"
   ]
  },
  {
   "cell_type": "code",
   "execution_count": 44,
   "id": "3d156b90-3fe0-44db-8358-ecca70291518",
   "metadata": {},
   "outputs": [
    {
     "data": {
      "text/plain": [
       "array([[41666.66666667],\n",
       "       [33333.33333333],\n",
       "       [25000.        ]])"
      ]
     },
     "execution_count": 44,
     "metadata": {},
     "output_type": "execute_result"
    }
   ],
   "source": [
    "100000 * v_365"
   ]
  },
  {
   "cell_type": "code",
   "execution_count": null,
   "id": "a83d08f7-2290-4c9d-94cf-5f9c51da1fa6",
   "metadata": {},
   "outputs": [],
   "source": []
  }
 ],
 "metadata": {
  "kernelspec": {
   "display_name": "tf",
   "language": "python",
   "name": "python3"
  },
  "language_info": {
   "codemirror_mode": {
    "name": "ipython",
    "version": 3
   },
   "file_extension": ".py",
   "mimetype": "text/x-python",
   "name": "python",
   "nbconvert_exporter": "python",
   "pygments_lexer": "ipython3",
   "version": "3.9.16"
  }
 },
 "nbformat": 4,
 "nbformat_minor": 5
}
